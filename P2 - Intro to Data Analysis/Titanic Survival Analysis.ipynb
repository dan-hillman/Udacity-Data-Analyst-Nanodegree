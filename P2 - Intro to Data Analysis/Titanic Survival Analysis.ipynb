{
 "cells": [
  {
   "cell_type": "markdown",
   "metadata": {},
   "source": [
    "# Titanic Passenger Survival Analysis \n",
    "## by [Dan Hillman](http://danhillman.dev)\n",
    "### **BEFORE READING**\n",
    "This project was originally a submission as part of Udacity's Data Scientist Nanodegree program in 2017. Originally, the code was written in Python 2.7 but has been since updated to Python 3."
   ]
  },
  {
   "cell_type": "markdown",
   "metadata": {},
   "source": [
    "## 1. Purpose of this Analysis"
   ]
  },
  {
   "cell_type": "markdown",
   "metadata": {},
   "source": [
    "There are four independent variables that will be analyzed in this report:\n",
    "1. **Ticket Fare**\n",
    "    * Did passengers who paid for a ticket with a price *higher* than the overall mean ticket price have a better chance of surviving than passengers who paid for a ticket with a price *lower* than the overall mean ticket price?\n",
    "    * Was the difference between fare values of survivng passengers and the fare values of non-survivng passengers *statistically significant*?\n",
    "2. **Age**\n",
    "    * Did passengers whose age was *less* than the overall mean age have a better chance of surviving than passengers whose age was *greater* than the overall mean age?\n",
    "    * Were there any age groups with mean survival percentages that were much different than other age groups' survival percentages?\n",
    "3. **Sex**\n",
    "    * Did one sex have a better chance than surviving than the other? If so, was the result statistically significant?\n",
    "4. **Port of Departure (Embarked)**\n",
    "    * Which port of departure had the highest passenger survival rate?\n",
    "\n",
    "The dependent variable in this analysis is the **survival** of each pasenger."
   ]
  },
  {
   "cell_type": "markdown",
   "metadata": {},
   "source": [
    "## 2. Data Cleaning"
   ]
  },
  {
   "cell_type": "markdown",
   "metadata": {},
   "source": [
    "### Counting non-blank data\n",
    "The supplied CSV file contains 891 records of passenger data. To find out which relevant columns contain blank records, each relevant column's data has been counted.\n",
    "\n",
    "The **Fare** and **Sex** columns contain no blank records.\n",
    "\n",
    "The **Age** column contains 177 blank records.\n",
    "\n",
    "The **Embarked** column contains 2 blank records."
   ]
  },
  {
   "cell_type": "code",
   "execution_count": 1,
   "metadata": {},
   "outputs": [
    {
     "name": "stdout",
     "output_type": "stream",
     "text": [
      "<class 'pandas.core.frame.DataFrame'>\n",
      "RangeIndex: 891 entries, 0 to 890\n",
      "Data columns (total 12 columns):\n",
      "PassengerId    891 non-null int64\n",
      "Survived       891 non-null int64\n",
      "Pclass         891 non-null int64\n",
      "Name           891 non-null object\n",
      "Sex            891 non-null object\n",
      "Age            714 non-null float64\n",
      "SibSp          891 non-null int64\n",
      "Parch          891 non-null int64\n",
      "Ticket         891 non-null object\n",
      "Fare           891 non-null float64\n",
      "Cabin          204 non-null object\n",
      "Embarked       889 non-null object\n",
      "dtypes: float64(2), int64(5), object(5)\n",
      "memory usage: 83.6+ KB\n"
     ]
    }
   ],
   "source": [
    "import pandas as pd\n",
    "import numpy as np\n",
    "import matplotlib.patches as mpatches\n",
    "import matplotlib.pyplot as plt\n",
    "import seaborn as sns\n",
    "\n",
    "filename = \"titanic.csv\"\n",
    "titanic_df = pd.read_csv(filename)\n",
    "\n",
    "titanic_df.info()"
   ]
  },
  {
   "cell_type": "code",
   "execution_count": 2,
   "metadata": {},
   "outputs": [
    {
     "name": "stdout",
     "output_type": "stream",
     "text": [
      "Count of # of non-blank records:\n",
      "\n",
      "Fare: 891\n",
      "Blanks: 0\n",
      "\n",
      "Age: 714\n",
      "Blanks: 177\n",
      "\n",
      "Sex: 891\n",
      "Blanks: 0\n",
      "\n",
      "Embarked: 889\n",
      "Blanks: 2\n"
     ]
    }
   ],
   "source": [
    "row_count = titanic_df.shape[0]\n",
    "\n",
    "fare_count = titanic_df.loc[:,'Fare'].count()\n",
    "age_count = titanic_df.loc[:,'Age'].count()\n",
    "sex_count = titanic_df.loc[:,'Sex'].count()\n",
    "embarked_count = titanic_df.loc[:,'Embarked'].count()\n",
    "        \n",
    "print('Count of # of non-blank records:')\n",
    "print('')\n",
    "print('Fare: {}'.format(fare_count))\n",
    "print('Blanks: {}'.format(row_count - fare_count))\n",
    "print('')\n",
    "print('Age: {}'.format(age_count))\n",
    "print('Blanks: {}'.format(row_count - age_count))\n",
    "print('')\n",
    "print('Sex: {}'.format(sex_count))\n",
    "print('Blanks: {}'.format(row_count - sex_count))\n",
    "print('')\n",
    "print('Embarked: {}'.format(embarked_count))\n",
    "print('Blanks: {}'.format(row_count - embarked_count))"
   ]
  },
  {
   "cell_type": "markdown",
   "metadata": {},
   "source": [
    "### Removing rows containing blank data\n",
    "For each relevant column containing blank data, a \"dropNA\" dataframe has been created that removes rows containing blank data in that specific column. To ensure that Pandas' \"dropNA\" method has been performed correctly, a count of the number of rows contained in each new DataFrame has been performed. The number of rows in the new DataFrame should equal the number of non-blank records counted in the previous cell. \n",
    "\n",
    "The DataFrames used for analyzing the **Ticket Fare** variable and **Sex** variable do not require removal of any rows because there is no blank data in either of these columns. The DataFrames used for these variables will contain 891 rows.\n",
    "\n",
    "The DataFrame used for analyzing the **Age** variable requires removal of rows that contain blank data in the Age column. The DataFrame used for analyzing this variable will contain 714 rows.\n",
    "\n",
    "The DataFrame used for analyzing the **Embarked** variable requires removal of rows that contain blank data in the Embarked column. The DataFrame used for analyzing this variable will contain 889 rows."
   ]
  },
  {
   "cell_type": "code",
   "execution_count": 3,
   "metadata": {},
   "outputs": [
    {
     "name": "stdout",
     "output_type": "stream",
     "text": [
      "Row count for cleaned DataFrames previosly containing blank data:\n",
      "\n",
      "Age: 714 rows\n",
      "The DataFrame cleaning for the analysis of the Age variable was successful.\n",
      "\n",
      "Embarked: 889 rows\n",
      "The DataFrame cleaning for the analysis of the Embarked variable was successful.\n",
      "\n"
     ]
    }
   ],
   "source": [
    "age_dropna_df = titanic_df.copy()\n",
    "age_dropna_df.dropna(subset=['Age'], inplace=True)\n",
    "\n",
    "embarked_dropna_df = titanic_df.copy()\n",
    "embarked_dropna_df.dropna(subset=['Embarked'], inplace=True)\n",
    "\n",
    "def print_cleaning_report(age_count, embarked_count, age_dropna_df, embarked_dropna_df):\n",
    "    str_list = ['Age', 'Embarked']\n",
    "    cleaned_df_list = [age_dropna_df, embarked_dropna_df]\n",
    "    count_list = [age_count, embarked_count]\n",
    "    print('Row count for cleaned DataFrames previosly containing blank data:')\n",
    "    print('')\n",
    "    for string, df, count in zip(str_list, cleaned_df_list, count_list):\n",
    "        print('{}: {} rows'.format(string, df.shape[0]))\n",
    "        if count == df.shape[0]:\n",
    "            print('The DataFrame cleaning for the analysis of the {} variable was successful.'.format(string))\n",
    "        else:\n",
    "            print('ERROR: DataFrame cleaning for the analysis of the {} variable was NOT successful.'.format(string))\n",
    "        print('')\n",
    "\n",
    "print_cleaning_report(age_count, embarked_count, age_dropna_df, embarked_dropna_df)"
   ]
  },
  {
   "cell_type": "markdown",
   "metadata": {},
   "source": [
    "### Removing Unnecessary Columns\n",
    "For the sake of simplicity, the separate DataFrames used for analyzing each independent variable will initially include only the \"Survived\" column and the independent variable's column."
   ]
  },
  {
   "cell_type": "markdown",
   "metadata": {},
   "source": [
    "#### Custom Function for Dropping Unncessary Columns\n",
    "Since there are many more rows to be dropped than kept in each DataFrame, it is practical to create a function that accepts an argument for a list of rows to keep. Pandas' \"drop\" method only accepts an argument for a list of columns to drop, so the \"drop_columns_inplace\" function below accepts an argument for a list of columns to keep."
   ]
  },
  {
   "cell_type": "code",
   "execution_count": 4,
   "metadata": {},
   "outputs": [],
   "source": [
    "def drop_columns_inplace(df, columns_to_keep):\n",
    "    column_list = list(df)\n",
    "    columns_to_drop_list = []\n",
    "    for column in column_list:\n",
    "        if column not in columns_to_keep:\n",
    "            columns_to_drop_list.append(column)\n",
    "    df.drop(labels=columns_to_drop_list, axis=1, inplace=True)"
   ]
  },
  {
   "cell_type": "markdown",
   "metadata": {},
   "source": [
    "#### Fare DataFrame"
   ]
  },
  {
   "cell_type": "markdown",
   "metadata": {},
   "source": [
    "##### Checking for Major Outliers\n",
    "The histogram showing frequency of passenger fare shows some outlier(s) in the ~460 to ~510 range. To ensure that these value(s) do not skew the analysis of fare data, any fares over 200 will be removed."
   ]
  },
  {
   "cell_type": "code",
   "execution_count": 5,
   "metadata": {},
   "outputs": [
    {
     "data": {
      "text/html": [
       "<div>\n",
       "<style scoped>\n",
       "    .dataframe tbody tr th:only-of-type {\n",
       "        vertical-align: middle;\n",
       "    }\n",
       "\n",
       "    .dataframe tbody tr th {\n",
       "        vertical-align: top;\n",
       "    }\n",
       "\n",
       "    .dataframe thead th {\n",
       "        text-align: right;\n",
       "    }\n",
       "</style>\n",
       "<table border=\"1\" class=\"dataframe\">\n",
       "  <thead>\n",
       "    <tr style=\"text-align: right;\">\n",
       "      <th></th>\n",
       "      <th>Survived</th>\n",
       "      <th>Fare</th>\n",
       "    </tr>\n",
       "  </thead>\n",
       "  <tbody>\n",
       "    <tr>\n",
       "      <th>0</th>\n",
       "      <td>0</td>\n",
       "      <td>7.2500</td>\n",
       "    </tr>\n",
       "    <tr>\n",
       "      <th>1</th>\n",
       "      <td>1</td>\n",
       "      <td>71.2833</td>\n",
       "    </tr>\n",
       "    <tr>\n",
       "      <th>2</th>\n",
       "      <td>1</td>\n",
       "      <td>7.9250</td>\n",
       "    </tr>\n",
       "    <tr>\n",
       "      <th>3</th>\n",
       "      <td>1</td>\n",
       "      <td>53.1000</td>\n",
       "    </tr>\n",
       "    <tr>\n",
       "      <th>4</th>\n",
       "      <td>0</td>\n",
       "      <td>8.0500</td>\n",
       "    </tr>\n",
       "  </tbody>\n",
       "</table>\n",
       "</div>"
      ],
      "text/plain": [
       "   Survived     Fare\n",
       "0         0   7.2500\n",
       "1         1  71.2833\n",
       "2         1   7.9250\n",
       "3         1  53.1000\n",
       "4         0   8.0500"
      ]
     },
     "execution_count": 5,
     "metadata": {},
     "output_type": "execute_result"
    }
   ],
   "source": [
    "fare_cleaned_df = titanic_df.copy()\n",
    "\n",
    "drop_columns_inplace(fare_cleaned_df, ['Fare','Survived'])\n",
    "\n",
    "fare_cleaned_df.head()"
   ]
  },
  {
   "cell_type": "code",
   "execution_count": 6,
   "metadata": {},
   "outputs": [
    {
     "data": {
      "text/html": [
       "<div>\n",
       "<style scoped>\n",
       "    .dataframe tbody tr th:only-of-type {\n",
       "        vertical-align: middle;\n",
       "    }\n",
       "\n",
       "    .dataframe tbody tr th {\n",
       "        vertical-align: top;\n",
       "    }\n",
       "\n",
       "    .dataframe thead th {\n",
       "        text-align: right;\n",
       "    }\n",
       "</style>\n",
       "<table border=\"1\" class=\"dataframe\">\n",
       "  <thead>\n",
       "    <tr style=\"text-align: right;\">\n",
       "      <th></th>\n",
       "      <th>count</th>\n",
       "      <th>mean</th>\n",
       "    </tr>\n",
       "    <tr>\n",
       "      <th>Survived</th>\n",
       "      <th></th>\n",
       "      <th></th>\n",
       "    </tr>\n",
       "  </thead>\n",
       "  <tbody>\n",
       "    <tr>\n",
       "      <th>0</th>\n",
       "      <td>549.0</td>\n",
       "      <td>22.117887</td>\n",
       "    </tr>\n",
       "    <tr>\n",
       "      <th>1</th>\n",
       "      <td>342.0</td>\n",
       "      <td>48.395408</td>\n",
       "    </tr>\n",
       "  </tbody>\n",
       "</table>\n",
       "</div>"
      ],
      "text/plain": [
       "          count       mean\n",
       "Survived                  \n",
       "0         549.0  22.117887\n",
       "1         342.0  48.395408"
      ]
     },
     "execution_count": 6,
     "metadata": {},
     "output_type": "execute_result"
    },
    {
     "data": {
      "image/png": "[encoded data removed]",
      "text/plain": [
       "<Figure size 432x288 with 1 Axes>"
      ]
     },
     "metadata": {
      "needs_background": "light"
     },
     "output_type": "display_data"
    }
   ],
   "source": [
    "%matplotlib inline\n",
    "\n",
    "plt.hist(fare_cleaned_df['Fare'].values, color='blue')\n",
    "plt.title(\"Histogram of Passenger Fare\")\n",
    "plt.xlabel(\"Fare\")\n",
    "plt.ylabel(\"Frequency\")\n",
    "grouped_fare_cleaned_df = fare_cleaned_df.copy()\n",
    "\n",
    "grouped_fare_cleaned_df = grouped_fare_cleaned_df.groupby(['Survived'], as_index=True)['Fare']\n",
    "grouped_fare_cleaned_df.describe().loc[:,['count','mean']]"
   ]
  },
  {
   "cell_type": "markdown",
   "metadata": {},
   "source": [
    "##### Dropping Rows with Fares > 200"
   ]
  },
  {
   "cell_type": "code",
   "execution_count": 7,
   "metadata": {},
   "outputs": [
    {
     "data": {
      "text/html": [
       "<div>\n",
       "<style scoped>\n",
       "    .dataframe tbody tr th:only-of-type {\n",
       "        vertical-align: middle;\n",
       "    }\n",
       "\n",
       "    .dataframe tbody tr th {\n",
       "        vertical-align: top;\n",
       "    }\n",
       "\n",
       "    .dataframe thead th {\n",
       "        text-align: right;\n",
       "    }\n",
       "</style>\n",
       "<table border=\"1\" class=\"dataframe\">\n",
       "  <thead>\n",
       "    <tr style=\"text-align: right;\">\n",
       "      <th></th>\n",
       "      <th>count</th>\n",
       "      <th>mean</th>\n",
       "    </tr>\n",
       "    <tr>\n",
       "      <th>Survived</th>\n",
       "      <th></th>\n",
       "      <th></th>\n",
       "    </tr>\n",
       "  </thead>\n",
       "  <tbody>\n",
       "    <tr>\n",
       "      <th>0</th>\n",
       "      <td>543.0</td>\n",
       "      <td>19.720801</td>\n",
       "    </tr>\n",
       "    <tr>\n",
       "      <th>1</th>\n",
       "      <td>328.0</td>\n",
       "      <td>37.802998</td>\n",
       "    </tr>\n",
       "  </tbody>\n",
       "</table>\n",
       "</div>"
      ],
      "text/plain": [
       "          count       mean\n",
       "Survived                  \n",
       "0         543.0  19.720801\n",
       "1         328.0  37.802998"
      ]
     },
     "execution_count": 7,
     "metadata": {},
     "output_type": "execute_result"
    },
    {
     "data": {
      "image/png": "[encoded data removed]",
      "text/plain": [
       "<Figure size 432x288 with 1 Axes>"
      ]
     },
     "metadata": {
      "needs_background": "light"
     },
     "output_type": "display_data"
    }
   ],
   "source": [
    "fare_cleaned_df = fare_cleaned_df.drop(fare_cleaned_df[fare_cleaned_df.Fare > 200].index)\n",
    "\n",
    "%matplotlib inline\n",
    "\n",
    "plt.hist(fare_cleaned_df['Fare'].values, color='blue')\n",
    "plt.title(\"Histogram of Passenger Fare\")\n",
    "plt.xlabel(\"Fare\")\n",
    "plt.ylabel(\"Frequency\")\n",
    "\n",
    "grouped_fare_cleaned_df = fare_cleaned_df.copy()\n",
    "\n",
    "grouped_fare_cleaned_df = grouped_fare_cleaned_df.groupby(['Survived'], as_index=True)['Fare']\n",
    "grouped_fare_cleaned_df.describe().loc[:,['count','mean']]"
   ]
  },
  {
   "cell_type": "markdown",
   "metadata": {},
   "source": [
    "#### Sex DataFrame"
   ]
  },
  {
   "cell_type": "code",
   "execution_count": 8,
   "metadata": {},
   "outputs": [
    {
     "data": {
      "text/html": [
       "<div>\n",
       "<style scoped>\n",
       "    .dataframe tbody tr th:only-of-type {\n",
       "        vertical-align: middle;\n",
       "    }\n",
       "\n",
       "    .dataframe tbody tr th {\n",
       "        vertical-align: top;\n",
       "    }\n",
       "\n",
       "    .dataframe thead th {\n",
       "        text-align: right;\n",
       "    }\n",
       "</style>\n",
       "<table border=\"1\" class=\"dataframe\">\n",
       "  <thead>\n",
       "    <tr style=\"text-align: right;\">\n",
       "      <th></th>\n",
       "      <th>Survived</th>\n",
       "      <th>Sex</th>\n",
       "    </tr>\n",
       "  </thead>\n",
       "  <tbody>\n",
       "    <tr>\n",
       "      <th>0</th>\n",
       "      <td>0</td>\n",
       "      <td>male</td>\n",
       "    </tr>\n",
       "    <tr>\n",
       "      <th>1</th>\n",
       "      <td>1</td>\n",
       "      <td>female</td>\n",
       "    </tr>\n",
       "    <tr>\n",
       "      <th>2</th>\n",
       "      <td>1</td>\n",
       "      <td>female</td>\n",
       "    </tr>\n",
       "    <tr>\n",
       "      <th>3</th>\n",
       "      <td>1</td>\n",
       "      <td>female</td>\n",
       "    </tr>\n",
       "    <tr>\n",
       "      <th>4</th>\n",
       "      <td>0</td>\n",
       "      <td>male</td>\n",
       "    </tr>\n",
       "  </tbody>\n",
       "</table>\n",
       "</div>"
      ],
      "text/plain": [
       "   Survived     Sex\n",
       "0         0    male\n",
       "1         1  female\n",
       "2         1  female\n",
       "3         1  female\n",
       "4         0    male"
      ]
     },
     "execution_count": 8,
     "metadata": {},
     "output_type": "execute_result"
    }
   ],
   "source": [
    "sex_cleaned_df = titanic_df.copy()\n",
    "\n",
    "drop_columns_inplace(sex_cleaned_df, ['Survived','Sex'])\n",
    "\n",
    "sex_cleaned_df.head()"
   ]
  },
  {
   "cell_type": "code",
   "execution_count": 9,
   "metadata": {},
   "outputs": [
    {
     "data": {
      "text/html": [
       "<div>\n",
       "<style scoped>\n",
       "    .dataframe tbody tr th:only-of-type {\n",
       "        vertical-align: middle;\n",
       "    }\n",
       "\n",
       "    .dataframe tbody tr th {\n",
       "        vertical-align: top;\n",
       "    }\n",
       "\n",
       "    .dataframe thead th {\n",
       "        text-align: right;\n",
       "    }\n",
       "</style>\n",
       "<table border=\"1\" class=\"dataframe\">\n",
       "  <thead>\n",
       "    <tr style=\"text-align: right;\">\n",
       "      <th></th>\n",
       "      <th></th>\n",
       "      <th>Survived</th>\n",
       "    </tr>\n",
       "    <tr>\n",
       "      <th>Sex</th>\n",
       "      <th>Survived</th>\n",
       "      <th></th>\n",
       "    </tr>\n",
       "  </thead>\n",
       "  <tbody>\n",
       "    <tr>\n",
       "      <th rowspan=\"2\" valign=\"top\">female</th>\n",
       "      <th>0</th>\n",
       "      <td>81</td>\n",
       "    </tr>\n",
       "    <tr>\n",
       "      <th>1</th>\n",
       "      <td>233</td>\n",
       "    </tr>\n",
       "    <tr>\n",
       "      <th rowspan=\"2\" valign=\"top\">male</th>\n",
       "      <th>0</th>\n",
       "      <td>468</td>\n",
       "    </tr>\n",
       "    <tr>\n",
       "      <th>1</th>\n",
       "      <td>109</td>\n",
       "    </tr>\n",
       "  </tbody>\n",
       "</table>\n",
       "</div>"
      ],
      "text/plain": [
       "                 Survived\n",
       "Sex    Survived          \n",
       "female 0               81\n",
       "       1              233\n",
       "male   0              468\n",
       "       1              109"
      ]
     },
     "execution_count": 9,
     "metadata": {},
     "output_type": "execute_result"
    },
    {
     "data": {
      "image/png": "[encoded data removed]",
      "text/plain": [
       "<Figure size 432x288 with 1 Axes>"
      ]
     },
     "metadata": {
      "needs_background": "light"
     },
     "output_type": "display_data"
    }
   ],
   "source": [
    "grouped_sex_cleaned_df = sex_cleaned_df.copy()\n",
    "grouped_sex_cleaned_df = grouped_sex_cleaned_df.groupby(['Sex','Survived'], as_index=True)\n",
    "\n",
    "grouped_sex_cleaned_df[['Survived']].count().unstack().plot(kind='bar').set_ylabel('Count')\n",
    "grouped_sex_cleaned_df[['Survived']].count()"
   ]
  },
  {
   "cell_type": "markdown",
   "metadata": {},
   "source": [
    "#### Age DataFrame"
   ]
  },
  {
   "cell_type": "code",
   "execution_count": 10,
   "metadata": {},
   "outputs": [
    {
     "name": "stdout",
     "output_type": "stream",
     "text": [
      "Age DataFrame Preview:\n"
     ]
    },
    {
     "data": {
      "text/html": [
       "<div>\n",
       "<style scoped>\n",
       "    .dataframe tbody tr th:only-of-type {\n",
       "        vertical-align: middle;\n",
       "    }\n",
       "\n",
       "    .dataframe tbody tr th {\n",
       "        vertical-align: top;\n",
       "    }\n",
       "\n",
       "    .dataframe thead th {\n",
       "        text-align: right;\n",
       "    }\n",
       "</style>\n",
       "<table border=\"1\" class=\"dataframe\">\n",
       "  <thead>\n",
       "    <tr style=\"text-align: right;\">\n",
       "      <th></th>\n",
       "      <th>Survived</th>\n",
       "      <th>Age</th>\n",
       "    </tr>\n",
       "  </thead>\n",
       "  <tbody>\n",
       "    <tr>\n",
       "      <th>0</th>\n",
       "      <td>0</td>\n",
       "      <td>22.0</td>\n",
       "    </tr>\n",
       "    <tr>\n",
       "      <th>1</th>\n",
       "      <td>1</td>\n",
       "      <td>38.0</td>\n",
       "    </tr>\n",
       "    <tr>\n",
       "      <th>2</th>\n",
       "      <td>1</td>\n",
       "      <td>26.0</td>\n",
       "    </tr>\n",
       "    <tr>\n",
       "      <th>3</th>\n",
       "      <td>1</td>\n",
       "      <td>35.0</td>\n",
       "    </tr>\n",
       "    <tr>\n",
       "      <th>4</th>\n",
       "      <td>0</td>\n",
       "      <td>35.0</td>\n",
       "    </tr>\n",
       "  </tbody>\n",
       "</table>\n",
       "</div>"
      ],
      "text/plain": [
       "   Survived   Age\n",
       "0         0  22.0\n",
       "1         1  38.0\n",
       "2         1  26.0\n",
       "3         1  35.0\n",
       "4         0  35.0"
      ]
     },
     "execution_count": 10,
     "metadata": {},
     "output_type": "execute_result"
    }
   ],
   "source": [
    "age_cleaned_df = age_dropna_df\n",
    "drop_columns_inplace(age_cleaned_df, ['Age','Survived'])\n",
    "\n",
    "print('Age DataFrame Preview:')\n",
    "age_cleaned_df.head()"
   ]
  },
  {
   "cell_type": "code",
   "execution_count": 11,
   "metadata": {},
   "outputs": [
    {
     "data": {
      "text/html": [
       "<div>\n",
       "<style scoped>\n",
       "    .dataframe tbody tr th:only-of-type {\n",
       "        vertical-align: middle;\n",
       "    }\n",
       "\n",
       "    .dataframe tbody tr th {\n",
       "        vertical-align: top;\n",
       "    }\n",
       "\n",
       "    .dataframe thead th {\n",
       "        text-align: right;\n",
       "    }\n",
       "</style>\n",
       "<table border=\"1\" class=\"dataframe\">\n",
       "  <thead>\n",
       "    <tr style=\"text-align: right;\">\n",
       "      <th></th>\n",
       "      <th>Survived</th>\n",
       "      <th>Age</th>\n",
       "    </tr>\n",
       "  </thead>\n",
       "  <tbody>\n",
       "    <tr>\n",
       "      <th>count</th>\n",
       "      <td>714.000000</td>\n",
       "      <td>714.000000</td>\n",
       "    </tr>\n",
       "    <tr>\n",
       "      <th>mean</th>\n",
       "      <td>0.406162</td>\n",
       "      <td>29.699118</td>\n",
       "    </tr>\n",
       "    <tr>\n",
       "      <th>std</th>\n",
       "      <td>0.491460</td>\n",
       "      <td>14.526497</td>\n",
       "    </tr>\n",
       "    <tr>\n",
       "      <th>min</th>\n",
       "      <td>0.000000</td>\n",
       "      <td>0.420000</td>\n",
       "    </tr>\n",
       "    <tr>\n",
       "      <th>25%</th>\n",
       "      <td>0.000000</td>\n",
       "      <td>20.125000</td>\n",
       "    </tr>\n",
       "    <tr>\n",
       "      <th>50%</th>\n",
       "      <td>0.000000</td>\n",
       "      <td>28.000000</td>\n",
       "    </tr>\n",
       "    <tr>\n",
       "      <th>75%</th>\n",
       "      <td>1.000000</td>\n",
       "      <td>38.000000</td>\n",
       "    </tr>\n",
       "    <tr>\n",
       "      <th>max</th>\n",
       "      <td>1.000000</td>\n",
       "      <td>80.000000</td>\n",
       "    </tr>\n",
       "  </tbody>\n",
       "</table>\n",
       "</div>"
      ],
      "text/plain": [
       "         Survived         Age\n",
       "count  714.000000  714.000000\n",
       "mean     0.406162   29.699118\n",
       "std      0.491460   14.526497\n",
       "min      0.000000    0.420000\n",
       "25%      0.000000   20.125000\n",
       "50%      0.000000   28.000000\n",
       "75%      1.000000   38.000000\n",
       "max      1.000000   80.000000"
      ]
     },
     "execution_count": 11,
     "metadata": {},
     "output_type": "execute_result"
    },
    {
     "data": {
      "image/png": "[encoded data removed]",
      "text/plain": [
       "<Figure size 432x288 with 1 Axes>"
      ]
     },
     "metadata": {
      "needs_background": "light"
     },
     "output_type": "display_data"
    }
   ],
   "source": [
    "age_cleaned_df['Age'].plot(kind='hist')\n",
    "age_cleaned_df.describe()"
   ]
  },
  {
   "cell_type": "markdown",
   "metadata": {},
   "source": [
    "#### Embarked DataFrame"
   ]
  },
  {
   "cell_type": "code",
   "execution_count": 12,
   "metadata": {},
   "outputs": [
    {
     "name": "stdout",
     "output_type": "stream",
     "text": [
      "Embarked DataFrame Preview:\n"
     ]
    },
    {
     "data": {
      "text/html": [
       "<div>\n",
       "<style scoped>\n",
       "    .dataframe tbody tr th:only-of-type {\n",
       "        vertical-align: middle;\n",
       "    }\n",
       "\n",
       "    .dataframe tbody tr th {\n",
       "        vertical-align: top;\n",
       "    }\n",
       "\n",
       "    .dataframe thead th {\n",
       "        text-align: right;\n",
       "    }\n",
       "</style>\n",
       "<table border=\"1\" class=\"dataframe\">\n",
       "  <thead>\n",
       "    <tr style=\"text-align: right;\">\n",
       "      <th></th>\n",
       "      <th>Survived</th>\n",
       "      <th>Embarked</th>\n",
       "    </tr>\n",
       "  </thead>\n",
       "  <tbody>\n",
       "    <tr>\n",
       "      <th>0</th>\n",
       "      <td>0</td>\n",
       "      <td>S</td>\n",
       "    </tr>\n",
       "    <tr>\n",
       "      <th>1</th>\n",
       "      <td>1</td>\n",
       "      <td>C</td>\n",
       "    </tr>\n",
       "    <tr>\n",
       "      <th>2</th>\n",
       "      <td>1</td>\n",
       "      <td>S</td>\n",
       "    </tr>\n",
       "    <tr>\n",
       "      <th>3</th>\n",
       "      <td>1</td>\n",
       "      <td>S</td>\n",
       "    </tr>\n",
       "    <tr>\n",
       "      <th>4</th>\n",
       "      <td>0</td>\n",
       "      <td>S</td>\n",
       "    </tr>\n",
       "  </tbody>\n",
       "</table>\n",
       "</div>"
      ],
      "text/plain": [
       "   Survived Embarked\n",
       "0         0        S\n",
       "1         1        C\n",
       "2         1        S\n",
       "3         1        S\n",
       "4         0        S"
      ]
     },
     "execution_count": 12,
     "metadata": {},
     "output_type": "execute_result"
    }
   ],
   "source": [
    "embarked_cleaned_df = embarked_dropna_df\n",
    "drop_columns_inplace(embarked_cleaned_df, ['Embarked','Survived'])\n",
    "\n",
    "print('Embarked DataFrame Preview:')\n",
    "embarked_cleaned_df.head()"
   ]
  },
  {
   "cell_type": "markdown",
   "metadata": {},
   "source": [
    "##### Port of Embarkation Data Comments\n",
    "There is a much larger number of passengers who embarked from Southampton compared to passengers who embarked from either Cherbourg or Queenstown. With this disparity in mind, the results from the analysis of port of embarkation should not be given marked consideration."
   ]
  },
  {
   "cell_type": "code",
   "execution_count": 13,
   "metadata": {},
   "outputs": [
    {
     "data": {
      "text/html": [
       "<div>\n",
       "<style scoped>\n",
       "    .dataframe tbody tr th:only-of-type {\n",
       "        vertical-align: middle;\n",
       "    }\n",
       "\n",
       "    .dataframe tbody tr th {\n",
       "        vertical-align: top;\n",
       "    }\n",
       "\n",
       "    .dataframe thead th {\n",
       "        text-align: right;\n",
       "    }\n",
       "</style>\n",
       "<table border=\"1\" class=\"dataframe\">\n",
       "  <thead>\n",
       "    <tr style=\"text-align: right;\">\n",
       "      <th></th>\n",
       "      <th></th>\n",
       "      <th>Survived</th>\n",
       "    </tr>\n",
       "    <tr>\n",
       "      <th>Embarked</th>\n",
       "      <th>Survived</th>\n",
       "      <th></th>\n",
       "    </tr>\n",
       "  </thead>\n",
       "  <tbody>\n",
       "    <tr>\n",
       "      <th rowspan=\"2\" valign=\"top\">C</th>\n",
       "      <th>0</th>\n",
       "      <td>75</td>\n",
       "    </tr>\n",
       "    <tr>\n",
       "      <th>1</th>\n",
       "      <td>93</td>\n",
       "    </tr>\n",
       "    <tr>\n",
       "      <th rowspan=\"2\" valign=\"top\">Q</th>\n",
       "      <th>0</th>\n",
       "      <td>47</td>\n",
       "    </tr>\n",
       "    <tr>\n",
       "      <th>1</th>\n",
       "      <td>30</td>\n",
       "    </tr>\n",
       "    <tr>\n",
       "      <th rowspan=\"2\" valign=\"top\">S</th>\n",
       "      <th>0</th>\n",
       "      <td>427</td>\n",
       "    </tr>\n",
       "    <tr>\n",
       "      <th>1</th>\n",
       "      <td>217</td>\n",
       "    </tr>\n",
       "  </tbody>\n",
       "</table>\n",
       "</div>"
      ],
      "text/plain": [
       "                   Survived\n",
       "Embarked Survived          \n",
       "C        0               75\n",
       "         1               93\n",
       "Q        0               47\n",
       "         1               30\n",
       "S        0              427\n",
       "         1              217"
      ]
     },
     "execution_count": 13,
     "metadata": {},
     "output_type": "execute_result"
    },
    {
     "data": {
      "image/png": "[encoded data removed]",
      "text/plain": [
       "<Figure size 432x288 with 1 Axes>"
      ]
     },
     "metadata": {
      "needs_background": "light"
     },
     "output_type": "display_data"
    }
   ],
   "source": [
    "grouped_embarked_cleaned_df = embarked_cleaned_df.copy()\n",
    "grouped_embarked_cleaned_df = grouped_embarked_cleaned_df.groupby(['Embarked','Survived'], as_index=True)\n",
    "\n",
    "grouped_embarked_cleaned_df[['Survived']].count().unstack().plot(kind='bar').set_ylabel('Count')\n",
    "grouped_embarked_cleaned_df[['Survived']].count()"
   ]
  },
  {
   "cell_type": "markdown",
   "metadata": {},
   "source": [
    "## 3. Data Exploration"
   ]
  },
  {
   "cell_type": "markdown",
   "metadata": {},
   "source": [
    "### List of Custom Functions Used In Two or More Sections:"
   ]
  },
  {
   "cell_type": "code",
   "execution_count": 14,
   "metadata": {},
   "outputs": [],
   "source": [
    "def standardize_column(df_with_column, mean, std):\n",
    "    return (df_with_column - mean) / std\n",
    "\n",
    "def above_or_below_mean(df_with_column):\n",
    "    if df_with_column > 0:\n",
    "        return 'Above Mean'\n",
    "    else:\n",
    "        return 'Below Mean'"
   ]
  },
  {
   "cell_type": "markdown",
   "metadata": {},
   "source": [
    "### Part 1: Ticket Fare"
   ]
  },
  {
   "cell_type": "markdown",
   "metadata": {},
   "source": [
    "#### Mean Fare"
   ]
  },
  {
   "cell_type": "code",
   "execution_count": 15,
   "metadata": {},
   "outputs": [
    {
     "name": "stdout",
     "output_type": "stream",
     "text": [
      "Mean Fare:\n",
      "26.530170378874793\n"
     ]
    }
   ],
   "source": [
    "mean_fare = fare_cleaned_df['Fare'].mean()\n",
    "print('Mean Fare:')\n",
    "print(mean_fare)"
   ]
  },
  {
   "cell_type": "markdown",
   "metadata": {},
   "source": [
    "#### Standard Deviation of Fare"
   ]
  },
  {
   "cell_type": "code",
   "execution_count": 16,
   "metadata": {},
   "outputs": [
    {
     "name": "stdout",
     "output_type": "stream",
     "text": [
      "Standard Deviation of Fare:\n",
      "29.33432962153612\n"
     ]
    }
   ],
   "source": [
    "std_fare = fare_cleaned_df['Fare'].std(ddof=0)\n",
    "print('Standard Deviation of Fare:')\n",
    "print(std_fare)"
   ]
  },
  {
   "cell_type": "code",
   "execution_count": 17,
   "metadata": {},
   "outputs": [],
   "source": [
    "grouped_fare = fare_cleaned_df.copy()\n",
    "grouped_fare = grouped_fare.groupby(['Survived'], as_index=True)"
   ]
  },
  {
   "cell_type": "code",
   "execution_count": 18,
   "metadata": {},
   "outputs": [
    {
     "name": "stdout",
     "output_type": "stream",
     "text": [
      "Mean Fare by Survival Group:\n"
     ]
    },
    {
     "data": {
      "text/html": [
       "<div>\n",
       "<style scoped>\n",
       "    .dataframe tbody tr th:only-of-type {\n",
       "        vertical-align: middle;\n",
       "    }\n",
       "\n",
       "    .dataframe tbody tr th {\n",
       "        vertical-align: top;\n",
       "    }\n",
       "\n",
       "    .dataframe thead th {\n",
       "        text-align: right;\n",
       "    }\n",
       "</style>\n",
       "<table border=\"1\" class=\"dataframe\">\n",
       "  <thead>\n",
       "    <tr style=\"text-align: right;\">\n",
       "      <th></th>\n",
       "      <th>Fare</th>\n",
       "    </tr>\n",
       "    <tr>\n",
       "      <th>Survived</th>\n",
       "      <th></th>\n",
       "    </tr>\n",
       "  </thead>\n",
       "  <tbody>\n",
       "    <tr>\n",
       "      <th>0</th>\n",
       "      <td>19.720801</td>\n",
       "    </tr>\n",
       "    <tr>\n",
       "      <th>1</th>\n",
       "      <td>37.802998</td>\n",
       "    </tr>\n",
       "  </tbody>\n",
       "</table>\n",
       "</div>"
      ],
      "text/plain": [
       "               Fare\n",
       "Survived           \n",
       "0         19.720801\n",
       "1         37.802998"
      ]
     },
     "execution_count": 18,
     "metadata": {},
     "output_type": "execute_result"
    }
   ],
   "source": [
    "print('Mean Fare by Survival Group:')\n",
    "grouped_fare.mean()"
   ]
  },
  {
   "cell_type": "code",
   "execution_count": 19,
   "metadata": {},
   "outputs": [
    {
     "name": "stdout",
     "output_type": "stream",
     "text": [
      "Standard Deviation of Fare by Survival Group:\n"
     ]
    },
    {
     "data": {
      "text/html": [
       "<div>\n",
       "<style scoped>\n",
       "    .dataframe tbody tr th:only-of-type {\n",
       "        vertical-align: middle;\n",
       "    }\n",
       "\n",
       "    .dataframe tbody tr th {\n",
       "        vertical-align: top;\n",
       "    }\n",
       "\n",
       "    .dataframe thead th {\n",
       "        text-align: right;\n",
       "    }\n",
       "</style>\n",
       "<table border=\"1\" class=\"dataframe\">\n",
       "  <thead>\n",
       "    <tr style=\"text-align: right;\">\n",
       "      <th></th>\n",
       "      <th>Fare</th>\n",
       "    </tr>\n",
       "    <tr>\n",
       "      <th>Survived</th>\n",
       "      <th></th>\n",
       "    </tr>\n",
       "  </thead>\n",
       "  <tbody>\n",
       "    <tr>\n",
       "      <th>0</th>\n",
       "      <td>21.542841</td>\n",
       "    </tr>\n",
       "    <tr>\n",
       "      <th>1</th>\n",
       "      <td>36.234176</td>\n",
       "    </tr>\n",
       "  </tbody>\n",
       "</table>\n",
       "</div>"
      ],
      "text/plain": [
       "               Fare\n",
       "Survived           \n",
       "0         21.542841\n",
       "1         36.234176"
      ]
     },
     "execution_count": 19,
     "metadata": {},
     "output_type": "execute_result"
    }
   ],
   "source": [
    "print('Standard Deviation of Fare by Survival Group:')\n",
    "grouped_fare.std(ddof=0)"
   ]
  },
  {
   "cell_type": "markdown",
   "metadata": {},
   "source": [
    "#### Fare Boxplot"
   ]
  },
  {
   "cell_type": "code",
   "execution_count": 20,
   "metadata": {},
   "outputs": [
    {
     "data": {
      "text/html": [
       "<div>\n",
       "<style scoped>\n",
       "    .dataframe tbody tr th:only-of-type {\n",
       "        vertical-align: middle;\n",
       "    }\n",
       "\n",
       "    .dataframe tbody tr th {\n",
       "        vertical-align: top;\n",
       "    }\n",
       "\n",
       "    .dataframe thead th {\n",
       "        text-align: right;\n",
       "    }\n",
       "</style>\n",
       "<table border=\"1\" class=\"dataframe\">\n",
       "  <thead>\n",
       "    <tr style=\"text-align: right;\">\n",
       "      <th></th>\n",
       "      <th>mean</th>\n",
       "      <th>std</th>\n",
       "    </tr>\n",
       "    <tr>\n",
       "      <th>Survived</th>\n",
       "      <th></th>\n",
       "      <th></th>\n",
       "    </tr>\n",
       "  </thead>\n",
       "  <tbody>\n",
       "    <tr>\n",
       "      <th>0</th>\n",
       "      <td>19.720801</td>\n",
       "      <td>21.562705</td>\n",
       "    </tr>\n",
       "    <tr>\n",
       "      <th>1</th>\n",
       "      <td>37.802998</td>\n",
       "      <td>36.289537</td>\n",
       "    </tr>\n",
       "  </tbody>\n",
       "</table>\n",
       "</div>"
      ],
      "text/plain": [
       "               mean        std\n",
       "Survived                      \n",
       "0         19.720801  21.562705\n",
       "1         37.802998  36.289537"
      ]
     },
     "execution_count": 20,
     "metadata": {},
     "output_type": "execute_result"
    },
    {
     "data": {
      "image/png": "[encoded data removed]",
      "text/plain": [
       "<Figure size 432x288 with 1 Axes>"
      ]
     },
     "metadata": {
      "needs_background": "light"
     },
     "output_type": "display_data"
    }
   ],
   "source": [
    "fare_boxplot = fare_cleaned_df.copy()\n",
    "fare_boxplot.boxplot(column=['Fare'], by=['Survived']).set_yscale('log')\n",
    "\n",
    "fare_boxplot_grouped = fare_boxplot.copy()\n",
    "fare_boxplot_grouped = fare_boxplot_grouped.groupby(['Survived'], as_index=True)\n",
    "fare_boxplot_grouped['Fare'].describe().loc[:,['mean','std']]"
   ]
  },
  {
   "cell_type": "markdown",
   "metadata": {},
   "source": [
    "#### Standardizing Fare\n",
    "To be able to group the fare data by values above the mean and below the mean, a new column named \"Fare Standardized\" will be created that contains the z-score for each passenger fare. NumPy's \"vectorize\" method will be implemented to apply the custom \"standardize_column\" function to the new column."
   ]
  },
  {
   "cell_type": "code",
   "execution_count": 21,
   "metadata": {},
   "outputs": [
    {
     "data": {
      "text/html": [
       "<div>\n",
       "<style scoped>\n",
       "    .dataframe tbody tr th:only-of-type {\n",
       "        vertical-align: middle;\n",
       "    }\n",
       "\n",
       "    .dataframe tbody tr th {\n",
       "        vertical-align: top;\n",
       "    }\n",
       "\n",
       "    .dataframe thead th {\n",
       "        text-align: right;\n",
       "    }\n",
       "</style>\n",
       "<table border=\"1\" class=\"dataframe\">\n",
       "  <thead>\n",
       "    <tr style=\"text-align: right;\">\n",
       "      <th></th>\n",
       "      <th>Survived</th>\n",
       "      <th>Fare</th>\n",
       "      <th>Fare Standardized</th>\n",
       "    </tr>\n",
       "  </thead>\n",
       "  <tbody>\n",
       "    <tr>\n",
       "      <th>0</th>\n",
       "      <td>0</td>\n",
       "      <td>7.2500</td>\n",
       "      <td>-0.657256</td>\n",
       "    </tr>\n",
       "    <tr>\n",
       "      <th>1</th>\n",
       "      <td>1</td>\n",
       "      <td>71.2833</td>\n",
       "      <td>1.525623</td>\n",
       "    </tr>\n",
       "    <tr>\n",
       "      <th>2</th>\n",
       "      <td>1</td>\n",
       "      <td>7.9250</td>\n",
       "      <td>-0.634246</td>\n",
       "    </tr>\n",
       "    <tr>\n",
       "      <th>3</th>\n",
       "      <td>1</td>\n",
       "      <td>53.1000</td>\n",
       "      <td>0.905759</td>\n",
       "    </tr>\n",
       "    <tr>\n",
       "      <th>4</th>\n",
       "      <td>0</td>\n",
       "      <td>8.0500</td>\n",
       "      <td>-0.629984</td>\n",
       "    </tr>\n",
       "  </tbody>\n",
       "</table>\n",
       "</div>"
      ],
      "text/plain": [
       "   Survived     Fare  Fare Standardized\n",
       "0         0   7.2500          -0.657256\n",
       "1         1  71.2833           1.525623\n",
       "2         1   7.9250          -0.634246\n",
       "3         1  53.1000           0.905759\n",
       "4         0   8.0500          -0.629984"
      ]
     },
     "execution_count": 21,
     "metadata": {},
     "output_type": "execute_result"
    }
   ],
   "source": [
    "fare_cleaned_df_standardized = fare_cleaned_df.copy()\n",
    "\n",
    "fare_cleaned_df_standardized['Fare Standardized'] = \\\n",
    "    np.vectorize(standardize_column)(fare_cleaned_df_standardized['Fare'],mean_fare,std_fare)\n",
    "\n",
    "fare_cleaned_df_standardized.head()"
   ]
  },
  {
   "cell_type": "markdown",
   "metadata": {},
   "source": [
    "#### \"Above or Below Mean Fare\" Column\n",
    "A new column named \"Above or Below Mean Fare\" will be created using NumPy's \"vectorize\" method. This new column will assign a value of either \"Above Mean\" or \"Below Mean\" based on whether the value in \"Fare Standardized\" is greater or lesser than 0."
   ]
  },
  {
   "cell_type": "code",
   "execution_count": 22,
   "metadata": {
    "scrolled": true
   },
   "outputs": [
    {
     "data": {
      "text/html": [
       "<div>\n",
       "<style scoped>\n",
       "    .dataframe tbody tr th:only-of-type {\n",
       "        vertical-align: middle;\n",
       "    }\n",
       "\n",
       "    .dataframe tbody tr th {\n",
       "        vertical-align: top;\n",
       "    }\n",
       "\n",
       "    .dataframe thead th {\n",
       "        text-align: right;\n",
       "    }\n",
       "</style>\n",
       "<table border=\"1\" class=\"dataframe\">\n",
       "  <thead>\n",
       "    <tr style=\"text-align: right;\">\n",
       "      <th></th>\n",
       "      <th>Survived</th>\n",
       "      <th>Fare</th>\n",
       "      <th>Fare Standardized</th>\n",
       "      <th>Above Or Below Mean Fare</th>\n",
       "    </tr>\n",
       "  </thead>\n",
       "  <tbody>\n",
       "    <tr>\n",
       "      <th>0</th>\n",
       "      <td>0</td>\n",
       "      <td>7.2500</td>\n",
       "      <td>-0.657256</td>\n",
       "      <td>Below Mean</td>\n",
       "    </tr>\n",
       "    <tr>\n",
       "      <th>1</th>\n",
       "      <td>1</td>\n",
       "      <td>71.2833</td>\n",
       "      <td>1.525623</td>\n",
       "      <td>Above Mean</td>\n",
       "    </tr>\n",
       "    <tr>\n",
       "      <th>2</th>\n",
       "      <td>1</td>\n",
       "      <td>7.9250</td>\n",
       "      <td>-0.634246</td>\n",
       "      <td>Below Mean</td>\n",
       "    </tr>\n",
       "    <tr>\n",
       "      <th>3</th>\n",
       "      <td>1</td>\n",
       "      <td>53.1000</td>\n",
       "      <td>0.905759</td>\n",
       "      <td>Above Mean</td>\n",
       "    </tr>\n",
       "    <tr>\n",
       "      <th>4</th>\n",
       "      <td>0</td>\n",
       "      <td>8.0500</td>\n",
       "      <td>-0.629984</td>\n",
       "      <td>Below Mean</td>\n",
       "    </tr>\n",
       "  </tbody>\n",
       "</table>\n",
       "</div>"
      ],
      "text/plain": [
       "   Survived     Fare  Fare Standardized Above Or Below Mean Fare\n",
       "0         0   7.2500          -0.657256               Below Mean\n",
       "1         1  71.2833           1.525623               Above Mean\n",
       "2         1   7.9250          -0.634246               Below Mean\n",
       "3         1  53.1000           0.905759               Above Mean\n",
       "4         0   8.0500          -0.629984               Below Mean"
      ]
     },
     "execution_count": 22,
     "metadata": {},
     "output_type": "execute_result"
    }
   ],
   "source": [
    "fare_cleaned_df_standardized_final = fare_cleaned_df_standardized.copy()\n",
    "\n",
    "fare_cleaned_df_standardized_final['Above Or Below Mean Fare'] = \\\n",
    "    np.vectorize(above_or_below_mean)(fare_cleaned_df_standardized_final['Fare Standardized'])\n",
    "\n",
    "fare_cleaned_df_standardized_final.head()"
   ]
  },
  {
   "cell_type": "code",
   "execution_count": 23,
   "metadata": {},
   "outputs": [],
   "source": [
    "fare_cleaned_df_standardized_final = \\\n",
    "    fare_cleaned_df_standardized_final.drop(['Fare Standardized'], axis=1)\n",
    "fare_cleaned_df_standardized_final = \\\n",
    "    fare_cleaned_df_standardized_final.groupby(['Above Or Below Mean Fare','Survived'], as_index=True)"
   ]
  },
  {
   "cell_type": "markdown",
   "metadata": {},
   "source": [
    "#### Mean Fare Broken Down\n",
    "The most interesting observation from this grouped data is that in both cases where the passenger's fare is either above or below the mean, the passengers who survived paid a higher fare than those who did not survive. A possible explanation for this could be that cabins with higher fares were located closer to the top of the ship as opposed to cabins near the bottom that were not nearly as safe."
   ]
  },
  {
   "cell_type": "code",
   "execution_count": 24,
   "metadata": {},
   "outputs": [
    {
     "data": {
      "text/html": [
       "<div>\n",
       "<style scoped>\n",
       "    .dataframe tbody tr th:only-of-type {\n",
       "        vertical-align: middle;\n",
       "    }\n",
       "\n",
       "    .dataframe tbody tr th {\n",
       "        vertical-align: top;\n",
       "    }\n",
       "\n",
       "    .dataframe thead th {\n",
       "        text-align: right;\n",
       "    }\n",
       "</style>\n",
       "<table border=\"1\" class=\"dataframe\">\n",
       "  <thead>\n",
       "    <tr style=\"text-align: right;\">\n",
       "      <th></th>\n",
       "      <th></th>\n",
       "      <th>Fare</th>\n",
       "    </tr>\n",
       "    <tr>\n",
       "      <th>Above Or Below Mean Fare</th>\n",
       "      <th>Survived</th>\n",
       "      <th></th>\n",
       "    </tr>\n",
       "  </thead>\n",
       "  <tbody>\n",
       "    <tr>\n",
       "      <th rowspan=\"2\" valign=\"top\">Above Mean</th>\n",
       "      <th>0</th>\n",
       "      <td>50.159526</td>\n",
       "    </tr>\n",
       "    <tr>\n",
       "      <th>1</th>\n",
       "      <td>68.641403</td>\n",
       "    </tr>\n",
       "    <tr>\n",
       "      <th rowspan=\"2\" valign=\"top\">Below Mean</th>\n",
       "      <th>0</th>\n",
       "      <td>10.900078</td>\n",
       "    </tr>\n",
       "    <tr>\n",
       "      <th>1</th>\n",
       "      <td>14.259701</td>\n",
       "    </tr>\n",
       "  </tbody>\n",
       "</table>\n",
       "</div>"
      ],
      "text/plain": [
       "                                        Fare\n",
       "Above Or Below Mean Fare Survived           \n",
       "Above Mean               0         50.159526\n",
       "                         1         68.641403\n",
       "Below Mean               0         10.900078\n",
       "                         1         14.259701"
      ]
     },
     "execution_count": 24,
     "metadata": {},
     "output_type": "execute_result"
    }
   ],
   "source": [
    "fare_cleaned_df_standardized_final.mean()"
   ]
  },
  {
   "cell_type": "code",
   "execution_count": 25,
   "metadata": {},
   "outputs": [],
   "source": [
    "fare_survival_grouped = fare_cleaned_df.copy()\n",
    "fare_survival_grouped = fare_survival_grouped.groupby('Survived')\n",
    "\n",
    "survived_fare_values = fare_survival_grouped.get_group(1)['Fare'].values\n",
    "not_survived_fare_values = fare_survival_grouped.get_group(0)['Fare'].values"
   ]
  },
  {
   "cell_type": "markdown",
   "metadata": {},
   "source": [
    "#### Histogram of Fare of Surviving and Non-Surviving Passengers\n",
    "Presented below is a histogram of passengers' fare data who survived and of those whom did not survive. Note the large frequency of non-surviving passenger fare in the 0 to ~20 range compared to surviving passenger fare in the same range. Also worth noting is the large difference between frequencies of surviving and non-surviving passenger fares in the ~50 to ~150 range."
   ]
  },
  {
   "cell_type": "code",
   "execution_count": 26,
   "metadata": {},
   "outputs": [
    {
     "data": {
      "text/plain": [
       "<matplotlib.legend.Legend at 0x7fdbb973edd8>"
      ]
     },
     "execution_count": 26,
     "metadata": {},
     "output_type": "execute_result"
    },
    {
     "data": {
      "image/png": "[encoded data removed]",
      "text/plain": [
       "<Figure size 432x288 with 1 Axes>"
      ]
     },
     "metadata": {
      "needs_background": "light"
     },
     "output_type": "display_data"
    }
   ],
   "source": [
    "import matplotlib.patches as mpatches\n",
    "import matplotlib.pyplot as plt\n",
    "import seaborn as sns\n",
    "%matplotlib inline\n",
    "\n",
    "plt.hist(survived_fare_values, color='green')\n",
    "plt.hist(not_survived_fare_values, color='red', alpha=0.5)\n",
    "plt.title(\"Histogram of Fare of Surviving and Non-Surviving Passengers\")\n",
    "plt.xlabel(\"Fare\")\n",
    "plt.ylabel(\"Frequency\")\n",
    "green_patch = mpatches.Patch(color='green', label='Surviving Passenger Fare')\n",
    "red_patch = mpatches.Patch(color='red', label='Non-Surviving Passenger Fare')\n",
    "plt.legend(handles=[green_patch, red_patch])"
   ]
  },
  {
   "cell_type": "markdown",
   "metadata": {},
   "source": [
    "#### Statistical Significance Test: Mann-Whitney U Test for Fare Data\n",
    "To test for statistical significance between the fare data of surviving passengers and fare data of non-surviving passengers, the Mann-Whitney U-Test will be used. The Mann-Whitney U-Test is the most applicable statistical test in this instance because the Mann-Whitney U-Test does not require the distributions of the samples to be normally distributed or have the same sample sizes unlike an independent t-test.\n",
    "\n",
    "An independent t-test would not be applicable in this instance because the sample sizes of the fare data for surviving and non-surviving passengers are different and are not normally distributed as seen in the previous cell.\n",
    "\n",
    "To conduct a Mann-Whitney U-Test, the \"mannwhitneyu\" method from the \"stats\" package of scipy will be implemented. The \"mannwhitneyu\" method returns a tuple containing a U-statistic and a P-Value. The P-Value is the most informative metric in this case. The \"alternative\" argument in the \"mannwhitneyu\" method with the value \"greater\" sets the method to conduct a one-sided test to check if the surviving passenger fare values are *significantly* greater than the non-surviving fare values.\n",
    "\n",
    "The significance will be tested at alpha = 0.05 in a one-tailed test.\n",
    "\n",
    "##### HYPOTHESES:\n",
    "\n",
    "Null Hypothesis: Survived Fare Values = Non-Survived Fare Values\n",
    "\n",
    "Alternative Hypothesis: Survived Fare Values > Non-Survived Fare Values\n",
    "\n",
    "##### RESULTS:\n",
    "\n",
    "According to the results of the test, the surviving passenger fare values are *statistically significantly* greater than the non-surviving fare values with a P-value of 1.179e-20 at alpha = 0.05. **The null hypothesis is rejected.**"
   ]
  },
  {
   "cell_type": "code",
   "execution_count": 27,
   "metadata": {},
   "outputs": [
    {
     "name": "stdout",
     "output_type": "stream",
     "text": [
      "Mann-Whitney U Test Results for Fare Values of Surviving and Non-Surviving Passengers:\n",
      "\n",
      "MannwhitneyuResult(statistic=122302.5, pvalue=1.1789432800624655e-20)\n"
     ]
    }
   ],
   "source": [
    "from scipy import stats\n",
    "\n",
    "mann_whitney_u_fare_results = stats.mannwhitneyu\\\n",
    "    (survived_fare_values, not_survived_fare_values, alternative='greater')\n",
    "\n",
    "print('Mann-Whitney U Test Results for Fare Values of Surviving and Non-Surviving Passengers:')\n",
    "print('')\n",
    "print(mann_whitney_u_fare_results)"
   ]
  },
  {
   "cell_type": "code",
   "execution_count": 28,
   "metadata": {},
   "outputs": [
    {
     "name": "stdout",
     "output_type": "stream",
     "text": [
      "Mann-Whitney U Test P-Value for Fare Values of Surviving and Non-Surviving Passengers:\n",
      "\n",
      "p-value = 1.1789432800624655e-20\n"
     ]
    }
   ],
   "source": [
    "print('Mann-Whitney U Test P-Value for Fare Values of Surviving and Non-Surviving Passengers:')\n",
    "print('')\n",
    "print('p-value = {}'.format(mann_whitney_u_fare_results[1]))"
   ]
  },
  {
   "cell_type": "markdown",
   "metadata": {},
   "source": [
    "### Part 2: Age"
   ]
  },
  {
   "cell_type": "markdown",
   "metadata": {},
   "source": [
    "#### Mean Age"
   ]
  },
  {
   "cell_type": "code",
   "execution_count": 29,
   "metadata": {},
   "outputs": [
    {
     "name": "stdout",
     "output_type": "stream",
     "text": [
      "Mean Age:\n",
      "29.69911764705882\n"
     ]
    }
   ],
   "source": [
    "mean_age = age_cleaned_df['Age'].mean()\n",
    "print('Mean Age:')\n",
    "print(mean_age)"
   ]
  },
  {
   "cell_type": "markdown",
   "metadata": {},
   "source": [
    "#### Standard Deviation of Age"
   ]
  },
  {
   "cell_type": "code",
   "execution_count": 30,
   "metadata": {},
   "outputs": [
    {
     "name": "stdout",
     "output_type": "stream",
     "text": [
      "Standard Deviation of Age:\n",
      "14.516321150817317\n"
     ]
    }
   ],
   "source": [
    "std_age = age_cleaned_df['Age'].std(ddof=0)\n",
    "print('Standard Deviation of Age:')\n",
    "print(std_age)"
   ]
  },
  {
   "cell_type": "code",
   "execution_count": 31,
   "metadata": {},
   "outputs": [],
   "source": [
    "grouped_age = age_cleaned_df.copy()\n",
    "grouped_age = grouped_age.groupby(['Survived'], as_index=False)"
   ]
  },
  {
   "cell_type": "code",
   "execution_count": 32,
   "metadata": {},
   "outputs": [
    {
     "name": "stdout",
     "output_type": "stream",
     "text": [
      "Mean Age by Survival Group:\n"
     ]
    },
    {
     "data": {
      "text/html": [
       "<div>\n",
       "<style scoped>\n",
       "    .dataframe tbody tr th:only-of-type {\n",
       "        vertical-align: middle;\n",
       "    }\n",
       "\n",
       "    .dataframe tbody tr th {\n",
       "        vertical-align: top;\n",
       "    }\n",
       "\n",
       "    .dataframe thead th {\n",
       "        text-align: right;\n",
       "    }\n",
       "</style>\n",
       "<table border=\"1\" class=\"dataframe\">\n",
       "  <thead>\n",
       "    <tr style=\"text-align: right;\">\n",
       "      <th></th>\n",
       "      <th>Survived</th>\n",
       "      <th>Age</th>\n",
       "    </tr>\n",
       "  </thead>\n",
       "  <tbody>\n",
       "    <tr>\n",
       "      <th>0</th>\n",
       "      <td>0</td>\n",
       "      <td>30.626179</td>\n",
       "    </tr>\n",
       "    <tr>\n",
       "      <th>1</th>\n",
       "      <td>1</td>\n",
       "      <td>28.343690</td>\n",
       "    </tr>\n",
       "  </tbody>\n",
       "</table>\n",
       "</div>"
      ],
      "text/plain": [
       "   Survived        Age\n",
       "0         0  30.626179\n",
       "1         1  28.343690"
      ]
     },
     "execution_count": 32,
     "metadata": {},
     "output_type": "execute_result"
    }
   ],
   "source": [
    "print('Mean Age by Survival Group:')\n",
    "grouped_age.mean()"
   ]
  },
  {
   "cell_type": "markdown",
   "metadata": {},
   "source": [
    "#### Standardizing Age"
   ]
  },
  {
   "cell_type": "code",
   "execution_count": 33,
   "metadata": {},
   "outputs": [
    {
     "data": {
      "text/html": [
       "<div>\n",
       "<style scoped>\n",
       "    .dataframe tbody tr th:only-of-type {\n",
       "        vertical-align: middle;\n",
       "    }\n",
       "\n",
       "    .dataframe tbody tr th {\n",
       "        vertical-align: top;\n",
       "    }\n",
       "\n",
       "    .dataframe thead th {\n",
       "        text-align: right;\n",
       "    }\n",
       "</style>\n",
       "<table border=\"1\" class=\"dataframe\">\n",
       "  <thead>\n",
       "    <tr style=\"text-align: right;\">\n",
       "      <th></th>\n",
       "      <th>Survived</th>\n",
       "      <th>Age</th>\n",
       "      <th>Age Standardized</th>\n",
       "    </tr>\n",
       "  </thead>\n",
       "  <tbody>\n",
       "    <tr>\n",
       "      <th>0</th>\n",
       "      <td>0</td>\n",
       "      <td>22.0</td>\n",
       "      <td>-0.530377</td>\n",
       "    </tr>\n",
       "    <tr>\n",
       "      <th>1</th>\n",
       "      <td>1</td>\n",
       "      <td>38.0</td>\n",
       "      <td>0.571831</td>\n",
       "    </tr>\n",
       "    <tr>\n",
       "      <th>2</th>\n",
       "      <td>1</td>\n",
       "      <td>26.0</td>\n",
       "      <td>-0.254825</td>\n",
       "    </tr>\n",
       "    <tr>\n",
       "      <th>3</th>\n",
       "      <td>1</td>\n",
       "      <td>35.0</td>\n",
       "      <td>0.365167</td>\n",
       "    </tr>\n",
       "    <tr>\n",
       "      <th>4</th>\n",
       "      <td>0</td>\n",
       "      <td>35.0</td>\n",
       "      <td>0.365167</td>\n",
       "    </tr>\n",
       "  </tbody>\n",
       "</table>\n",
       "</div>"
      ],
      "text/plain": [
       "   Survived   Age  Age Standardized\n",
       "0         0  22.0         -0.530377\n",
       "1         1  38.0          0.571831\n",
       "2         1  26.0         -0.254825\n",
       "3         1  35.0          0.365167\n",
       "4         0  35.0          0.365167"
      ]
     },
     "execution_count": 33,
     "metadata": {},
     "output_type": "execute_result"
    }
   ],
   "source": [
    "age_cleaned_df_standardized = age_cleaned_df.copy()\n",
    "\n",
    "age_cleaned_df_standardized['Age Standardized'] = \\\n",
    "    np.vectorize(standardize_column)(age_cleaned_df_standardized['Age'],mean_age,std_age)\n",
    "\n",
    "age_cleaned_df_standardized.head()"
   ]
  },
  {
   "cell_type": "code",
   "execution_count": 34,
   "metadata": {
    "scrolled": true
   },
   "outputs": [
    {
     "data": {
      "text/html": [
       "<div>\n",
       "<style scoped>\n",
       "    .dataframe tbody tr th:only-of-type {\n",
       "        vertical-align: middle;\n",
       "    }\n",
       "\n",
       "    .dataframe tbody tr th {\n",
       "        vertical-align: top;\n",
       "    }\n",
       "\n",
       "    .dataframe thead th {\n",
       "        text-align: right;\n",
       "    }\n",
       "</style>\n",
       "<table border=\"1\" class=\"dataframe\">\n",
       "  <thead>\n",
       "    <tr style=\"text-align: right;\">\n",
       "      <th></th>\n",
       "      <th>Survived</th>\n",
       "      <th>Age</th>\n",
       "      <th>Age Standardized</th>\n",
       "      <th>Above Or Below Mean Age</th>\n",
       "    </tr>\n",
       "  </thead>\n",
       "  <tbody>\n",
       "    <tr>\n",
       "      <th>0</th>\n",
       "      <td>0</td>\n",
       "      <td>22.0</td>\n",
       "      <td>-0.530377</td>\n",
       "      <td>Below Mean</td>\n",
       "    </tr>\n",
       "    <tr>\n",
       "      <th>1</th>\n",
       "      <td>1</td>\n",
       "      <td>38.0</td>\n",
       "      <td>0.571831</td>\n",
       "      <td>Above Mean</td>\n",
       "    </tr>\n",
       "    <tr>\n",
       "      <th>2</th>\n",
       "      <td>1</td>\n",
       "      <td>26.0</td>\n",
       "      <td>-0.254825</td>\n",
       "      <td>Below Mean</td>\n",
       "    </tr>\n",
       "    <tr>\n",
       "      <th>3</th>\n",
       "      <td>1</td>\n",
       "      <td>35.0</td>\n",
       "      <td>0.365167</td>\n",
       "      <td>Above Mean</td>\n",
       "    </tr>\n",
       "    <tr>\n",
       "      <th>4</th>\n",
       "      <td>0</td>\n",
       "      <td>35.0</td>\n",
       "      <td>0.365167</td>\n",
       "      <td>Above Mean</td>\n",
       "    </tr>\n",
       "  </tbody>\n",
       "</table>\n",
       "</div>"
      ],
      "text/plain": [
       "   Survived   Age  Age Standardized Above Or Below Mean Age\n",
       "0         0  22.0         -0.530377              Below Mean\n",
       "1         1  38.0          0.571831              Above Mean\n",
       "2         1  26.0         -0.254825              Below Mean\n",
       "3         1  35.0          0.365167              Above Mean\n",
       "4         0  35.0          0.365167              Above Mean"
      ]
     },
     "execution_count": 34,
     "metadata": {},
     "output_type": "execute_result"
    }
   ],
   "source": [
    "age_cleaned_df_standardized_final = age_cleaned_df_standardized\n",
    "\n",
    "age_cleaned_df_standardized_final['Above Or Below Mean Age'] = \\\n",
    "    np.vectorize(above_or_below_mean)(age_cleaned_df_standardized_final['Age Standardized'])\n",
    "\n",
    "age_cleaned_df_standardized_final.head()"
   ]
  },
  {
   "cell_type": "code",
   "execution_count": 35,
   "metadata": {},
   "outputs": [],
   "source": [
    "age_cleaned_df_standardized_final = \\\n",
    "    age_cleaned_df_standardized_final.drop(['Age','Age Standardized'], axis=1)\n",
    "age_cleaned_df_standardized_final = \\\n",
    "    age_cleaned_df_standardized_final.groupby(['Above Or Below Mean Age'], as_index=True)"
   ]
  },
  {
   "cell_type": "markdown",
   "metadata": {},
   "source": [
    "#### \"Above Mean and Below Mean\" Analysis Results Inconclusive\n",
    "Both categories for ages above and below the mean age have nearly the same chances of survival at 40.6%. To reach a more precise conclusion, the age data must be grouped by age group."
   ]
  },
  {
   "cell_type": "code",
   "execution_count": 36,
   "metadata": {},
   "outputs": [
    {
     "data": {
      "text/html": [
       "<div>\n",
       "<style scoped>\n",
       "    .dataframe tbody tr th:only-of-type {\n",
       "        vertical-align: middle;\n",
       "    }\n",
       "\n",
       "    .dataframe tbody tr th {\n",
       "        vertical-align: top;\n",
       "    }\n",
       "\n",
       "    .dataframe thead th {\n",
       "        text-align: right;\n",
       "    }\n",
       "</style>\n",
       "<table border=\"1\" class=\"dataframe\">\n",
       "  <thead>\n",
       "    <tr style=\"text-align: right;\">\n",
       "      <th></th>\n",
       "      <th>Survived</th>\n",
       "    </tr>\n",
       "    <tr>\n",
       "      <th>Above Or Below Mean Age</th>\n",
       "      <th></th>\n",
       "    </tr>\n",
       "  </thead>\n",
       "  <tbody>\n",
       "    <tr>\n",
       "      <th>Above Mean</th>\n",
       "      <td>0.406061</td>\n",
       "    </tr>\n",
       "    <tr>\n",
       "      <th>Below Mean</th>\n",
       "      <td>0.406250</td>\n",
       "    </tr>\n",
       "  </tbody>\n",
       "</table>\n",
       "</div>"
      ],
      "text/plain": [
       "                         Survived\n",
       "Above Or Below Mean Age          \n",
       "Above Mean               0.406061\n",
       "Below Mean               0.406250"
      ]
     },
     "execution_count": 36,
     "metadata": {},
     "output_type": "execute_result"
    }
   ],
   "source": [
    "age_cleaned_df_standardized_final.mean()"
   ]
  },
  {
   "cell_type": "markdown",
   "metadata": {},
   "source": [
    "#### Grouping by Age Group\n",
    "To analyze the age data at a more granular level, a new column named \"Age Group\" will be created that assigns each age to its respective age group. To create this column, NumPy's \"vectorize\" method will be implemented to apply a custom function named \"age_group\" to the new column."
   ]
  },
  {
   "cell_type": "code",
   "execution_count": 50,
   "metadata": {
    "scrolled": true
   },
   "outputs": [
    {
     "data": {
      "text/html": [
       "<div>\n",
       "<style scoped>\n",
       "    .dataframe tbody tr th:only-of-type {\n",
       "        vertical-align: middle;\n",
       "    }\n",
       "\n",
       "    .dataframe tbody tr th {\n",
       "        vertical-align: top;\n",
       "    }\n",
       "\n",
       "    .dataframe thead th {\n",
       "        text-align: right;\n",
       "    }\n",
       "</style>\n",
       "<table border=\"1\" class=\"dataframe\">\n",
       "  <thead>\n",
       "    <tr style=\"text-align: right;\">\n",
       "      <th></th>\n",
       "      <th></th>\n",
       "      <th>Age</th>\n",
       "    </tr>\n",
       "    <tr>\n",
       "      <th>Age Group</th>\n",
       "      <th>Survived</th>\n",
       "      <th></th>\n",
       "    </tr>\n",
       "  </thead>\n",
       "  <tbody>\n",
       "    <tr>\n",
       "      <th rowspan=\"2\" valign=\"top\">0 - 10</th>\n",
       "      <th>0</th>\n",
       "      <td>24</td>\n",
       "    </tr>\n",
       "    <tr>\n",
       "      <th>1</th>\n",
       "      <td>38</td>\n",
       "    </tr>\n",
       "    <tr>\n",
       "      <th rowspan=\"2\" valign=\"top\">10 - 20</th>\n",
       "      <th>0</th>\n",
       "      <td>61</td>\n",
       "    </tr>\n",
       "    <tr>\n",
       "      <th>1</th>\n",
       "      <td>41</td>\n",
       "    </tr>\n",
       "    <tr>\n",
       "      <th rowspan=\"2\" valign=\"top\">20 - 30</th>\n",
       "      <th>0</th>\n",
       "      <td>143</td>\n",
       "    </tr>\n",
       "    <tr>\n",
       "      <th>1</th>\n",
       "      <td>77</td>\n",
       "    </tr>\n",
       "    <tr>\n",
       "      <th rowspan=\"2\" valign=\"top\">30 - 40</th>\n",
       "      <th>0</th>\n",
       "      <td>94</td>\n",
       "    </tr>\n",
       "    <tr>\n",
       "      <th>1</th>\n",
       "      <td>73</td>\n",
       "    </tr>\n",
       "    <tr>\n",
       "      <th rowspan=\"2\" valign=\"top\">40 - 50</th>\n",
       "      <th>0</th>\n",
       "      <td>55</td>\n",
       "    </tr>\n",
       "    <tr>\n",
       "      <th>1</th>\n",
       "      <td>34</td>\n",
       "    </tr>\n",
       "    <tr>\n",
       "      <th rowspan=\"2\" valign=\"top\">50 - 60</th>\n",
       "      <th>0</th>\n",
       "      <td>28</td>\n",
       "    </tr>\n",
       "    <tr>\n",
       "      <th>1</th>\n",
       "      <td>20</td>\n",
       "    </tr>\n",
       "    <tr>\n",
       "      <th rowspan=\"2\" valign=\"top\">60 - 70</th>\n",
       "      <th>0</th>\n",
       "      <td>13</td>\n",
       "    </tr>\n",
       "    <tr>\n",
       "      <th>1</th>\n",
       "      <td>6</td>\n",
       "    </tr>\n",
       "    <tr>\n",
       "      <th rowspan=\"2\" valign=\"top\">70+</th>\n",
       "      <th>0</th>\n",
       "      <td>6</td>\n",
       "    </tr>\n",
       "    <tr>\n",
       "      <th>1</th>\n",
       "      <td>1</td>\n",
       "    </tr>\n",
       "  </tbody>\n",
       "</table>\n",
       "</div>"
      ],
      "text/plain": [
       "                    Age\n",
       "Age Group Survived     \n",
       "0 - 10    0          24\n",
       "          1          38\n",
       "10 - 20   0          61\n",
       "          1          41\n",
       "20 - 30   0         143\n",
       "          1          77\n",
       "30 - 40   0          94\n",
       "          1          73\n",
       "40 - 50   0          55\n",
       "          1          34\n",
       "50 - 60   0          28\n",
       "          1          20\n",
       "60 - 70   0          13\n",
       "          1           6\n",
       "70+       0           6\n",
       "          1           1"
      ]
     },
     "execution_count": 50,
     "metadata": {},
     "output_type": "execute_result"
    }
   ],
   "source": [
    "def age_group(df_with_column):\n",
    "    if df_with_column < 10:\n",
    "        return '0 - 10'\n",
    "    elif df_with_column < 20:\n",
    "        return '10 - 20'\n",
    "    elif df_with_column < 30:\n",
    "        return '20 - 30'\n",
    "    elif df_with_column < 40:\n",
    "        return '30 - 40'\n",
    "    elif df_with_column < 50:\n",
    "        return '40 - 50'\n",
    "    elif df_with_column < 60:\n",
    "        return '50 - 60'\n",
    "    elif df_with_column < 70:\n",
    "        return '60 - 70'\n",
    "    else:\n",
    "        return '70+'\n",
    "    \n",
    "age_cleaned_df_modified = age_cleaned_df.copy()\n",
    "\n",
    "age_cleaned_df_modified['Age Group'] = \\\n",
    "    np.vectorize(age_group)(age_cleaned_df_modified['Age'])\n",
    "\n",
    "age_cleaned_df_modified_grouped = age_cleaned_df_modified.copy()\n",
    "      \n",
    "age_cleaned_df_modified_grouped =\\\n",
    "    age_cleaned_df_modified_grouped.groupby(['Age Group','Survived'], as_index=True)\n",
    "    \n",
    "age_cleaned_df_count = age_cleaned_df_modified.copy()\n",
    "\n",
    "age_cleaned_df_count['Age Group'] = \\\n",
    "    np.vectorize(age_group)(age_cleaned_df_count['Age'])\n",
    "\n",
    "age_cleaned_df_count.drop(['Age'], inplace=True, axis=1)\n",
    "age_cleaned_df_count_grouped = age_cleaned_df_count\n",
    "age_cleaned_df_count_grouped = age_cleaned_df_count_grouped.groupby(['Age Group','Survived'], as_index=True)\n",
    "\n",
    "age_cleaned_df_modified_grouped.count()"
   ]
  },
  {
   "cell_type": "code",
   "execution_count": 52,
   "metadata": {},
   "outputs": [
    {
     "data": {
      "image/png": "[encoded data removed]",
      "text/plain": [
       "<Figure size 432x288 with 1 Axes>"
      ]
     },
     "metadata": {
      "needs_background": "light"
     },
     "output_type": "display_data"
    }
   ],
   "source": [
    "age_cleaned_df_count_grouped[['Survived']].count().unstack().plot(kind='bar').set_ylabel('Count')\n",
    "plt.show()"
   ]
  },
  {
   "cell_type": "markdown",
   "metadata": {},
   "source": [
    "#### Survival Mean Grouped by Age Group\n",
    "Based on the survival mean of each age group, the age group with the highest survival rate is the \"0 - 10\" years old group. At a 61.2% survival rate, children in this group were likely to survive the disaster. One inference that can be made is that adults prioritized childrens' survival over their own, so they were willing risk their lives to ensure their childrens' survival. The sample size for children in this age group is still relatively small, so the data could be slightly skewed.\n",
    "\n",
    "Also worth noting is that passengers over the age of 70 had the worst survival rate of the age groups with only 1 in 7 surviving. This statistic could possibly be skewed by the small number of passengers in this age group."
   ]
  },
  {
   "cell_type": "code",
   "execution_count": 38,
   "metadata": {},
   "outputs": [
    {
     "data": {
      "text/html": [
       "<div>\n",
       "<style scoped>\n",
       "    .dataframe tbody tr th:only-of-type {\n",
       "        vertical-align: middle;\n",
       "    }\n",
       "\n",
       "    .dataframe tbody tr th {\n",
       "        vertical-align: top;\n",
       "    }\n",
       "\n",
       "    .dataframe thead th {\n",
       "        text-align: right;\n",
       "    }\n",
       "</style>\n",
       "<table border=\"1\" class=\"dataframe\">\n",
       "  <thead>\n",
       "    <tr style=\"text-align: right;\">\n",
       "      <th></th>\n",
       "      <th>Survived</th>\n",
       "    </tr>\n",
       "    <tr>\n",
       "      <th>Age Group</th>\n",
       "      <th></th>\n",
       "    </tr>\n",
       "  </thead>\n",
       "  <tbody>\n",
       "    <tr>\n",
       "      <th>0 - 10</th>\n",
       "      <td>0.612903</td>\n",
       "    </tr>\n",
       "    <tr>\n",
       "      <th>10 - 20</th>\n",
       "      <td>0.401961</td>\n",
       "    </tr>\n",
       "    <tr>\n",
       "      <th>20 - 30</th>\n",
       "      <td>0.350000</td>\n",
       "    </tr>\n",
       "    <tr>\n",
       "      <th>30 - 40</th>\n",
       "      <td>0.437126</td>\n",
       "    </tr>\n",
       "    <tr>\n",
       "      <th>40 - 50</th>\n",
       "      <td>0.382022</td>\n",
       "    </tr>\n",
       "    <tr>\n",
       "      <th>50 - 60</th>\n",
       "      <td>0.416667</td>\n",
       "    </tr>\n",
       "    <tr>\n",
       "      <th>60 - 70</th>\n",
       "      <td>0.315789</td>\n",
       "    </tr>\n",
       "    <tr>\n",
       "      <th>70+</th>\n",
       "      <td>0.142857</td>\n",
       "    </tr>\n",
       "  </tbody>\n",
       "</table>\n",
       "</div>"
      ],
      "text/plain": [
       "           Survived\n",
       "Age Group          \n",
       "0 - 10     0.612903\n",
       "10 - 20    0.401961\n",
       "20 - 30    0.350000\n",
       "30 - 40    0.437126\n",
       "40 - 50    0.382022\n",
       "50 - 60    0.416667\n",
       "60 - 70    0.315789\n",
       "70+        0.142857"
      ]
     },
     "execution_count": 38,
     "metadata": {},
     "output_type": "execute_result"
    },
    {
     "data": {
      "image/png": "[encoded data removed]",
      "text/plain": [
       "<Figure size 432x288 with 1 Axes>"
      ]
     },
     "metadata": {
      "needs_background": "light"
     },
     "output_type": "display_data"
    }
   ],
   "source": [
    "age_cleaned_df_mean = age_cleaned_df_modified.copy()\n",
    "\n",
    "age_cleaned_df_mean['Age Group'] = \\\n",
    "    np.vectorize(age_group)(age_cleaned_df_mean['Age'])\n",
    "\n",
    "age_cleaned_df_mean.drop(['Age'], inplace=True, axis=1)\n",
    "age_cleaned_df_mean_grouped = age_cleaned_df_mean\n",
    "age_cleaned_df_mean_grouped = age_cleaned_df_mean_grouped.groupby(['Age Group'], as_index=True)\n",
    "    \n",
    "age_cleaned_df_mean_grouped[['Survived']].mean().unstack().plot(kind='bar').set_ylabel('Mean of Survival')\n",
    "age_cleaned_df_mean_grouped.mean()"
   ]
  },
  {
   "cell_type": "code",
   "execution_count": 39,
   "metadata": {},
   "outputs": [],
   "source": [
    "survived_age_values = grouped_age.get_group(1)['Age']\n",
    "non_survived_age_values = grouped_age.get_group(0)['Age']"
   ]
  },
  {
   "cell_type": "markdown",
   "metadata": {},
   "source": [
    "#### Histogram of Ages of Surviving and Non-Surviving Passengers\n",
    "The observation worth noting from this histogram is that the 0 to ~15 years old range shows that most passengers in this age group survived (in this sample). In almost all other age groups, passengers were less likely to survive."
   ]
  },
  {
   "cell_type": "code",
   "execution_count": 40,
   "metadata": {},
   "outputs": [
    {
     "data": {
      "text/html": [
       "<div>\n",
       "<style scoped>\n",
       "    .dataframe tbody tr th:only-of-type {\n",
       "        vertical-align: middle;\n",
       "    }\n",
       "\n",
       "    .dataframe tbody tr th {\n",
       "        vertical-align: top;\n",
       "    }\n",
       "\n",
       "    .dataframe thead th {\n",
       "        text-align: right;\n",
       "    }\n",
       "</style>\n",
       "<table border=\"1\" class=\"dataframe\">\n",
       "  <thead>\n",
       "    <tr style=\"text-align: right;\">\n",
       "      <th></th>\n",
       "      <th></th>\n",
       "      <th>Age</th>\n",
       "    </tr>\n",
       "    <tr>\n",
       "      <th>Age Group</th>\n",
       "      <th>Survived</th>\n",
       "      <th></th>\n",
       "    </tr>\n",
       "  </thead>\n",
       "  <tbody>\n",
       "    <tr>\n",
       "      <th rowspan=\"2\" valign=\"top\">0 - 10</th>\n",
       "      <th>0</th>\n",
       "      <td>24</td>\n",
       "    </tr>\n",
       "    <tr>\n",
       "      <th>1</th>\n",
       "      <td>38</td>\n",
       "    </tr>\n",
       "    <tr>\n",
       "      <th rowspan=\"2\" valign=\"top\">10 - 20</th>\n",
       "      <th>0</th>\n",
       "      <td>61</td>\n",
       "    </tr>\n",
       "    <tr>\n",
       "      <th>1</th>\n",
       "      <td>41</td>\n",
       "    </tr>\n",
       "    <tr>\n",
       "      <th rowspan=\"2\" valign=\"top\">20 - 30</th>\n",
       "      <th>0</th>\n",
       "      <td>143</td>\n",
       "    </tr>\n",
       "    <tr>\n",
       "      <th>1</th>\n",
       "      <td>77</td>\n",
       "    </tr>\n",
       "    <tr>\n",
       "      <th rowspan=\"2\" valign=\"top\">30 - 40</th>\n",
       "      <th>0</th>\n",
       "      <td>94</td>\n",
       "    </tr>\n",
       "    <tr>\n",
       "      <th>1</th>\n",
       "      <td>73</td>\n",
       "    </tr>\n",
       "    <tr>\n",
       "      <th rowspan=\"2\" valign=\"top\">40 - 50</th>\n",
       "      <th>0</th>\n",
       "      <td>55</td>\n",
       "    </tr>\n",
       "    <tr>\n",
       "      <th>1</th>\n",
       "      <td>34</td>\n",
       "    </tr>\n",
       "    <tr>\n",
       "      <th rowspan=\"2\" valign=\"top\">50 - 60</th>\n",
       "      <th>0</th>\n",
       "      <td>28</td>\n",
       "    </tr>\n",
       "    <tr>\n",
       "      <th>1</th>\n",
       "      <td>20</td>\n",
       "    </tr>\n",
       "    <tr>\n",
       "      <th rowspan=\"2\" valign=\"top\">60 - 70</th>\n",
       "      <th>0</th>\n",
       "      <td>13</td>\n",
       "    </tr>\n",
       "    <tr>\n",
       "      <th>1</th>\n",
       "      <td>6</td>\n",
       "    </tr>\n",
       "    <tr>\n",
       "      <th rowspan=\"2\" valign=\"top\">70+</th>\n",
       "      <th>0</th>\n",
       "      <td>6</td>\n",
       "    </tr>\n",
       "    <tr>\n",
       "      <th>1</th>\n",
       "      <td>1</td>\n",
       "    </tr>\n",
       "  </tbody>\n",
       "</table>\n",
       "</div>"
      ],
      "text/plain": [
       "                    Age\n",
       "Age Group Survived     \n",
       "0 - 10    0          24\n",
       "          1          38\n",
       "10 - 20   0          61\n",
       "          1          41\n",
       "20 - 30   0         143\n",
       "          1          77\n",
       "30 - 40   0          94\n",
       "          1          73\n",
       "40 - 50   0          55\n",
       "          1          34\n",
       "50 - 60   0          28\n",
       "          1          20\n",
       "60 - 70   0          13\n",
       "          1           6\n",
       "70+       0           6\n",
       "          1           1"
      ]
     },
     "execution_count": 40,
     "metadata": {},
     "output_type": "execute_result"
    },
    {
     "data": {
      "image/png": "[encoded data removed]",
      "text/plain": [
       "<Figure size 432x288 with 1 Axes>"
      ]
     },
     "metadata": {
      "needs_background": "light"
     },
     "output_type": "display_data"
    }
   ],
   "source": [
    "plt.hist(non_survived_age_values, color='orange')\n",
    "plt.hist(survived_age_values, color='blue')\n",
    "plt.title(\"Histogram of Ages of Surviving and Non-Surviving Passengers\")\n",
    "plt.xlabel(\"Age\")\n",
    "plt.ylabel(\"Frequency\")\n",
    "blue_patch = mpatches.Patch(color='blue', label='Surviving Passenger Ages')\n",
    "orange_patch = mpatches.Patch(color='orange', label='Non-Surviving Passenger Ages')\n",
    "plt.legend(handles=[blue_patch, orange_patch])\n",
    "\n",
    "age_cleaned_df_modified_grouped.count()"
   ]
  },
  {
   "cell_type": "markdown",
   "metadata": {
    "collapsed": true
   },
   "source": [
    "### Part 3: Sex"
   ]
  },
  {
   "cell_type": "code",
   "execution_count": 41,
   "metadata": {},
   "outputs": [
    {
     "data": {
      "text/html": [
       "<div>\n",
       "<style scoped>\n",
       "    .dataframe tbody tr th:only-of-type {\n",
       "        vertical-align: middle;\n",
       "    }\n",
       "\n",
       "    .dataframe tbody tr th {\n",
       "        vertical-align: top;\n",
       "    }\n",
       "\n",
       "    .dataframe thead th {\n",
       "        text-align: right;\n",
       "    }\n",
       "</style>\n",
       "<table border=\"1\" class=\"dataframe\">\n",
       "  <thead>\n",
       "    <tr style=\"text-align: right;\">\n",
       "      <th></th>\n",
       "      <th>Survived</th>\n",
       "    </tr>\n",
       "    <tr>\n",
       "      <th>Sex</th>\n",
       "      <th></th>\n",
       "    </tr>\n",
       "  </thead>\n",
       "  <tbody>\n",
       "    <tr>\n",
       "      <th>female</th>\n",
       "      <td>314</td>\n",
       "    </tr>\n",
       "    <tr>\n",
       "      <th>male</th>\n",
       "      <td>577</td>\n",
       "    </tr>\n",
       "  </tbody>\n",
       "</table>\n",
       "</div>"
      ],
      "text/plain": [
       "        Survived\n",
       "Sex             \n",
       "female       314\n",
       "male         577"
      ]
     },
     "execution_count": 41,
     "metadata": {},
     "output_type": "execute_result"
    }
   ],
   "source": [
    "sex_count = sex_cleaned_df.copy()\n",
    "\n",
    "sex_count = sex_count.groupby(['Sex'])\n",
    "\n",
    "sex_count.count()"
   ]
  },
  {
   "cell_type": "markdown",
   "metadata": {},
   "source": [
    "#### Mean Survival by Sex\n",
    "With such a large difference in survival rate between women and men, one inference that can be made is that the men on the ship may have given priority to the womens' survival over their own. One observation worth noting is that fewer men survived than women even though men outnumbered women by 263 before the disaster (in this sample).\n",
    "\n",
    "Although this conclusion seems highly feasible, there could still be other unconsidered factors influencing this large disparity in survival between women and men."
   ]
  },
  {
   "cell_type": "code",
   "execution_count": 42,
   "metadata": {},
   "outputs": [
    {
     "name": "stdout",
     "output_type": "stream",
     "text": [
      "Mean Survival by Sex:\n"
     ]
    },
    {
     "data": {
      "text/html": [
       "<div>\n",
       "<style scoped>\n",
       "    .dataframe tbody tr th:only-of-type {\n",
       "        vertical-align: middle;\n",
       "    }\n",
       "\n",
       "    .dataframe tbody tr th {\n",
       "        vertical-align: top;\n",
       "    }\n",
       "\n",
       "    .dataframe thead th {\n",
       "        text-align: right;\n",
       "    }\n",
       "</style>\n",
       "<table border=\"1\" class=\"dataframe\">\n",
       "  <thead>\n",
       "    <tr style=\"text-align: right;\">\n",
       "      <th></th>\n",
       "      <th>Survived</th>\n",
       "    </tr>\n",
       "    <tr>\n",
       "      <th>Sex</th>\n",
       "      <th></th>\n",
       "    </tr>\n",
       "  </thead>\n",
       "  <tbody>\n",
       "    <tr>\n",
       "      <th>female</th>\n",
       "      <td>0.742038</td>\n",
       "    </tr>\n",
       "    <tr>\n",
       "      <th>male</th>\n",
       "      <td>0.188908</td>\n",
       "    </tr>\n",
       "  </tbody>\n",
       "</table>\n",
       "</div>"
      ],
      "text/plain": [
       "        Survived\n",
       "Sex             \n",
       "female  0.742038\n",
       "male    0.188908"
      ]
     },
     "execution_count": 42,
     "metadata": {},
     "output_type": "execute_result"
    },
    {
     "data": {
      "image/png": "[encoded data removed]",
      "text/plain": [
       "<Figure size 432x288 with 1 Axes>"
      ]
     },
     "metadata": {
      "needs_background": "light"
     },
     "output_type": "display_data"
    }
   ],
   "source": [
    "grouped_by_sex_df = sex_cleaned_df.copy()\n",
    "\n",
    "grouped_by_sex_df = grouped_by_sex_df.groupby(['Sex'], as_index=True)\n",
    "\n",
    "print('Mean Survival by Sex:')\n",
    "grouped_by_sex_df.mean().unstack().plot(kind='bar').set_ylabel('Mean Survival')\n",
    "grouped_by_sex_df.mean()"
   ]
  },
  {
   "cell_type": "code",
   "execution_count": 43,
   "metadata": {},
   "outputs": [
    {
     "name": "stdout",
     "output_type": "stream",
     "text": [
      "Number of Survived Passengers by Sex:\n"
     ]
    },
    {
     "data": {
      "text/html": [
       "<div>\n",
       "<style scoped>\n",
       "    .dataframe tbody tr th:only-of-type {\n",
       "        vertical-align: middle;\n",
       "    }\n",
       "\n",
       "    .dataframe tbody tr th {\n",
       "        vertical-align: top;\n",
       "    }\n",
       "\n",
       "    .dataframe thead th {\n",
       "        text-align: right;\n",
       "    }\n",
       "</style>\n",
       "<table border=\"1\" class=\"dataframe\">\n",
       "  <thead>\n",
       "    <tr style=\"text-align: right;\">\n",
       "      <th></th>\n",
       "      <th>Survived</th>\n",
       "    </tr>\n",
       "    <tr>\n",
       "      <th>Sex</th>\n",
       "      <th></th>\n",
       "    </tr>\n",
       "  </thead>\n",
       "  <tbody>\n",
       "    <tr>\n",
       "      <th>female</th>\n",
       "      <td>233</td>\n",
       "    </tr>\n",
       "    <tr>\n",
       "      <th>male</th>\n",
       "      <td>109</td>\n",
       "    </tr>\n",
       "  </tbody>\n",
       "</table>\n",
       "</div>"
      ],
      "text/plain": [
       "        Survived\n",
       "Sex             \n",
       "female       233\n",
       "male         109"
      ]
     },
     "execution_count": 43,
     "metadata": {},
     "output_type": "execute_result"
    }
   ],
   "source": [
    "print('Number of Survived Passengers by Sex:')\n",
    "grouped_by_sex_df.sum()"
   ]
  },
  {
   "cell_type": "code",
   "execution_count": 44,
   "metadata": {},
   "outputs": [
    {
     "data": {
      "text/html": [
       "<div>\n",
       "<style scoped>\n",
       "    .dataframe tbody tr th:only-of-type {\n",
       "        vertical-align: middle;\n",
       "    }\n",
       "\n",
       "    .dataframe tbody tr th {\n",
       "        vertical-align: top;\n",
       "    }\n",
       "\n",
       "    .dataframe thead th {\n",
       "        text-align: right;\n",
       "    }\n",
       "</style>\n",
       "<table border=\"1\" class=\"dataframe\">\n",
       "  <thead>\n",
       "    <tr style=\"text-align: right;\">\n",
       "      <th></th>\n",
       "      <th></th>\n",
       "      <th>Survived</th>\n",
       "    </tr>\n",
       "    <tr>\n",
       "      <th>Sex</th>\n",
       "      <th>Survived</th>\n",
       "      <th></th>\n",
       "    </tr>\n",
       "  </thead>\n",
       "  <tbody>\n",
       "    <tr>\n",
       "      <th rowspan=\"2\" valign=\"top\">female</th>\n",
       "      <th>0</th>\n",
       "      <td>81</td>\n",
       "    </tr>\n",
       "    <tr>\n",
       "      <th>1</th>\n",
       "      <td>233</td>\n",
       "    </tr>\n",
       "    <tr>\n",
       "      <th rowspan=\"2\" valign=\"top\">male</th>\n",
       "      <th>0</th>\n",
       "      <td>468</td>\n",
       "    </tr>\n",
       "    <tr>\n",
       "      <th>1</th>\n",
       "      <td>109</td>\n",
       "    </tr>\n",
       "  </tbody>\n",
       "</table>\n",
       "</div>"
      ],
      "text/plain": [
       "                 Survived\n",
       "Sex    Survived          \n",
       "female 0               81\n",
       "       1              233\n",
       "male   0              468\n",
       "       1              109"
      ]
     },
     "execution_count": 44,
     "metadata": {},
     "output_type": "execute_result"
    },
    {
     "data": {
      "image/png": "[encoded data removed]",
      "text/plain": [
       "<Figure size 432x288 with 1 Axes>"
      ]
     },
     "metadata": {
      "needs_background": "light"
     },
     "output_type": "display_data"
    }
   ],
   "source": [
    "grouped_sex_cleaned_df = sex_cleaned_df.copy()\n",
    "grouped_sex_cleaned_df = grouped_sex_cleaned_df.groupby(['Sex','Survived'], as_index=True)\n",
    "\n",
    "grouped_sex_cleaned_df[['Survived']].count().unstack().plot(kind='bar').set_ylabel('Count')\n",
    "grouped_sex_cleaned_df[['Survived']].count()"
   ]
  },
  {
   "cell_type": "markdown",
   "metadata": {},
   "source": [
    "#### Statistical Significance Test for Sex: Mann-Whitney U Test\n",
    "\n",
    "The significance will be tested at alpha = 0.05 in a one-tailed test.\n",
    "\n",
    "##### HYPOTHESES:\n",
    "\n",
    "Null Hypothesis: Female Survived Values = Male Survived Values\n",
    "\n",
    "Alternative Hypothesis: Female Survived Values > Male Survived Values\n",
    "\n",
    "##### RESULTS:\n",
    "\n",
    "According to the results of the test, the surviving female values are *statistically significantly* greater than the surviving male values with a P-value of 2.158e-59 at alpha = 0.05. **The null hypothesis is rejected.**"
   ]
  },
  {
   "cell_type": "code",
   "execution_count": 45,
   "metadata": {},
   "outputs": [],
   "source": [
    "male_survived_values = grouped_by_sex_df['Survived'].get_group('male').values\n",
    "female_survived_values = grouped_by_sex_df['Survived'].get_group('female').values"
   ]
  },
  {
   "cell_type": "code",
   "execution_count": 46,
   "metadata": {},
   "outputs": [
    {
     "name": "stdout",
     "output_type": "stream",
     "text": [
      "Mann-Whitney U Test Results for Survival Data of Both Sexes:\n",
      "\n",
      "MannwhitneyuResult(statistic=140696.5, pvalue=2.157953115940508e-59)\n"
     ]
    }
   ],
   "source": [
    "mann_whitney_u_sex_results = stats.mannwhitneyu\\\n",
    "    (female_survived_values, male_survived_values, alternative='greater')\n",
    "\n",
    "print(\"Mann-Whitney U Test Results for Survival Data of Both Sexes:\")\n",
    "print('')\n",
    "print(mann_whitney_u_sex_results)"
   ]
  },
  {
   "cell_type": "code",
   "execution_count": 47,
   "metadata": {},
   "outputs": [
    {
     "name": "stdout",
     "output_type": "stream",
     "text": [
      "Mann-Whitney U Test P-Value for Survival Data of Both Sexes:\n",
      "\n",
      "p-value = 2.157953115940508e-59\n"
     ]
    }
   ],
   "source": [
    "print(\"Mann-Whitney U Test P-Value for Survival Data of Both Sexes:\")\n",
    "print('')\n",
    "print('p-value = {}'.format(mann_whitney_u_sex_results[1]))"
   ]
  },
  {
   "cell_type": "markdown",
   "metadata": {},
   "source": [
    "### Part 4: Port of Embarkation"
   ]
  },
  {
   "cell_type": "markdown",
   "metadata": {},
   "source": [
    "#### Total Passengers from each Port of Embarkment"
   ]
  },
  {
   "cell_type": "code",
   "execution_count": 48,
   "metadata": {},
   "outputs": [
    {
     "data": {
      "text/html": [
       "<div>\n",
       "<style scoped>\n",
       "    .dataframe tbody tr th:only-of-type {\n",
       "        vertical-align: middle;\n",
       "    }\n",
       "\n",
       "    .dataframe tbody tr th {\n",
       "        vertical-align: top;\n",
       "    }\n",
       "\n",
       "    .dataframe thead th {\n",
       "        text-align: right;\n",
       "    }\n",
       "</style>\n",
       "<table border=\"1\" class=\"dataframe\">\n",
       "  <thead>\n",
       "    <tr style=\"text-align: right;\">\n",
       "      <th></th>\n",
       "      <th>Survived</th>\n",
       "    </tr>\n",
       "    <tr>\n",
       "      <th>Embarked</th>\n",
       "      <th></th>\n",
       "    </tr>\n",
       "  </thead>\n",
       "  <tbody>\n",
       "    <tr>\n",
       "      <th>C</th>\n",
       "      <td>168</td>\n",
       "    </tr>\n",
       "    <tr>\n",
       "      <th>Q</th>\n",
       "      <td>77</td>\n",
       "    </tr>\n",
       "    <tr>\n",
       "      <th>S</th>\n",
       "      <td>644</td>\n",
       "    </tr>\n",
       "  </tbody>\n",
       "</table>\n",
       "</div>"
      ],
      "text/plain": [
       "          Survived\n",
       "Embarked          \n",
       "C              168\n",
       "Q               77\n",
       "S              644"
      ]
     },
     "execution_count": 48,
     "metadata": {},
     "output_type": "execute_result"
    },
    {
     "data": {
      "image/png": "[encoded data removed]",
      "text/plain": [
       "<Figure size 432x288 with 1 Axes>"
      ]
     },
     "metadata": {
      "needs_background": "light"
     },
     "output_type": "display_data"
    }
   ],
   "source": [
    "embarked_count = embarked_cleaned_df.copy()\n",
    "embarked_count = embarked_count.groupby(['Embarked'])\n",
    "\n",
    "embarked_count[['Embarked']].count().unstack().plot(kind='bar').set_ylabel('Total Count')\n",
    "embarked_count.count()"
   ]
  },
  {
   "cell_type": "markdown",
   "metadata": {},
   "source": [
    "#### Mean Survival by Port of Embarkation\n",
    "The passengers who embarked at the port in Cherbourg were likely to survive, although passengers who embarked at the ports in Queenstown and Southampton were not likely to survive. \n",
    "\n",
    "Of all indpendent variables in this analysis, the port of embarkation would have the least effect on passenger survival unless it had some kind of influence on where those passengers' cabins would be located on the ship."
   ]
  },
  {
   "cell_type": "code",
   "execution_count": 49,
   "metadata": {},
   "outputs": [
    {
     "name": "stdout",
     "output_type": "stream",
     "text": [
      "Mean Survival by Port of Embarkation:\n"
     ]
    },
    {
     "data": {
      "text/html": [
       "<div>\n",
       "<style scoped>\n",
       "    .dataframe tbody tr th:only-of-type {\n",
       "        vertical-align: middle;\n",
       "    }\n",
       "\n",
       "    .dataframe tbody tr th {\n",
       "        vertical-align: top;\n",
       "    }\n",
       "\n",
       "    .dataframe thead th {\n",
       "        text-align: right;\n",
       "    }\n",
       "</style>\n",
       "<table border=\"1\" class=\"dataframe\">\n",
       "  <thead>\n",
       "    <tr style=\"text-align: right;\">\n",
       "      <th></th>\n",
       "      <th>Survived</th>\n",
       "    </tr>\n",
       "    <tr>\n",
       "      <th>Embarked</th>\n",
       "      <th></th>\n",
       "    </tr>\n",
       "  </thead>\n",
       "  <tbody>\n",
       "    <tr>\n",
       "      <th>C</th>\n",
       "      <td>0.553571</td>\n",
       "    </tr>\n",
       "    <tr>\n",
       "      <th>Q</th>\n",
       "      <td>0.389610</td>\n",
       "    </tr>\n",
       "    <tr>\n",
       "      <th>S</th>\n",
       "      <td>0.336957</td>\n",
       "    </tr>\n",
       "  </tbody>\n",
       "</table>\n",
       "</div>"
      ],
      "text/plain": [
       "          Survived\n",
       "Embarked          \n",
       "C         0.553571\n",
       "Q         0.389610\n",
       "S         0.336957"
      ]
     },
     "execution_count": 49,
     "metadata": {},
     "output_type": "execute_result"
    },
    {
     "data": {
      "image/png": "[encoded data removed]",
      "text/plain": [
       "<Figure size 432x288 with 1 Axes>"
      ]
     },
     "metadata": {
      "needs_background": "light"
     },
     "output_type": "display_data"
    }
   ],
   "source": [
    "embarked_df_mean = embarked_cleaned_df.copy()\n",
    "\n",
    "embarked_df_mean = embarked_df_mean.groupby(['Embarked'])\n",
    "\n",
    "print('Mean Survival by Port of Embarkation:')\n",
    "embarked_df_mean[['Survived']].mean().unstack().plot(kind='bar').set_ylabel('Mean of Survival')\n",
    "embarked_df_mean.mean()"
   ]
  },
  {
   "cell_type": "markdown",
   "metadata": {},
   "source": [
    "## 4. Summary and Conclusions\n",
    "### Sample Size of this Dataset\n",
    "Using a quick Google search, one can find that the there were **2228** total passengers aboard the Titanic. This dataset contains data about 891 of the passengers, so this dataset may **not** be completely representative of the actual passenger population. To compound this issue, some of the useful data in this dataset is missing. \n",
    "\n",
    "Two of the indpendent variables analyzed in this report, \"Age\" and \"Embarked,\" contained rows with missing data.\n",
    "These missing values could have given more enlightening insights about this dataset, especially in the \"Age\" analysis. Because missing values must be expunged from the analysis, the values that are left have an even stronger influence over results such as mean, standard deviation, and z-score. Some of these values that are left over could include more \"extreme\" data than what was missing, altering the results.\n",
    "\n",
    "### 1. Ticket Fare Results\n",
    "The \"Fare\" column contained no blank records, so all 891 rows from this dataset *could* have been used. Since there were some outliers on the high end that would have altered results, all rows containing ticket fare > 200 were removed. In total, 20 rows were dropped, so 871 rows remained. \n",
    "\n",
    "According to the results from the wrangled ticket fare data, passengers who paid higher fares than passengers who paid lower fares *generally* had a better chance of surviving. A possible explanation for this could be that cabins with higher fares were located closer to lifeboats on the ship as opposed to cabins near the bottom that took longer to reach an area with a lifeboat.\n",
    "\n",
    "The result on ticket fare seems feasible based on intuition, but it is possible that the data from the full population of Titanic passengers may imply a more equal survival rate among passengers with different ticket fares.\n",
    "\n",
    "### 2. Age Results\n",
    "The \"Age\" column contained 177 blank records, so 714 rows from this dataset were used. Since there were no large outliers, no rows were dropped from the 714. \n",
    "\n",
    "According to the results from the wrangled age data, passengers who were within the 0-10 years old range were likely to survive. One explanation for this could be that parents prioritized their childrens' lives over their own, so they were more willing to put their children on a lifeboat then get on one themselves. The age group that had the second highest chance of surviving was the 30-40 years old range. An explanation for this could be that survival of women of child-rearing age were prioritized over other age groups that were not of child-rearing age. The group with the lowest survival rate is the 70+ range, but that result should be taken with a grain of salt because there are only 7 data points available in that range.\n",
    "\n",
    "The result on age seems feasible based on intuition, but it is possible that the data from the full population of Titanic passengers may imply a different survival rate among passengers in different age groups.\n",
    "\n",
    "### 3. Sex Results\n",
    "The \"Sex\" column contained no blank records, so all 891 rows from this dataset were used. No rows were dropped from the 891.\n",
    "\n",
    "According to the results from the sex data, female passengers had a statistically significant better chance of surviving than male passengers. A possible explanation for this could be that men prioritized women's survival over their own, so more women were able to make it to a lifeboat than men were able to.\n",
    "\n",
    "The result on sex seems feasible based on intuition, but it is possible that the data from the full population of Titanic passengers may imply a different survival rate between males and females.\n",
    "\n",
    "### 4. Port of Embarkation Results\n",
    "The \"Embarked\" column contained 2 blank records, so 889 rows from this dataset were used. Since there were no large outliers, no rows were dropped from the 889.\n",
    "\n",
    "According to the results from the port of embarkation data, passengers who embarked from Cherbourg were more likely to survive than passengers who embarked from Southampton and Queenstown. This result is less intuitive than the other previous results (ticket fare, age, sex). The port of embarkation would have the least effect on passenger survival unless it had some kind of influence on where those passengers' cabins would be located on the ship.\n",
    "\n",
    "The result does **not** seem useful because there is such a large disparity between the number of passengers who embarked from Southampton and the number of passengers who embarked from Cherbourg and Queenstown. It is possible that the data from the full population of Titanic passengers may imply a more intuitive result, or further context may show a pattern between port of embarkation and other factors."
   ]
  }
 ],
 "metadata": {
  "kernelspec": {
   "display_name": "Python 3",
   "language": "python",
   "name": "python3"
  },
  "language_info": {
   "codemirror_mode": {
    "name": "ipython",
    "version": 3
   },
   "file_extension": ".py",
   "mimetype": "text/x-python",
   "name": "python",
   "nbconvert_exporter": "python",
   "pygments_lexer": "ipython3",
   "version": "3.7.3"
  }
 },
 "nbformat": 4,
 "nbformat_minor": 2
}
