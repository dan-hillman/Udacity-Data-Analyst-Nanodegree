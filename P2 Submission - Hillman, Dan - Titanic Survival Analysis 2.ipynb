{
 "cells": [
  {
   "cell_type": "markdown",
   "metadata": {},
   "source": [
    "# Titanic Passenger Survival Analysis by Dan Hillman"
   ]
  },
  {
   "cell_type": "markdown",
   "metadata": {},
   "source": [
    "## 1. Questions to Answer with This Analysis"
   ]
  },
  {
   "cell_type": "markdown",
   "metadata": {},
   "source": [
    "There are four independent variables that will be analyzed in this report:\n",
    "1. **Ticket Fare**\n",
    "    * Did passengers who paid for a ticket with a price *higher* than the overall mean ticket price have a better chance of surviving than passengers who paid for a ticket with a price *lower* than the overall mean ticket price?\n",
    "    * Was the difference between fare values of survivng passengers and the fare values of non-survivng passengers *statistically significant*?\n",
    "2. **Age**\n",
    "    * Did passengers whose age was *less* than the overall mean age have a better chance of surviving than passengers whose age was *greater* than the overall mean age?\n",
    "    * Were there any age groups with mean survival percentages that were much different than other age groups' survival percentages?\n",
    "3. **Sex**\n",
    "    * Did one sex have a better chance than surviving than the other? If so, was the result statistically significant?\n",
    "4. **Port of Departure (Embarked)**\n",
    "    * Which port of departure had the highest passenger survival rate?\n",
    "\n",
    "The dependent variable in this analysis is the **survival** of each pasenger."
   ]
  },
  {
   "cell_type": "markdown",
   "metadata": {},
   "source": [
    "## 2. Data Wrangling"
   ]
  },
  {
   "cell_type": "markdown",
   "metadata": {},
   "source": [
    "### Counting non-blank data\n",
    "The supplied CSV file contains 891 records of passenger data. To find out which relevant columns contain blank records, each relevant column's data has been counted.\n",
    "\n",
    "The **Fare** and **Sex** columns contain no blank records.\n",
    "\n",
    "The **Age** column contains 177 blank records.\n",
    "\n",
    "The **Embarked** column contains 2 blank records."
   ]
  },
  {
   "cell_type": "code",
   "execution_count": 1,
   "metadata": {
    "collapsed": false
   },
   "outputs": [
    {
     "data": {
      "text/html": [
       "<div>\n",
       "<table border=\"1\" class=\"dataframe\">\n",
       "  <thead>\n",
       "    <tr style=\"text-align: right;\">\n",
       "      <th></th>\n",
       "      <th>PassengerId</th>\n",
       "      <th>Survived</th>\n",
       "      <th>Pclass</th>\n",
       "      <th>Age</th>\n",
       "      <th>SibSp</th>\n",
       "      <th>Parch</th>\n",
       "      <th>Fare</th>\n",
       "    </tr>\n",
       "  </thead>\n",
       "  <tbody>\n",
       "    <tr>\n",
       "      <th>count</th>\n",
       "      <td>891.000000</td>\n",
       "      <td>891.000000</td>\n",
       "      <td>891.000000</td>\n",
       "      <td>714.000000</td>\n",
       "      <td>891.000000</td>\n",
       "      <td>891.000000</td>\n",
       "      <td>891.000000</td>\n",
       "    </tr>\n",
       "    <tr>\n",
       "      <th>mean</th>\n",
       "      <td>446.000000</td>\n",
       "      <td>0.383838</td>\n",
       "      <td>2.308642</td>\n",
       "      <td>29.699118</td>\n",
       "      <td>0.523008</td>\n",
       "      <td>0.381594</td>\n",
       "      <td>32.204208</td>\n",
       "    </tr>\n",
       "    <tr>\n",
       "      <th>std</th>\n",
       "      <td>257.353842</td>\n",
       "      <td>0.486592</td>\n",
       "      <td>0.836071</td>\n",
       "      <td>14.526497</td>\n",
       "      <td>1.102743</td>\n",
       "      <td>0.806057</td>\n",
       "      <td>49.693429</td>\n",
       "    </tr>\n",
       "    <tr>\n",
       "      <th>min</th>\n",
       "      <td>1.000000</td>\n",
       "      <td>0.000000</td>\n",
       "      <td>1.000000</td>\n",
       "      <td>0.420000</td>\n",
       "      <td>0.000000</td>\n",
       "      <td>0.000000</td>\n",
       "      <td>0.000000</td>\n",
       "    </tr>\n",
       "    <tr>\n",
       "      <th>25%</th>\n",
       "      <td>223.500000</td>\n",
       "      <td>0.000000</td>\n",
       "      <td>2.000000</td>\n",
       "      <td>20.125000</td>\n",
       "      <td>0.000000</td>\n",
       "      <td>0.000000</td>\n",
       "      <td>7.910400</td>\n",
       "    </tr>\n",
       "    <tr>\n",
       "      <th>50%</th>\n",
       "      <td>446.000000</td>\n",
       "      <td>0.000000</td>\n",
       "      <td>3.000000</td>\n",
       "      <td>28.000000</td>\n",
       "      <td>0.000000</td>\n",
       "      <td>0.000000</td>\n",
       "      <td>14.454200</td>\n",
       "    </tr>\n",
       "    <tr>\n",
       "      <th>75%</th>\n",
       "      <td>668.500000</td>\n",
       "      <td>1.000000</td>\n",
       "      <td>3.000000</td>\n",
       "      <td>38.000000</td>\n",
       "      <td>1.000000</td>\n",
       "      <td>0.000000</td>\n",
       "      <td>31.000000</td>\n",
       "    </tr>\n",
       "    <tr>\n",
       "      <th>max</th>\n",
       "      <td>891.000000</td>\n",
       "      <td>1.000000</td>\n",
       "      <td>3.000000</td>\n",
       "      <td>80.000000</td>\n",
       "      <td>8.000000</td>\n",
       "      <td>6.000000</td>\n",
       "      <td>512.329200</td>\n",
       "    </tr>\n",
       "  </tbody>\n",
       "</table>\n",
       "</div>"
      ],
      "text/plain": [
       "       PassengerId    Survived      Pclass         Age       SibSp  \\\n",
       "count   891.000000  891.000000  891.000000  714.000000  891.000000   \n",
       "mean    446.000000    0.383838    2.308642   29.699118    0.523008   \n",
       "std     257.353842    0.486592    0.836071   14.526497    1.102743   \n",
       "min       1.000000    0.000000    1.000000    0.420000    0.000000   \n",
       "25%     223.500000    0.000000    2.000000   20.125000    0.000000   \n",
       "50%     446.000000    0.000000    3.000000   28.000000    0.000000   \n",
       "75%     668.500000    1.000000    3.000000   38.000000    1.000000   \n",
       "max     891.000000    1.000000    3.000000   80.000000    8.000000   \n",
       "\n",
       "            Parch        Fare  \n",
       "count  891.000000  891.000000  \n",
       "mean     0.381594   32.204208  \n",
       "std      0.806057   49.693429  \n",
       "min      0.000000    0.000000  \n",
       "25%      0.000000    7.910400  \n",
       "50%      0.000000   14.454200  \n",
       "75%      0.000000   31.000000  \n",
       "max      6.000000  512.329200  "
      ]
     },
     "execution_count": 1,
     "metadata": {},
     "output_type": "execute_result"
    }
   ],
   "source": [
    "import pandas as pd\n",
    "import numpy as np\n",
    "\n",
    "filename = 'titanic-data.csv'\n",
    "titanic_df = pd.read_csv(filename)\n",
    "\n",
    "titanic_df.describe()"
   ]
  },
  {
   "cell_type": "code",
   "execution_count": 2,
   "metadata": {
    "collapsed": false
   },
   "outputs": [
    {
     "name": "stdout",
     "output_type": "stream",
     "text": [
      "Count of # of non-blank records:\n",
      "\n",
      "Fare:  891\n",
      "Blanks:  0\n",
      "\n",
      "Age:  714\n",
      "Blanks:  177\n",
      "\n",
      "Sex:  891\n",
      "Blanks:  0\n",
      "\n",
      "Embarked:  889\n",
      "Blanks:  2\n"
     ]
    }
   ],
   "source": [
    "row_count = titanic_df.shape[0]\n",
    "\n",
    "fare_count = titanic_df['Fare'].count()\n",
    "age_count = titanic_df['Age'].count()\n",
    "sex_count = titanic_df['Sex'].count()\n",
    "embarked_count = titanic_df['Embarked'].count()\n",
    "        \n",
    "print 'Count of # of non-blank records:'\n",
    "print ''\n",
    "print 'Fare: ', fare_count\n",
    "print 'Blanks: ', row_count - fare_count\n",
    "print ''\n",
    "print 'Age: ', age_count \n",
    "print 'Blanks: ', row_count - age_count\n",
    "print ''\n",
    "print 'Sex: ', sex_count \n",
    "print 'Blanks: ', row_count - sex_count\n",
    "print ''\n",
    "print 'Embarked: ', embarked_count \n",
    "print 'Blanks: ', row_count - embarked_count"
   ]
  },
  {
   "cell_type": "markdown",
   "metadata": {},
   "source": [
    "### Removing rows containing blank data\n",
    "For each relevant column containing blank data, a \"dropNA\" dataframe has been created that removes rows containing blank data in that specific column. To ensure that Pandas' \"dropNA\" method has been performed correctly, a count of the number of rows contained in each new DataFrame has been performed. The number of rows in the new DataFrame should equal the number of non-blank records counted in the previous cell. \n",
    "\n",
    "The DataFrames used for analyzing the **Ticket Fare** variable and **Sex** variable do not require removal of any rows because there is no blank data in either of these columns. The DataFrames used for these variables will contain 891 rows.\n",
    "\n",
    "The DataFrame used for analyzing the **Age** variable requires removal of rows that contain blank data in the Age column. The DataFrame used for analyzing this variable will contain 714 rows.\n",
    "\n",
    "The DataFrame used for analyzing the **Embarked** variable requires removal of rows that contain blank data in the Embarked column. The DataFrame used for analyzing this variable will contain 889 rows."
   ]
  },
  {
   "cell_type": "code",
   "execution_count": 3,
   "metadata": {
    "collapsed": false
   },
   "outputs": [
    {
     "name": "stdout",
     "output_type": "stream",
     "text": [
      "Row count for cleaned DataFrames previosly containing blank data:\n",
      "\n",
      "Age :  714  rows\n",
      "The DataFrame cleaning for the analysis of the  Age  variable was successful.\n",
      "\n",
      "Embarked :  889  rows\n",
      "The DataFrame cleaning for the analysis of the  Embarked  variable was successful.\n",
      "\n"
     ]
    }
   ],
   "source": [
    "age_dropna_df = titanic_df.copy()\n",
    "age_dropna_df.dropna(subset=['Age'], inplace=True)\n",
    "\n",
    "embarked_dropna_df = titanic_df.copy()\n",
    "embarked_dropna_df.dropna(subset=['Embarked'], inplace=True)\n",
    "\n",
    "def print_cleaning_report(age_count, embarked_count, age_dropna_df, embarked_dropna_df):\n",
    "    str_list = ['Age', 'Embarked']\n",
    "    cleaned_df_list = [age_dropna_df, embarked_dropna_df]\n",
    "    count_list = [age_count, embarked_count]\n",
    "    print 'Row count for cleaned DataFrames previosly containing blank data:'\n",
    "    print ''\n",
    "    for string, df, count in zip(str_list, cleaned_df_list, count_list):\n",
    "        print string, ': ', df.shape[0], ' rows'\n",
    "        if count == df.shape[0]:\n",
    "            print 'The DataFrame cleaning for the analysis of the ', string, ' variable was successful.'\n",
    "        else:\n",
    "            print 'ERROR: DataFrame cleaning for the analysis of the ', string, ' variable was NOT successful.'\n",
    "        print ''\n",
    "\n",
    "print_cleaning_report(age_count, embarked_count, age_dropna_df, embarked_dropna_df)"
   ]
  },
  {
   "cell_type": "markdown",
   "metadata": {},
   "source": [
    "### Removing Unnecessary Columns\n",
    "For the sake of simplicity, the separate DataFrames used for analyzing each independent variable will initially include only the \"Survived\" column and the independent variable's column."
   ]
  },
  {
   "cell_type": "markdown",
   "metadata": {},
   "source": [
    "#### Custom Function for Dropping Unncessary Columns\n",
    "Since there are many more rows to be dropped than kept in each DataFrame, it is practical to create a function that accepts an argument for a list of rows to keep. Pandas' \"drop\" method only accepts an argument for a list of columns to drop, so the \"drop_columns_inplace\" function below accepts an argument for a list of columns to keep."
   ]
  },
  {
   "cell_type": "code",
   "execution_count": 4,
   "metadata": {
    "collapsed": true
   },
   "outputs": [],
   "source": [
    "def drop_columns_inplace(df, columns_to_keep):\n",
    "    column_list = list(df)\n",
    "    columns_to_drop_list = []\n",
    "    for column in column_list:\n",
    "        if column not in columns_to_keep:\n",
    "            columns_to_drop_list.append(column)\n",
    "    df.drop(labels=columns_to_drop_list, axis=1, inplace=True)"
   ]
  },
  {
   "cell_type": "code",
   "execution_count": 5,
   "metadata": {
    "collapsed": true
   },
   "outputs": [],
   "source": [
    "import matplotlib.patches as mpatches\n",
    "import matplotlib.pyplot as plt\n",
    "import seaborn as sns"
   ]
  },
  {
   "cell_type": "markdown",
   "metadata": {},
   "source": [
    "#### Fare DataFrame"
   ]
  },
  {
   "cell_type": "markdown",
   "metadata": {},
   "source": [
    "##### Checking for Major Outliers\n",
    "The histogram showing frequency of passenger fare shows some outlier(s) in the ~460 to ~510 range. To ensure that these value(s) do not skew the analysis of fare data, any fares over 200 will be removed."
   ]
  },
  {
   "cell_type": "code",
   "execution_count": 6,
   "metadata": {
    "collapsed": false
   },
   "outputs": [
    {
     "data": {
      "text/html": [
       "<div>\n",
       "<table border=\"1\" class=\"dataframe\">\n",
       "  <thead>\n",
       "    <tr style=\"text-align: right;\">\n",
       "      <th></th>\n",
       "      <th>Survived</th>\n",
       "      <th>Fare</th>\n",
       "    </tr>\n",
       "  </thead>\n",
       "  <tbody>\n",
       "    <tr>\n",
       "      <th>0</th>\n",
       "      <td>0</td>\n",
       "      <td>7.2500</td>\n",
       "    </tr>\n",
       "    <tr>\n",
       "      <th>1</th>\n",
       "      <td>1</td>\n",
       "      <td>71.2833</td>\n",
       "    </tr>\n",
       "    <tr>\n",
       "      <th>2</th>\n",
       "      <td>1</td>\n",
       "      <td>7.9250</td>\n",
       "    </tr>\n",
       "    <tr>\n",
       "      <th>3</th>\n",
       "      <td>1</td>\n",
       "      <td>53.1000</td>\n",
       "    </tr>\n",
       "    <tr>\n",
       "      <th>4</th>\n",
       "      <td>0</td>\n",
       "      <td>8.0500</td>\n",
       "    </tr>\n",
       "  </tbody>\n",
       "</table>\n",
       "</div>"
      ],
      "text/plain": [
       "   Survived     Fare\n",
       "0         0   7.2500\n",
       "1         1  71.2833\n",
       "2         1   7.9250\n",
       "3         1  53.1000\n",
       "4         0   8.0500"
      ]
     },
     "execution_count": 6,
     "metadata": {},
     "output_type": "execute_result"
    }
   ],
   "source": [
    "fare_cleaned_df = titanic_df.copy()\n",
    "\n",
    "drop_columns_inplace(fare_cleaned_df, ['Fare','Survived'])\n",
    "\n",
    "fare_cleaned_df.head()"
   ]
  },
  {
   "cell_type": "code",
   "execution_count": 7,
   "metadata": {
    "collapsed": false
   },
   "outputs": [
    {
     "data": {
      "text/plain": [
       "Survived       \n",
       "0         count    549.000000\n",
       "          mean      22.117887\n",
       "1         count    342.000000\n",
       "          mean      48.395408\n",
       "Name: Fare, dtype: float64"
      ]
     },
     "execution_count": 7,
     "metadata": {},
     "output_type": "execute_result"
    },
    {
     "data": {
      "image/png": "iVBORw0KGgoAAAANSUhEUgAAAYMAAAETCAYAAADUAmpRAAAABHNCSVQICAgIfAhkiAAAAAlwSFlz\nAAALEgAACxIB0t1+/AAAGelJREFUeJzt3X+cXXV95/HXJEMSIkMadYAFKaiUT5E1RAOIxZDYDUJc\nKBZd2RaUHyvgGg32QSuVBB9qQ1lWoEv8hQ1gxIJdDGIlbSCUnyFiEQQKBT80oO62dsuIIRkMCSSZ\n/eOcwctk7sxNZs69ydzX8/HIg3PPufecz2e4j/u+53zPObejr68PSVJ7G9fqAiRJrWcYSJIMA0mS\nYSBJwjCQJGEYSJKAzlYXoJ1XRPQB3Zn5i5p5ZwAfyMwTIuLzwJrMvG6IdXwGeDQz/6bygkdZREwH\nbgLWASdn5k9rlv0U2AS8CPQBE4CVwPmZubXZtVYtIg4EngYeG7Doe5n5meZXpNFmGGiHNfgh8LvA\nE1XXUpHfA+7KzI/UWX5qZj4IEBETgHuAjwFfalJ9zfZiZk5vdRGqhmGgHRYRS4HHM/OyiPgc8PvA\nS8BzwBnAycDhwBciYgtwJ/BlYDrFt+kVwIWZuTki3gtcCmwBHgHmAO8CZgP/DXgNxTf0E4CvAgcD\nrwV6gT/MzIyIu4GHKAJoL+BKYG9gVvn6D2bmwG+2RMRFwB8Am4GngI8D/4nig318ROyemacO9bfI\nzJciYhXw2+U6LwTeB0wqt/3HmXlzRPw2cE05vwO4OjO/Um9+ua4FwPspDuv+FPhYZv687Pd+4Gjg\nN4FVwOmZubXcg/tTij2XO4HzMrOzgfX9suzhq5n5xaF6HvA3rNfvZ4F3Av8B+MfMPK3e9hvdlqrh\nmIGGc1dEPNL/D/j8wCdExP7AJ4EjMvNwisMl78jMLwMPAn+SmTcDiymC4q0UIXEY8McR8Trgm8Bp\n5TfPu4D9ajZxKDA7M98NzAWez8yjMvNg4IcUH979DszMt1EE0aXA3WVNtwKfGKT2M8t1HpGZ04DH\ngaWZeT1wFfC/hwuCcj37AieWf68DKMJsVrnOBTV/tz8BbsnMGcB7gWMiYly9+RHx4fLvdWT5t/k7\n4OqaTb+ZIjDfShGCsyLiLWXvc8q/xXpgfFnncOtbm5lvqRMEu9e+FyKif69oqH4BDgDeXgbBcNtX\ni7hnoOG8e7AxgwHP+VfgUeBHEbECWJGZdwyyrrnA0ZnZB2yKiKsoQiSBJzLzUYDM/EZELK553T9m\n5vpy2bKIeCYiPgEcRPFBeH/Nc79T/vfp8r+31jyeXaemr2fmr8rHVwILysM+w7k+Il6k+FL1MsW3\n+ZsAIuJ04NSIOAg4CtijfM3NwHURcSTw98D88pt8vfknAEcCD0YEFB/qk2tquKUco+iNiDUUe0vT\ngZWZ+S/lc74IfLacHm59q4bod9DDRJn5syH6BfhBZm5ucPtqEfcMNGLlh9EsikNDzwF/ERFXDvLU\nge+3ccBuFIdnOgYsqx2EfaF/IiL+O8XhlA3ADcC3Brx204DaXh6m/MFq6hyknsGcmpnTM3NaZs7I\nzMvLGt8OfB/Yk2Iv6dL+9WXmcuC3gBuBtwGPRcSb682n+LC8tNzOdIo9qqNranixZrqv3M7Av+eW\nmunh1vcC22mofgdZ53DbV4sYBhqxiDiM4vDKk5l5CfAXFIeAoPhg2q2cvg2YFxEdETEROAe4HVgN\nHBwR08r1vR/4DYoPt4GOoziMcw3FHsWJlIdAdtBtwJkR8Zry8Xzg3szcNMRrhnMM8GBmXkExqPw+\nfn2Y5gbglMz8a4oxifXA/vXml/V9JCL2LNf9eYpDasP1NCci+g+1fWTAsu1d33Dq9lunttHevkaB\nh4k0Ypn5aETcSLHr/wLFt9X55eJbgMvKwy7zKQ5ZPEZxKuatwMXl4OsfUBwm2UoxzrCZ4tv/QJcB\nf1ke699CMWD81hGUfw3Fh+4D5bH7NcCwYwTD+Bbw/oh4gmJA/Q7gtRHRBfwZcHVEnEtR/80UH6D/\nXmf+vRTjJz8oT/X9PxR7YHVl5lMR8UfAbRGxkWJAvv9vefX2rm+E/Q5UxfY1Cjq8hbVarfyWuBD4\nbGZuKA87/C2wbzm+oO0QEW8EPgz8WTnucDJwQWa+o8WlaSfmnoFaLjPXR8RLwA8j4mWKwdgPGgQ7\n7F+AfSnGHTZTnJJ7VmtL0s7OPQNJkgPIkiTDQJLELjpm0NPTu8PHtqZOnczatYOdpDI2tVO/7dQr\ntFe/9jo6uru76l4/03Z7Bp2dIzklfdfTTv22U6/QXv3aa/XaLgwkSdsyDCRJhoEkyTCQJGEYSJIw\nDCRJGAaSJAwDSRKGgSSJXfR2FCPR0QEw2G9uVO/ZZ3tbsl1JGo57BpIkw0CSZBhIkjAMJEkYBpIk\nKjybKCLOAM4oH04CpgPvAv4X0Ac8DszLzK0RcTZwLrAZWJSZy6uqS5K0rcr2DDJzaWbOzszZwEPA\nfOAzwMLMnAl0ACdFxD7lsqOB44BLImJiVXVJkrZV+WGiiDgcODQz/xKYAdxTLloBzAGOBFZn5qbM\nXAesAaZVXZck6deacdHZhcDnyumOzOz//eJeYAqwJ7Cu5vn98+uaOnXyLvkzeN3drbnYrVXbbYV2\n6hXaq197rValYRARvwFEZt5Vztpas7gLeB5Yz6svCe6fX9fIfiy6dW+onp7mX4Hc3d3Vku22Qjv1\nCu3Vr72O3rrrqfow0THAHTWPH46I2eX0XGAV8AAwMyImRcQU4BCKwWVJUpNUfZgogGdqHp8PLImI\nCcCTwLLM3BIRiymCYRywIDM3VlyXJKlGpWGQmV8Y8PgpYNYgz1sCLKmyFklSfV50JkkyDCRJhoEk\nCcNAkoRhIEnCMJAkYRhIkjAMJEkYBpIkDANJEoaBJAnDQJKEYSBJwjCQJGEYSJIwDCRJGAaSJAwD\nSRKGgSQJw0CSBHRWufKI+DTwe8AE4CvAPcBSoA94HJiXmVsj4mzgXGAzsCgzl1dZlyTp1SrbM4iI\n2cDvAEcDs4D9gSuAhZk5E+gAToqIfYD55fOOAy6JiIlV1SVJ2laVh4mOAx4DbgZuAZYDMyj2DgBW\nAHOAI4HVmbkpM9cBa4BpFdYlSRqgysNErwcOAE4A3gh8DxiXmX3l8l5gCrAnsK7mdf3z65o6dTKd\nneNHveCqdXd3tdV2W6GdeoX26tdeq1VlGDwH/DgzXwIyIjZSHCrq1wU8D6wvpwfOr2vt2g0jKKt1\nb6ient6mb7O7u6sl222FduoV2qtfex29dddT5WGi+4DjI6IjIvYFXgPcUY4lAMwFVgEPADMjYlJE\nTAEOoRhcliQ1SWV7Bpm5PCKOofiwHwfMA34CLImICcCTwLLM3BIRiymCYRywIDM3VlWXJGlblZ5a\nmpmfGmT2rEGetwRYUmUtkqT6vOhMkmQYSJIMA0kShoEkCcNAkoRhIEnCMJAkYRhIkjAMJEkYBpIk\nDANJEoaBJAnDQJKEYSBJwjCQJGEYSJIwDCRJGAaSJAwDSRKGgSQJw0CSBHRWufKI+BGwvnz4E+Bi\nYCnQBzwOzMvMrRFxNnAusBlYlJnLq6xLkvRqlYVBREwCOjJzds287wELM/PuiLgKOCki7gfmA4cD\nk4D7IuL2zNxUVW2SpFercs/gMGByRKwst3MhMAO4p1y+AngPsAVYXX74b4qINcA04If1Vjx16mQ6\nO8dXWHo1uru72mq7rdBOvUJ79Wuv1aoyDDYAlwFXA79F8eHfkZl95fJeYAqwJ7Cu5nX98+tau3bD\nCMpq3Ruqp6e36dvs7u5qyXZboZ16hfbq115Hb931VBkGTwFryg//pyLiOYo9g35dwPMUYwpdg8yX\nJDVJlWcTnQVcDhAR+1LsAayMiNnl8rnAKuABYGZETIqIKcAhFIPLkqQmqXLP4BpgaUTcR3H20FnA\nL4AlETEBeBJYlplbImIxRTCMAxZk5sYK65IkDVBZGGTmS8AfDrJo1iDPXQIsqaoWSdLQvOhMkmQY\nSJIMA0kShoEkiQYHkCPi74CvA9/NzJerLUmS1GyN7hn8D+B44J8j4ssRcUSFNUmSmqyhPYPMvBe4\nNyJ2Bz4A3BQR6yluNfFVbyonSbu2hscMyiuHvwT8OXArcB6wD/C9SiqTJDVNo2MGPwOeoRg3+Hhm\nvljOv5sh7i4qSdo1NLpn8LvAKZl5HUBEHASQmVsy8+1VFSdJao5Gw+A/UxwaAtgLuCUizqmmJElS\nszUaBucAMwEy82cUt6L+RFVFSZKaq9Ew2A2oPWPoJYo7kUqSxoBG71r6XeDOiLixfHwynkUkSWNG\nQ3sGmXkBsBgI4E3A4sxcWGVhkqTm2Z57Ez0J3Eixl/DLiDimmpIkSc3W6HUGXwZOBJ6umd1Hccqp\nJGkX1+iYwXuA6L/YTJI0tjR6mOgZoKPKQiRJrdPonsEvgSci4vvAKz9Wn5lnVVKVJKmpGg2DW/n1\nFcgNi4i9gIeAY4HNwFKKsYbHgXmZuTUizgbOLZcvyszl27sdSdLINHpq6TeAe4BfANcD95bz6oqI\n3YCvAf3jDFcACzNzJsUhp5MiYh9gPnA0cBxwSURM3JFGJEk7rqEwiIhTgFuAK4HXAvdHxGnDvOwy\n4Crg5+XjGRSBArACmAMcCazOzE2ZuQ5YA0zbrg4kSSPW6GGiC4DfodgjeDYi3gb8PfBXgz05Is4A\nejLztoj4dDm7IzP7b2HRC0wB9gTW1by0f/6Qpk6dTGfn+AZL33l0d3e11XZboZ16hfbq116r1WgY\nbMnM3ogAIDP/LSK2DvH8s4C+iJgDTAeuo7jbab8u4HlgfTk9cP6Q1q7d0GDZg2ndG6qnp7fp2+zu\n7mrJdluhnXqF9urXXkdv3fU0Ggb/FBEfB3aLiOnAx4BH6j05M1+5Orn8AZyPAl+IiNmZeTcwF7gL\neAC4OCImAROBQygGlyVJTdTodQbzgP0oBoOvpfhG/7Ht3Nb5wOci4n5gArAsM/8fxT2PVgF3Agsy\nc+MQ65AkVaCjr2/XuxN1T0/vDhe9116tO0z07LMeJqpSO/UK7dWvvY7auutePNzovYm2su3vF/xb\nZr5hJIVJknYODYVBZr5yOKm8fuB9wDurKkqS1FzbcwtrADLz5cz8Nt6xVJLGjEYPE3245mEHcCjF\nT19KksaARk8tfXfNdB/FbSlOGf1yJEmt0OiYwZlVFyJJap1GDxP9hG3PJoLikFFfZr5pVKuSJDVV\no4eJbgA2AUuAl4FTgSOABRXVJUlqokbD4LjMPLzm8ZUR8VBm/qyKoiRJzdXoqaUd5U3nAIiIEyhu\nSSFJGgMa3TM4B7iu/DGaPuDHwOmVVSVJaqpGzyZ6CDg0Il4PbMzMF6otS5LUTI3+0tkBEXE7cD+w\nR0TcGREHVlqZJKlpGh0z+BrwBeAF4N+Bb1H8YI0kaQxoNAxen5krATKzLzOXUPxkpSRpDGg0DF6M\niDdQXngWEe+iuO5AkjQGNHo20R8By4E3R8QjwGuB/1JZVZKkpmo0DPamuOL4YGA88OPM9K6lkjRG\nNBoG/zMz/xb4pyqLkSS1RqNh8HREXAv8A/Bi/8zM9IwiSRoDhgyDiNgvM/8VeI7iDqVH1SzuY4jT\nSyNiPMWN7aJ87keBjcDS8vHjwLzM3BoRZwPnApuBRZm5fEcbkiRtv+H2DG4B3p6ZZ0bE+Zl5+Xas\n+0SAzDw6ImYDF1MEysLMvDsirgJOioj7gfnA4cAk4L6IuD0zPVtJkppkuFNLO2qmT92eFWfmdynu\naQRwAPA8MAO4p5y3ApgDHAmszsxNmbkOWANM255tSZJGZrg9g9oftOmo+6w6MnNzRHwD+H3gA8Cx\nmdm/zl5gCsXFa+tqXtY/v66pUyfT2Tl+e8tpue7urrbabiu0U6/QXv3aa7UaHUCGwX/pbFiZeXpE\nXEAx+Lx7zaIuir2F9eX0wPl1rV27YUdKqVl9a/T09DZ9m93dXS3Zbiu0U6/QXv3a6+itu57hwuDQ\niHimnN6vZnrYn7uMiA8Bb8jMS4ANwFbgwYiYnZl3A3OBu4AHgIsjYhIwETiEYnBZktQkw4XBwSNY\n93eAr0fEvcBuwCeBJ4ElETGhnF6WmVsiYjGwimIMY0FmbhzBdiVJ22nIMBjJz1pm5q+ADw6yaNYg\nz11CcRqqJKkFGr1RnSRpDDMMJEmGgSTJMJAkYRhIkjAMJEkYBpIkDANJEoaBJAnDQJKEYSBJwjCQ\nJGEYSJIwDCRJGAaSJAwDSRKGgSQJw0CShGEgScIwkCRhGEiSgM4qVhoRuwHXAgcCE4FFwBPAUqAP\neByYl5lbI+Js4FxgM7AoM5dXUZMkqb6q9gxOA57LzJnA8cCXgCuAheW8DuCkiNgHmA8cDRwHXBIR\nEyuqSZJURyV7BsC3gWXldAfFt/4ZwD3lvBXAe4AtwOrM3ARsiog1wDTgh0OtfOrUyXR2jq+i7kp1\nd3e11XZboZ16hfbq116rVUkYZOYLABHRRREKC4HLMrOvfEovMAXYE1hX89L++UNau3bDCKpr3Ruq\np6e36dvs7u5qyXZboZ16hfbq115Hb931VDaAHBH7A3cB38zMG4CtNYu7gOeB9bz607l/viSpiSoJ\ng4jYG1gJXJCZ15azH46I2eX0XGAV8AAwMyImRcQU4BCKwWVJUhNVNWZwITAVuCgiLirnnQcsjogJ\nwJPAsszcEhGLKYJhHLAgMzdWVJMkqY6qxgzOo/jwH2jWIM9dAiypog5JUmO86EySZBhIkgwDSRKG\ngSQJw0CShGEgScIwkCRhGEiSMAwkSRgGkiQMA0kShoEkCcNAkoRhIEnCMJAkYRhIkjAMJEkYBpIk\nDANJEoaBJAnorHLlEfEO4NLMnB0RBwFLgT7gcWBeZm6NiLOBc4HNwKLMXF5lTZKkbVUWBhHxKeBD\nwK/KWVcACzPz7oi4CjgpIu4H5gOHA5OA+yLi9szcVFVdrbTXXl0t2e6zz7Zks5J2IVUeJnoaOLnm\n8QzgnnJ6BTAHOBJYnZmbMnMdsAaYVmFNkqRBVLZnkJk3RcSBNbM6MrOvnO4FpgB7AutqntM/f0hT\np06ms3P8aJU65nV3t2aPpBXaqVdor37ttVqVjhkMsLVmugt4HlhfTg+cP6S1azeMoIz2eUP16+np\nbXUJTdHd3dU2vUJ79Wuvo7fuepp5NtHDETG7nJ4LrAIeAGZGxKSImAIcQjG4LElqombuGZwPLImI\nCcCTwLLM3BIRiymCYRywIDM3NrEmSRLQ0dfXN/yzdjI9Pb07XHSrzuhppWefdfd6LGqnfu111Nbd\nUW+ZF51JkgwDSZJhIEnCMJAkYRhIkjAMJEkYBpIkDANJEoaBJAnDQJKEYSBJwjCQJGEYSJIwDCRJ\nNPf3DNQirbxtd7vcPlva1blnIEkyDCRJhoEkCcNAkoRhIEliJzmbKCLGAV8BDgM2AR/JzDWtrUq7\nsladQeXZU9pV7RRhALwPmJSZ74yIo4DLgZNaXJO03ZofQr/enkGkkdhZwuBdwK0AmfmDiDi8xfVo\nlLTyw1GqSvXv6/rrryr0d5Yw2BNYV/N4S0R0ZubmwZ7c3d3VsaMb6uvb0VdKO7uxHYTd3TtPf639\nHKnm77CzDCCv59UdjqsXBJKk0bezhMFq4L0A5ZjBY60tR5Lay85ymOhm4NiI+D7QAZzZ4nokqa10\n9HkQXZLa3s5ymEiS1EKGgSTJMJAk7TwDyJUby7e8iIh3AJdm5uyIOAhYCvQBjwPzMnNrRJwNnAts\nBhZl5vKWFbyDImI34FrgQGAisAh4grHb73hgCRAU/X0U2MgY7RcgIvYCHgKOpehlKWOw14j4EcUp\n9QA/AS6mxb22057BK7e8AP6U4pYXu7yI+BRwNTCpnHUFsDAzZ1KcmXVSROwDzAeOBo4DLomIia2o\nd4ROA54rezse+BJju98TATLzaGAhxQfGmO23DPuvAS+Ws8ZkrxExCejIzNnlvzPZCXptpzB41S0v\ngLFyy4ungZNrHs8A7imnVwBzgCOB1Zm5KTPXAWuAaU2tcnR8G7ionO6g+LY0ZvvNzO8C55QPDwCe\nZwz3C1wGXAX8vHw8Vns9DJgcESsj4s7y2qqW99pOYTDoLS9aVcxoycybgJdrZnVkZv/5wr3AFLbt\nvX/+LiUzX8jM3ojoApZRfFses/0CZObmiPgG8EXgesZovxFxBtCTmbfVzB6TvQIbKILvOIpDfzvF\n/9d2CoN2ueXF1prpLopvkwN775+/y4mI/YG7gG9m5g2M8X4BMvN04GCK8YPdaxaNpX7Porjw9G5g\nOnAdsFfN8rHU61PAX2VmX2Y+BTwH7F2zvCW9tlMYtMstLx6OiNnl9FxgFfAAMDMiJkXEFOAQikGq\nXUpE7A2sBC7IzGvL2WO53w9FxKfLhxsogu/BsdhvZh6TmbMyczbwCPBhYMVY7JUi+C4HiIh9KfYA\nVra6113+MMl2aJdbXpwPLImICcCTwLLM3BIRiyneYOOABZm5sZVF7qALganARRHRP3ZwHrB4jPb7\nHeDrEXEvsBvwSYoex+r/34HG6nv5GmBpRNxHcfbQWcAvaHGv3o5CktRWh4kkSXUYBpIkw0CSZBhI\nkjAMJEm016ml0g6LiAMpLhZ6YsCiEzPz/za/Iml0GQZS436emdNbXYRUBcNAGoGI+I8U9w3ag+L2\nCZdn5uKI+CxwFPCbFHdXXQl8FXgdxdXEn8jMh1tStDQIw0Bq3L4R8UjN4+uB/SjuM39HRLwJeBRY\nXC6flJlvAYiI1cDHM/PhiHgLxRXx0cTapSEZBlLjtjlMVP4AzfHlPYSmUewh9PuH8jl7AEdQ3Fqi\nf9keEfG6zHyu+rKl4RkG0sjcCKwFbgH+GvivNcv6f6RlPLCxNkgi4g3AL5tVpDQcTy2VRuZY4DOZ\n+TfALHhlb+EV5Q+T/HNEnFYuPxa4t9mFSkNxz0Aamc8C90XE80ACPwXeOMjzTgWuKn+m9CXglJof\nM5FazruWSpI8TCRJMgwkSRgGkiQMA0kShoEkCcNAkoRhIEkC/j/Xdhlfu1ZzsAAAAABJRU5ErkJg\ngg==\n",
      "text/plain": [
       "<matplotlib.figure.Figure at 0x10f19b850>"
      ]
     },
     "metadata": {},
     "output_type": "display_data"
    }
   ],
   "source": [
    "%matplotlib inline\n",
    "\n",
    "plt.hist(fare_cleaned_df['Fare'].values, color='blue')\n",
    "plt.title(\"Histogram of Passenger Fare\")\n",
    "plt.xlabel(\"Fare\")\n",
    "plt.ylabel(\"Frequency\")\n",
    "grouped_fare_cleaned_df = fare_cleaned_df.copy()\n",
    "\n",
    "grouped_fare_cleaned_df = grouped_fare_cleaned_df.groupby(['Survived'], as_index=True)['Fare']\n",
    "grouped_fare_cleaned_df.describe().loc[:,['count','mean']]"
   ]
  },
  {
   "cell_type": "markdown",
   "metadata": {},
   "source": [
    "##### Dropping Rows with Fares > 200"
   ]
  },
  {
   "cell_type": "code",
   "execution_count": 8,
   "metadata": {
    "collapsed": false
   },
   "outputs": [
    {
     "data": {
      "text/plain": [
       "Survived       \n",
       "0         count    543.000000\n",
       "          mean      19.720801\n",
       "1         count    328.000000\n",
       "          mean      37.802998\n",
       "Name: Fare, dtype: float64"
      ]
     },
     "execution_count": 8,
     "metadata": {},
     "output_type": "execute_result"
    },
    {
     "data": {
      "image/png": "iVBORw0KGgoAAAANSUhEUgAAAYMAAAETCAYAAADUAmpRAAAABHNCSVQICAgIfAhkiAAAAAlwSFlz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\nGEiSMAwkScD/B2zIGek8XghTAAAAAElFTkSuQmCC\n",
      "text/plain": [
       "<matplotlib.figure.Figure at 0x111bb5110>"
      ]
     },
     "metadata": {},
     "output_type": "display_data"
    }
   ],
   "source": [
    "fare_cleaned_df = fare_cleaned_df.drop(fare_cleaned_df[fare_cleaned_df.Fare > 200].index)\n",
    "\n",
    "%matplotlib inline\n",
    "\n",
    "plt.hist(fare_cleaned_df['Fare'].values, color='blue')\n",
    "plt.title(\"Histogram of Passenger Fare\")\n",
    "plt.xlabel(\"Fare\")\n",
    "plt.ylabel(\"Frequency\")\n",
    "\n",
    "grouped_fare_cleaned_df = fare_cleaned_df.copy()\n",
    "\n",
    "grouped_fare_cleaned_df = grouped_fare_cleaned_df.groupby(['Survived'], as_index=True)['Fare']\n",
    "grouped_fare_cleaned_df.describe().loc[:,['count','mean']]"
   ]
  },
  {
   "cell_type": "markdown",
   "metadata": {},
   "source": [
    "#### Sex DataFrame"
   ]
  },
  {
   "cell_type": "code",
   "execution_count": 9,
   "metadata": {
    "collapsed": false
   },
   "outputs": [
    {
     "data": {
      "text/html": [
       "<div>\n",
       "<table border=\"1\" class=\"dataframe\">\n",
       "  <thead>\n",
       "    <tr style=\"text-align: right;\">\n",
       "      <th></th>\n",
       "      <th>Survived</th>\n",
       "      <th>Sex</th>\n",
       "    </tr>\n",
       "  </thead>\n",
       "  <tbody>\n",
       "    <tr>\n",
       "      <th>0</th>\n",
       "      <td>0</td>\n",
       "      <td>male</td>\n",
       "    </tr>\n",
       "    <tr>\n",
       "      <th>1</th>\n",
       "      <td>1</td>\n",
       "      <td>female</td>\n",
       "    </tr>\n",
       "    <tr>\n",
       "      <th>2</th>\n",
       "      <td>1</td>\n",
       "      <td>female</td>\n",
       "    </tr>\n",
       "    <tr>\n",
       "      <th>3</th>\n",
       "      <td>1</td>\n",
       "      <td>female</td>\n",
       "    </tr>\n",
       "    <tr>\n",
       "      <th>4</th>\n",
       "      <td>0</td>\n",
       "      <td>male</td>\n",
       "    </tr>\n",
       "  </tbody>\n",
       "</table>\n",
       "</div>"
      ],
      "text/plain": [
       "   Survived     Sex\n",
       "0         0    male\n",
       "1         1  female\n",
       "2         1  female\n",
       "3         1  female\n",
       "4         0    male"
      ]
     },
     "execution_count": 9,
     "metadata": {},
     "output_type": "execute_result"
    }
   ],
   "source": [
    "sex_cleaned_df = titanic_df.copy()\n",
    "\n",
    "drop_columns_inplace(sex_cleaned_df, ['Survived','Sex'])\n",
    "\n",
    "sex_cleaned_df.head()"
   ]
  },
  {
   "cell_type": "code",
   "execution_count": 10,
   "metadata": {
    "collapsed": false
   },
   "outputs": [
    {
     "data": {
      "text/html": [
       "<div>\n",
       "<table border=\"1\" class=\"dataframe\">\n",
       "  <thead>\n",
       "    <tr style=\"text-align: right;\">\n",
       "      <th></th>\n",
       "      <th></th>\n",
       "      <th>Survived</th>\n",
       "    </tr>\n",
       "    <tr>\n",
       "      <th>Sex</th>\n",
       "      <th>Survived</th>\n",
       "      <th></th>\n",
       "    </tr>\n",
       "  </thead>\n",
       "  <tbody>\n",
       "    <tr>\n",
       "      <th rowspan=\"2\" valign=\"top\">female</th>\n",
       "      <th>0</th>\n",
       "      <td>81</td>\n",
       "    </tr>\n",
       "    <tr>\n",
       "      <th>1</th>\n",
       "      <td>233</td>\n",
       "    </tr>\n",
       "    <tr>\n",
       "      <th rowspan=\"2\" valign=\"top\">male</th>\n",
       "      <th>0</th>\n",
       "      <td>468</td>\n",
       "    </tr>\n",
       "    <tr>\n",
       "      <th>1</th>\n",
       "      <td>109</td>\n",
       "    </tr>\n",
       "  </tbody>\n",
       "</table>\n",
       "</div>"
      ],
      "text/plain": [
       "                 Survived\n",
       "Sex    Survived          \n",
       "female 0               81\n",
       "       1              233\n",
       "male   0              468\n",
       "       1              109"
      ]
     },
     "execution_count": 10,
     "metadata": {},
     "output_type": "execute_result"
    },
    {
     "data": {
      "image/png": "iVBORw0KGgoAAAANSUhEUgAAAYMAAAEaCAYAAADzDTuZAAAABHNCSVQICAgIfAhkiAAAAAlwSFlz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\nrkJggg==\n",
      "text/plain": [
       "<matplotlib.figure.Figure at 0x111cd2390>"
      ]
     },
     "metadata": {},
     "output_type": "display_data"
    }
   ],
   "source": [
    "grouped_sex_cleaned_df = sex_cleaned_df.copy()\n",
    "grouped_sex_cleaned_df = grouped_sex_cleaned_df.groupby(['Sex','Survived'], as_index=True)\n",
    "\n",
    "grouped_sex_cleaned_df[['Survived']].count().unstack().plot(kind='bar').set_ylabel('Count')\n",
    "grouped_sex_cleaned_df[['Survived']].count()"
   ]
  },
  {
   "cell_type": "markdown",
   "metadata": {},
   "source": [
    "#### Age DataFrame"
   ]
  },
  {
   "cell_type": "code",
   "execution_count": 11,
   "metadata": {
    "collapsed": false
   },
   "outputs": [
    {
     "name": "stdout",
     "output_type": "stream",
     "text": [
      "Age DataFrame Preview:\n"
     ]
    },
    {
     "data": {
      "text/html": [
       "<div>\n",
       "<table border=\"1\" class=\"dataframe\">\n",
       "  <thead>\n",
       "    <tr style=\"text-align: right;\">\n",
       "      <th></th>\n",
       "      <th>Survived</th>\n",
       "      <th>Age</th>\n",
       "    </tr>\n",
       "  </thead>\n",
       "  <tbody>\n",
       "    <tr>\n",
       "      <th>0</th>\n",
       "      <td>0</td>\n",
       "      <td>22.0</td>\n",
       "    </tr>\n",
       "    <tr>\n",
       "      <th>1</th>\n",
       "      <td>1</td>\n",
       "      <td>38.0</td>\n",
       "    </tr>\n",
       "    <tr>\n",
       "      <th>2</th>\n",
       "      <td>1</td>\n",
       "      <td>26.0</td>\n",
       "    </tr>\n",
       "    <tr>\n",
       "      <th>3</th>\n",
       "      <td>1</td>\n",
       "      <td>35.0</td>\n",
       "    </tr>\n",
       "    <tr>\n",
       "      <th>4</th>\n",
       "      <td>0</td>\n",
       "      <td>35.0</td>\n",
       "    </tr>\n",
       "  </tbody>\n",
       "</table>\n",
       "</div>"
      ],
      "text/plain": [
       "   Survived   Age\n",
       "0         0  22.0\n",
       "1         1  38.0\n",
       "2         1  26.0\n",
       "3         1  35.0\n",
       "4         0  35.0"
      ]
     },
     "execution_count": 11,
     "metadata": {},
     "output_type": "execute_result"
    }
   ],
   "source": [
    "age_cleaned_df = age_dropna_df\n",
    "drop_columns_inplace(age_cleaned_df, ['Age','Survived'])\n",
    "\n",
    "print 'Age DataFrame Preview:'\n",
    "age_cleaned_df.head()"
   ]
  },
  {
   "cell_type": "code",
   "execution_count": 12,
   "metadata": {
    "collapsed": false
   },
   "outputs": [
    {
     "data": {
      "text/html": [
       "<div>\n",
       "<table border=\"1\" class=\"dataframe\">\n",
       "  <thead>\n",
       "    <tr style=\"text-align: right;\">\n",
       "      <th></th>\n",
       "      <th>Survived</th>\n",
       "      <th>Age</th>\n",
       "    </tr>\n",
       "  </thead>\n",
       "  <tbody>\n",
       "    <tr>\n",
       "      <th>count</th>\n",
       "      <td>714.000000</td>\n",
       "      <td>714.000000</td>\n",
       "    </tr>\n",
       "    <tr>\n",
       "      <th>mean</th>\n",
       "      <td>0.406162</td>\n",
       "      <td>29.699118</td>\n",
       "    </tr>\n",
       "    <tr>\n",
       "      <th>std</th>\n",
       "      <td>0.491460</td>\n",
       "      <td>14.526497</td>\n",
       "    </tr>\n",
       "    <tr>\n",
       "      <th>min</th>\n",
       "      <td>0.000000</td>\n",
       "      <td>0.420000</td>\n",
       "    </tr>\n",
       "    <tr>\n",
       "      <th>25%</th>\n",
       "      <td>0.000000</td>\n",
       "      <td>20.125000</td>\n",
       "    </tr>\n",
       "    <tr>\n",
       "      <th>50%</th>\n",
       "      <td>0.000000</td>\n",
       "      <td>28.000000</td>\n",
       "    </tr>\n",
       "    <tr>\n",
       "      <th>75%</th>\n",
       "      <td>1.000000</td>\n",
       "      <td>38.000000</td>\n",
       "    </tr>\n",
       "    <tr>\n",
       "      <th>max</th>\n",
       "      <td>1.000000</td>\n",
       "      <td>80.000000</td>\n",
       "    </tr>\n",
       "  </tbody>\n",
       "</table>\n",
       "</div>"
      ],
      "text/plain": [
       "         Survived         Age\n",
       "count  714.000000  714.000000\n",
       "mean     0.406162   29.699118\n",
       "std      0.491460   14.526497\n",
       "min      0.000000    0.420000\n",
       "25%      0.000000   20.125000\n",
       "50%      0.000000   28.000000\n",
       "75%      1.000000   38.000000\n",
       "max      1.000000   80.000000"
      ]
     },
     "execution_count": 12,
     "metadata": {},
     "output_type": "execute_result"
    },
    {
     "data": {
      "image/png": "iVBORw0KGgoAAAANSUhEUgAAAYMAAAD3CAYAAAD/oDhxAAAABHNCSVQICAgIfAhkiAAAAAlwSFlz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\nDCRJWAaSJCwDSRKWgSQJ+H++ENMafG9eKQAAAABJRU5ErkJggg==\n",
      "text/plain": [
       "<matplotlib.figure.Figure at 0x111bb5290>"
      ]
     },
     "metadata": {},
     "output_type": "display_data"
    }
   ],
   "source": [
    "age_cleaned_df['Age'].plot(kind='hist')\n",
    "age_cleaned_df.describe()"
   ]
  },
  {
   "cell_type": "markdown",
   "metadata": {},
   "source": [
    "#### Embarked DataFrame"
   ]
  },
  {
   "cell_type": "code",
   "execution_count": 13,
   "metadata": {
    "collapsed": false
   },
   "outputs": [
    {
     "name": "stdout",
     "output_type": "stream",
     "text": [
      "Embarked DataFrame Preview:\n"
     ]
    },
    {
     "data": {
      "text/html": [
       "<div>\n",
       "<table border=\"1\" class=\"dataframe\">\n",
       "  <thead>\n",
       "    <tr style=\"text-align: right;\">\n",
       "      <th></th>\n",
       "      <th>Survived</th>\n",
       "      <th>Embarked</th>\n",
       "    </tr>\n",
       "  </thead>\n",
       "  <tbody>\n",
       "    <tr>\n",
       "      <th>0</th>\n",
       "      <td>0</td>\n",
       "      <td>S</td>\n",
       "    </tr>\n",
       "    <tr>\n",
       "      <th>1</th>\n",
       "      <td>1</td>\n",
       "      <td>C</td>\n",
       "    </tr>\n",
       "    <tr>\n",
       "      <th>2</th>\n",
       "      <td>1</td>\n",
       "      <td>S</td>\n",
       "    </tr>\n",
       "    <tr>\n",
       "      <th>3</th>\n",
       "      <td>1</td>\n",
       "      <td>S</td>\n",
       "    </tr>\n",
       "    <tr>\n",
       "      <th>4</th>\n",
       "      <td>0</td>\n",
       "      <td>S</td>\n",
       "    </tr>\n",
       "  </tbody>\n",
       "</table>\n",
       "</div>"
      ],
      "text/plain": [
       "   Survived Embarked\n",
       "0         0        S\n",
       "1         1        C\n",
       "2         1        S\n",
       "3         1        S\n",
       "4         0        S"
      ]
     },
     "execution_count": 13,
     "metadata": {},
     "output_type": "execute_result"
    }
   ],
   "source": [
    "embarked_cleaned_df = embarked_dropna_df\n",
    "drop_columns_inplace(embarked_cleaned_df, ['Embarked','Survived'])\n",
    "\n",
    "print 'Embarked DataFrame Preview:'\n",
    "embarked_cleaned_df.head()"
   ]
  },
  {
   "cell_type": "markdown",
   "metadata": {},
   "source": [
    "##### Port of Embarkation Data Comments\n",
    "There is a much larger number of passengers who embarked from Southampton compared to passengers who embarked from either Cherbourg or Queenstown. With this disparity in mind, the results from the analysis of port of embarkation should not be given marked consideration."
   ]
  },
  {
   "cell_type": "code",
   "execution_count": 14,
   "metadata": {
    "collapsed": false
   },
   "outputs": [
    {
     "data": {
      "text/html": [
       "<div>\n",
       "<table border=\"1\" class=\"dataframe\">\n",
       "  <thead>\n",
       "    <tr style=\"text-align: right;\">\n",
       "      <th></th>\n",
       "      <th></th>\n",
       "      <th>Survived</th>\n",
       "    </tr>\n",
       "    <tr>\n",
       "      <th>Embarked</th>\n",
       "      <th>Survived</th>\n",
       "      <th></th>\n",
       "    </tr>\n",
       "  </thead>\n",
       "  <tbody>\n",
       "    <tr>\n",
       "      <th rowspan=\"2\" valign=\"top\">C</th>\n",
       "      <th>0</th>\n",
       "      <td>75</td>\n",
       "    </tr>\n",
       "    <tr>\n",
       "      <th>1</th>\n",
       "      <td>93</td>\n",
       "    </tr>\n",
       "    <tr>\n",
       "      <th rowspan=\"2\" valign=\"top\">Q</th>\n",
       "      <th>0</th>\n",
       "      <td>47</td>\n",
       "    </tr>\n",
       "    <tr>\n",
       "      <th>1</th>\n",
       "      <td>30</td>\n",
       "    </tr>\n",
       "    <tr>\n",
       "      <th rowspan=\"2\" valign=\"top\">S</th>\n",
       "      <th>0</th>\n",
       "      <td>427</td>\n",
       "    </tr>\n",
       "    <tr>\n",
       "      <th>1</th>\n",
       "      <td>217</td>\n",
       "    </tr>\n",
       "  </tbody>\n",
       "</table>\n",
       "</div>"
      ],
      "text/plain": [
       "                   Survived\n",
       "Embarked Survived          \n",
       "C        0               75\n",
       "         1               93\n",
       "Q        0               47\n",
       "         1               30\n",
       "S        0              427\n",
       "         1              217"
      ]
     },
     "execution_count": 14,
     "metadata": {},
     "output_type": "execute_result"
    },
    {
     "data": {
      "image/png": "iVBORw0KGgoAAAANSUhEUgAAAYMAAAEECAYAAADK0VhyAAAABHNCSVQICAgIfAhkiAAAAAlwSFlz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\nTkSuQmCC\n",
      "text/plain": [
       "<matplotlib.figure.Figure at 0x11200ab90>"
      ]
     },
     "metadata": {},
     "output_type": "display_data"
    }
   ],
   "source": [
    "grouped_embarked_cleaned_df = embarked_cleaned_df.copy()\n",
    "grouped_embarked_cleaned_df = grouped_embarked_cleaned_df.groupby(['Embarked','Survived'], as_index=True)\n",
    "\n",
    "grouped_embarked_cleaned_df[['Survived']].count().unstack().plot(kind='bar').set_ylabel('Count')\n",
    "grouped_embarked_cleaned_df[['Survived']].count()"
   ]
  },
  {
   "cell_type": "markdown",
   "metadata": {},
   "source": [
    "## 3. Data Exploration"
   ]
  },
  {
   "cell_type": "markdown",
   "metadata": {},
   "source": [
    "### List of Custom Functions Used In Two or More Sections:"
   ]
  },
  {
   "cell_type": "code",
   "execution_count": 15,
   "metadata": {
    "collapsed": true
   },
   "outputs": [],
   "source": [
    "def standardize_column(df_with_column, mean, std):\n",
    "    return (df_with_column - mean) / std\n",
    "\n",
    "def above_or_below_mean(df_with_column):\n",
    "    if df_with_column > 0:\n",
    "        return 'Above Mean'\n",
    "    else:\n",
    "        return 'Below Mean'"
   ]
  },
  {
   "cell_type": "markdown",
   "metadata": {},
   "source": [
    "### Part 1: Ticket Fare"
   ]
  },
  {
   "cell_type": "markdown",
   "metadata": {},
   "source": [
    "#### Mean Fare"
   ]
  },
  {
   "cell_type": "code",
   "execution_count": 16,
   "metadata": {
    "collapsed": false
   },
   "outputs": [
    {
     "name": "stdout",
     "output_type": "stream",
     "text": [
      "Mean Fare:\n",
      "26.5301703789\n"
     ]
    }
   ],
   "source": [
    "mean_fare = fare_cleaned_df['Fare'].mean()\n",
    "print 'Mean Fare:'\n",
    "print mean_fare"
   ]
  },
  {
   "cell_type": "markdown",
   "metadata": {},
   "source": [
    "#### Standard Deviation of Fare"
   ]
  },
  {
   "cell_type": "code",
   "execution_count": 17,
   "metadata": {
    "collapsed": false
   },
   "outputs": [
    {
     "name": "stdout",
     "output_type": "stream",
     "text": [
      "Standard Deviation of Fare:\n",
      "29.3343296215\n"
     ]
    }
   ],
   "source": [
    "std_fare = fare_cleaned_df['Fare'].std(ddof=0)\n",
    "print 'Standard Deviation of Fare:'\n",
    "print std_fare"
   ]
  },
  {
   "cell_type": "code",
   "execution_count": 18,
   "metadata": {
    "collapsed": true
   },
   "outputs": [],
   "source": [
    "grouped_fare = fare_cleaned_df.copy()\n",
    "grouped_fare = grouped_fare.groupby(['Survived'], as_index=True)"
   ]
  },
  {
   "cell_type": "code",
   "execution_count": 19,
   "metadata": {
    "collapsed": false
   },
   "outputs": [
    {
     "name": "stdout",
     "output_type": "stream",
     "text": [
      "Mean Fare by Survival Group:\n"
     ]
    },
    {
     "data": {
      "text/html": [
       "<div>\n",
       "<table border=\"1\" class=\"dataframe\">\n",
       "  <thead>\n",
       "    <tr style=\"text-align: right;\">\n",
       "      <th></th>\n",
       "      <th>Fare</th>\n",
       "    </tr>\n",
       "    <tr>\n",
       "      <th>Survived</th>\n",
       "      <th></th>\n",
       "    </tr>\n",
       "  </thead>\n",
       "  <tbody>\n",
       "    <tr>\n",
       "      <th>0</th>\n",
       "      <td>19.720801</td>\n",
       "    </tr>\n",
       "    <tr>\n",
       "      <th>1</th>\n",
       "      <td>37.802998</td>\n",
       "    </tr>\n",
       "  </tbody>\n",
       "</table>\n",
       "</div>"
      ],
      "text/plain": [
       "               Fare\n",
       "Survived           \n",
       "0         19.720801\n",
       "1         37.802998"
      ]
     },
     "execution_count": 19,
     "metadata": {},
     "output_type": "execute_result"
    }
   ],
   "source": [
    "print 'Mean Fare by Survival Group:'\n",
    "grouped_fare.mean()"
   ]
  },
  {
   "cell_type": "code",
   "execution_count": 20,
   "metadata": {
    "collapsed": false
   },
   "outputs": [
    {
     "name": "stdout",
     "output_type": "stream",
     "text": [
      "Standard Deviation of Fare by Survival Group:\n"
     ]
    },
    {
     "data": {
      "text/html": [
       "<div>\n",
       "<table border=\"1\" class=\"dataframe\">\n",
       "  <thead>\n",
       "    <tr style=\"text-align: right;\">\n",
       "      <th></th>\n",
       "      <th>Fare</th>\n",
       "    </tr>\n",
       "    <tr>\n",
       "      <th>Survived</th>\n",
       "      <th></th>\n",
       "    </tr>\n",
       "  </thead>\n",
       "  <tbody>\n",
       "    <tr>\n",
       "      <th>0</th>\n",
       "      <td>21.542841</td>\n",
       "    </tr>\n",
       "    <tr>\n",
       "      <th>1</th>\n",
       "      <td>36.234176</td>\n",
       "    </tr>\n",
       "  </tbody>\n",
       "</table>\n",
       "</div>"
      ],
      "text/plain": [
       "               Fare\n",
       "Survived           \n",
       "0         21.542841\n",
       "1         36.234176"
      ]
     },
     "execution_count": 20,
     "metadata": {},
     "output_type": "execute_result"
    }
   ],
   "source": [
    "print 'Standard Deviation of Fare by Survival Group:'\n",
    "grouped_fare.std(ddof=0)"
   ]
  },
  {
   "cell_type": "markdown",
   "metadata": {},
   "source": [
    "#### Fare Boxplot"
   ]
  },
  {
   "cell_type": "code",
   "execution_count": 80,
   "metadata": {
    "collapsed": false
   },
   "outputs": [
    {
     "data": {
      "text/plain": [
       "Survived      \n",
       "0         mean    19.720801\n",
       "          std     21.562705\n",
       "1         mean    37.802998\n",
       "          std     36.289537\n",
       "Name: Fare, dtype: float64"
      ]
     },
     "execution_count": 80,
     "metadata": {},
     "output_type": "execute_result"
    },
    {
     "data": {
      "image/png": "iVBORw0KGgoAAAANSUhEUgAAAYEAAAEbCAYAAAA8pDgBAAAABHNCSVQICAgIfAhkiAAAAAlwSFlz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\n",
      "text/plain": [
       "<matplotlib.figure.Figure at 0x1124f4610>"
      ]
     },
     "metadata": {},
     "output_type": "display_data"
    }
   ],
   "source": [
    "fare_boxplot = fare_cleaned_df.copy()\n",
    "fare_boxplot.boxplot(column=['Fare'], by=['Survived']).set_yscale('log')\n",
    "\n",
    "fare_boxplot_grouped = fare_boxplot.copy()\n",
    "fare_boxplot_grouped = fare_boxplot_grouped.groupby(['Survived'], as_index=True)\n",
    "fare_boxplot_grouped['Fare'].describe().loc[:,['mean','std']]"
   ]
  },
  {
   "cell_type": "markdown",
   "metadata": {},
   "source": [
    "#### Standardizing Fare\n",
    "To be able to group the fare data by values above the mean and below the mean, a new column named \"Fare Standardized\" will be created that contains the z-score for each passenger fare. NumPy's \"vectorize\" method will be implemented to apply the custom \"standardize_column\" function to the new column."
   ]
  },
  {
   "cell_type": "code",
   "execution_count": 21,
   "metadata": {
    "collapsed": false
   },
   "outputs": [
    {
     "data": {
      "text/html": [
       "<div>\n",
       "<table border=\"1\" class=\"dataframe\">\n",
       "  <thead>\n",
       "    <tr style=\"text-align: right;\">\n",
       "      <th></th>\n",
       "      <th>Survived</th>\n",
       "      <th>Fare</th>\n",
       "      <th>Fare Standardized</th>\n",
       "    </tr>\n",
       "  </thead>\n",
       "  <tbody>\n",
       "    <tr>\n",
       "      <th>0</th>\n",
       "      <td>0</td>\n",
       "      <td>7.2500</td>\n",
       "      <td>-0.657256</td>\n",
       "    </tr>\n",
       "    <tr>\n",
       "      <th>1</th>\n",
       "      <td>1</td>\n",
       "      <td>71.2833</td>\n",
       "      <td>1.525623</td>\n",
       "    </tr>\n",
       "    <tr>\n",
       "      <th>2</th>\n",
       "      <td>1</td>\n",
       "      <td>7.9250</td>\n",
       "      <td>-0.634246</td>\n",
       "    </tr>\n",
       "    <tr>\n",
       "      <th>3</th>\n",
       "      <td>1</td>\n",
       "      <td>53.1000</td>\n",
       "      <td>0.905759</td>\n",
       "    </tr>\n",
       "    <tr>\n",
       "      <th>4</th>\n",
       "      <td>0</td>\n",
       "      <td>8.0500</td>\n",
       "      <td>-0.629984</td>\n",
       "    </tr>\n",
       "  </tbody>\n",
       "</table>\n",
       "</div>"
      ],
      "text/plain": [
       "   Survived     Fare  Fare Standardized\n",
       "0         0   7.2500          -0.657256\n",
       "1         1  71.2833           1.525623\n",
       "2         1   7.9250          -0.634246\n",
       "3         1  53.1000           0.905759\n",
       "4         0   8.0500          -0.629984"
      ]
     },
     "execution_count": 21,
     "metadata": {},
     "output_type": "execute_result"
    }
   ],
   "source": [
    "fare_cleaned_df_standardized = fare_cleaned_df.copy()\n",
    "\n",
    "fare_cleaned_df_standardized['Fare Standardized'] = \\\n",
    "    np.vectorize(standardize_column)(fare_cleaned_df_standardized['Fare'],mean_fare,std_fare)\n",
    "\n",
    "fare_cleaned_df_standardized.head()"
   ]
  },
  {
   "cell_type": "markdown",
   "metadata": {},
   "source": [
    "#### \"Above or Below Mean Fare\" Column\n",
    "A new column named \"Above or Below Mean Fare\" will be created using NumPy's \"vectorize\" method. This new column will assign a value of either \"Above Mean\" or \"Below Mean\" based on whether the value in \"Fare Standardized\" is greater or lesser than 0."
   ]
  },
  {
   "cell_type": "code",
   "execution_count": 22,
   "metadata": {
    "collapsed": false,
    "scrolled": true
   },
   "outputs": [
    {
     "data": {
      "text/html": [
       "<div>\n",
       "<table border=\"1\" class=\"dataframe\">\n",
       "  <thead>\n",
       "    <tr style=\"text-align: right;\">\n",
       "      <th></th>\n",
       "      <th>Survived</th>\n",
       "      <th>Fare</th>\n",
       "      <th>Fare Standardized</th>\n",
       "      <th>Above Or Below Mean Fare</th>\n",
       "    </tr>\n",
       "  </thead>\n",
       "  <tbody>\n",
       "    <tr>\n",
       "      <th>0</th>\n",
       "      <td>0</td>\n",
       "      <td>7.2500</td>\n",
       "      <td>-0.657256</td>\n",
       "      <td>Below Mean</td>\n",
       "    </tr>\n",
       "    <tr>\n",
       "      <th>1</th>\n",
       "      <td>1</td>\n",
       "      <td>71.2833</td>\n",
       "      <td>1.525623</td>\n",
       "      <td>Above Mean</td>\n",
       "    </tr>\n",
       "    <tr>\n",
       "      <th>2</th>\n",
       "      <td>1</td>\n",
       "      <td>7.9250</td>\n",
       "      <td>-0.634246</td>\n",
       "      <td>Below Mean</td>\n",
       "    </tr>\n",
       "    <tr>\n",
       "      <th>3</th>\n",
       "      <td>1</td>\n",
       "      <td>53.1000</td>\n",
       "      <td>0.905759</td>\n",
       "      <td>Above Mean</td>\n",
       "    </tr>\n",
       "    <tr>\n",
       "      <th>4</th>\n",
       "      <td>0</td>\n",
       "      <td>8.0500</td>\n",
       "      <td>-0.629984</td>\n",
       "      <td>Below Mean</td>\n",
       "    </tr>\n",
       "  </tbody>\n",
       "</table>\n",
       "</div>"
      ],
      "text/plain": [
       "   Survived     Fare  Fare Standardized Above Or Below Mean Fare\n",
       "0         0   7.2500          -0.657256               Below Mean\n",
       "1         1  71.2833           1.525623               Above Mean\n",
       "2         1   7.9250          -0.634246               Below Mean\n",
       "3         1  53.1000           0.905759               Above Mean\n",
       "4         0   8.0500          -0.629984               Below Mean"
      ]
     },
     "execution_count": 22,
     "metadata": {},
     "output_type": "execute_result"
    }
   ],
   "source": [
    "fare_cleaned_df_standardized_final = fare_cleaned_df_standardized.copy()\n",
    "\n",
    "fare_cleaned_df_standardized_final['Above Or Below Mean Fare'] = \\\n",
    "    np.vectorize(above_or_below_mean)(fare_cleaned_df_standardized_final['Fare Standardized'])\n",
    "\n",
    "fare_cleaned_df_standardized_final.head()"
   ]
  },
  {
   "cell_type": "code",
   "execution_count": 23,
   "metadata": {
    "collapsed": false
   },
   "outputs": [],
   "source": [
    "fare_cleaned_df_standardized_final = \\\n",
    "    fare_cleaned_df_standardized_final.drop(['Fare Standardized'], axis=1)\n",
    "fare_cleaned_df_standardized_final = \\\n",
    "    fare_cleaned_df_standardized_final.groupby(['Above Or Below Mean Fare','Survived'], as_index=True)"
   ]
  },
  {
   "cell_type": "markdown",
   "metadata": {},
   "source": [
    "#### Mean Fare Broken Down\n",
    "The most interesting observation from this grouped data is that in both cases where the passenger's fare is either above or below the mean, the passengers who survived paid a higher fare than those who did not survive. A possible explanation for this could be that cabins with higher fares were located closer to the top of the ship as opposed to cabins near the bottom that were not nearly as safe."
   ]
  },
  {
   "cell_type": "code",
   "execution_count": 24,
   "metadata": {
    "collapsed": false
   },
   "outputs": [
    {
     "data": {
      "text/html": [
       "<div>\n",
       "<table border=\"1\" class=\"dataframe\">\n",
       "  <thead>\n",
       "    <tr style=\"text-align: right;\">\n",
       "      <th></th>\n",
       "      <th></th>\n",
       "      <th>Fare</th>\n",
       "    </tr>\n",
       "    <tr>\n",
       "      <th>Above Or Below Mean Fare</th>\n",
       "      <th>Survived</th>\n",
       "      <th></th>\n",
       "    </tr>\n",
       "  </thead>\n",
       "  <tbody>\n",
       "    <tr>\n",
       "      <th rowspan=\"2\" valign=\"top\">Above Mean</th>\n",
       "      <th>0</th>\n",
       "      <td>50.159526</td>\n",
       "    </tr>\n",
       "    <tr>\n",
       "      <th>1</th>\n",
       "      <td>68.641403</td>\n",
       "    </tr>\n",
       "    <tr>\n",
       "      <th rowspan=\"2\" valign=\"top\">Below Mean</th>\n",
       "      <th>0</th>\n",
       "      <td>10.900078</td>\n",
       "    </tr>\n",
       "    <tr>\n",
       "      <th>1</th>\n",
       "      <td>14.259701</td>\n",
       "    </tr>\n",
       "  </tbody>\n",
       "</table>\n",
       "</div>"
      ],
      "text/plain": [
       "                                        Fare\n",
       "Above Or Below Mean Fare Survived           \n",
       "Above Mean               0         50.159526\n",
       "                         1         68.641403\n",
       "Below Mean               0         10.900078\n",
       "                         1         14.259701"
      ]
     },
     "execution_count": 24,
     "metadata": {},
     "output_type": "execute_result"
    }
   ],
   "source": [
    "fare_cleaned_df_standardized_final.mean()"
   ]
  },
  {
   "cell_type": "code",
   "execution_count": 25,
   "metadata": {
    "collapsed": false
   },
   "outputs": [],
   "source": [
    "fare_survival_grouped = fare_cleaned_df.copy()\n",
    "fare_survival_grouped = fare_survival_grouped.groupby('Survived')\n",
    "\n",
    "survived_fare_values = fare_survival_grouped.get_group(1)['Fare'].values\n",
    "not_survived_fare_values = fare_survival_grouped.get_group(0)['Fare'].values"
   ]
  },
  {
   "cell_type": "markdown",
   "metadata": {},
   "source": [
    "#### Histogram of Fare of Surviving and Non-Surviving Passengers\n",
    "Presented below is a histogram of passengers' fare data who survived and of those whom did not survive. Note the large frequency of non-surviving passenger fare in the 0 to ~20 range compared to surviving passenger fare in the same range. Also worth noting is the large difference between frequencies of surviving and non-surviving passenger fares in the ~50 to ~150 range."
   ]
  },
  {
   "cell_type": "code",
   "execution_count": 26,
   "metadata": {
    "collapsed": false
   },
   "outputs": [
    {
     "data": {
      "text/plain": [
       "<matplotlib.legend.Legend at 0x11202bed0>"
      ]
     },
     "execution_count": 26,
     "metadata": {},
     "output_type": "execute_result"
    },
    {
     "data": {
      "image/png": "iVBORw0KGgoAAAANSUhEUgAAAYMAAAETCAYAAADUAmpRAAAABHNCSVQICAgIfAhkiAAAAAlwSFlz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\nRID/B1niE/xHrLXzAAAAAElFTkSuQmCC\n",
      "text/plain": [
       "<matplotlib.figure.Figure at 0x112178f10>"
      ]
     },
     "metadata": {},
     "output_type": "display_data"
    }
   ],
   "source": [
    "import matplotlib.patches as mpatches\n",
    "import matplotlib.pyplot as plt\n",
    "import seaborn as sns\n",
    "%matplotlib inline\n",
    "\n",
    "plt.hist(survived_fare_values, color='green')\n",
    "plt.hist(not_survived_fare_values, color='red', alpha=0.5)\n",
    "plt.title(\"Histogram of Fare of Surviving and Non-Surviving Passengers\")\n",
    "plt.xlabel(\"Fare\")\n",
    "plt.ylabel(\"Frequency\")\n",
    "green_patch = mpatches.Patch(color='green', label='Surviving Passenger Fare')\n",
    "red_patch = mpatches.Patch(color='red', label='Non-Surviving Passenger Fare')\n",
    "plt.legend(handles=[green_patch, red_patch])"
   ]
  },
  {
   "cell_type": "markdown",
   "metadata": {},
   "source": [
    "#### Statistical Significance Test: Mann-Whitney U Test for Fare Data\n",
    "To test for statistical significance between the fare data of surviving passengers and fare data of non-surviving passengers, the Mann-Whitney U-Test will be used. The Mann-Whitney U-Test is the most applicable statistical test in this instance because the Mann-Whitney U-Test does not require the distributions of the samples to be normally distributed or have the same sample sizes unlike an independent t-test.\n",
    "\n",
    "An independent t-test would not be applicable in this instance because the sample sizes of the fare data for surviving and non-surviving passengers are different and are not normally distributed as seen in the previous cell.\n",
    "\n",
    "To conduct a Mann-Whitney U-Test, the \"mannwhitneyu\" method from the \"stats\" package of scipy will be implemented. The \"mannwhitneyu\" method returns a tuple containing a U-statistic and a P-Value. The P-Value is the most informative metric in this case. The \"alternative\" argument in the \"mannwhitneyu\" method with the value \"greater\" sets the method to conduct a one-sided test to check if the surviving passenger fare values are *significantly* greater than the non-surviving fare values.\n",
    "\n",
    "The significance will be tested at alpha = 0.05 in a one-tailed test.\n",
    "\n",
    "##### HYPOTHESES:\n",
    "\n",
    "Null Hypothesis: Survived Fare Values = Non-Survived Fare Values\n",
    "\n",
    "Alternative Hypothesis: Survived Fare Values > Non-Survived Fare Values\n",
    "\n",
    "##### RESULTS:\n",
    "\n",
    "According to the results of the test, the surviving passenger fare values are *significantly* greater than the non-surviving fare values with a P-value of 1.179e-22 at alpha = 0.05. **The null hypothesis is rejected.**"
   ]
  },
  {
   "cell_type": "code",
   "execution_count": 27,
   "metadata": {
    "collapsed": false
   },
   "outputs": [
    {
     "name": "stdout",
     "output_type": "stream",
     "text": [
      "Mann-Whitney U Test Results for Fare Values of Surviving and Non-Surviving Passengers:\n",
      "\n",
      "MannwhitneyuResult(statistic=122302.5, pvalue=1.1789432800624655e-20)\n"
     ]
    }
   ],
   "source": [
    "from scipy import stats\n",
    "\n",
    "mann_whitney_u_fare_results = stats.mannwhitneyu\\\n",
    "    (survived_fare_values, not_survived_fare_values, alternative='greater')\n",
    "\n",
    "print 'Mann-Whitney U Test Results for Fare Values of Surviving and Non-Surviving Passengers:'\n",
    "print ''\n",
    "print mann_whitney_u_fare_results"
   ]
  },
  {
   "cell_type": "code",
   "execution_count": 28,
   "metadata": {
    "collapsed": false
   },
   "outputs": [
    {
     "name": "stdout",
     "output_type": "stream",
     "text": [
      "Mann-Whitney U Test P-Value for Fare Values of Surviving and Non-Surviving Passengers:\n",
      "\n",
      "p-value = 1.17894328006e-20\n"
     ]
    }
   ],
   "source": [
    "print 'Mann-Whitney U Test P-Value for Fare Values of Surviving and Non-Surviving Passengers:'\n",
    "print ''\n",
    "print 'p-value =', mann_whitney_u_fare_results[1]"
   ]
  },
  {
   "cell_type": "markdown",
   "metadata": {},
   "source": [
    "### Part 2: Age"
   ]
  },
  {
   "cell_type": "markdown",
   "metadata": {},
   "source": [
    "#### Mean Age"
   ]
  },
  {
   "cell_type": "code",
   "execution_count": 29,
   "metadata": {
    "collapsed": false
   },
   "outputs": [
    {
     "name": "stdout",
     "output_type": "stream",
     "text": [
      "Mean Age:\n",
      "29.6991176471\n"
     ]
    }
   ],
   "source": [
    "mean_age = age_cleaned_df['Age'].mean()\n",
    "print 'Mean Age:'\n",
    "print mean_age"
   ]
  },
  {
   "cell_type": "markdown",
   "metadata": {},
   "source": [
    "#### Standard Deviation of Age"
   ]
  },
  {
   "cell_type": "code",
   "execution_count": 30,
   "metadata": {
    "collapsed": false
   },
   "outputs": [
    {
     "name": "stdout",
     "output_type": "stream",
     "text": [
      "Standard Deviation of Age:\n",
      "14.5163211508\n"
     ]
    }
   ],
   "source": [
    "std_age = age_cleaned_df['Age'].std(ddof=0)\n",
    "print 'Standard Deviation of Age:'\n",
    "print std_age"
   ]
  },
  {
   "cell_type": "code",
   "execution_count": 31,
   "metadata": {
    "collapsed": true
   },
   "outputs": [],
   "source": [
    "grouped_age = age_cleaned_df.copy()\n",
    "grouped_age = grouped_age.groupby(['Survived'], as_index=False)"
   ]
  },
  {
   "cell_type": "code",
   "execution_count": 32,
   "metadata": {
    "collapsed": false
   },
   "outputs": [
    {
     "name": "stdout",
     "output_type": "stream",
     "text": [
      "Mean Age by Survival Group:\n"
     ]
    },
    {
     "data": {
      "text/html": [
       "<div>\n",
       "<table border=\"1\" class=\"dataframe\">\n",
       "  <thead>\n",
       "    <tr style=\"text-align: right;\">\n",
       "      <th></th>\n",
       "      <th>Survived</th>\n",
       "      <th>Age</th>\n",
       "    </tr>\n",
       "  </thead>\n",
       "  <tbody>\n",
       "    <tr>\n",
       "      <th>0</th>\n",
       "      <td>0</td>\n",
       "      <td>30.626179</td>\n",
       "    </tr>\n",
       "    <tr>\n",
       "      <th>1</th>\n",
       "      <td>1</td>\n",
       "      <td>28.343690</td>\n",
       "    </tr>\n",
       "  </tbody>\n",
       "</table>\n",
       "</div>"
      ],
      "text/plain": [
       "   Survived        Age\n",
       "0         0  30.626179\n",
       "1         1  28.343690"
      ]
     },
     "execution_count": 32,
     "metadata": {},
     "output_type": "execute_result"
    }
   ],
   "source": [
    "print 'Mean Age by Survival Group:'\n",
    "grouped_age.mean()"
   ]
  },
  {
   "cell_type": "markdown",
   "metadata": {},
   "source": [
    "#### Standardizing Age"
   ]
  },
  {
   "cell_type": "code",
   "execution_count": 33,
   "metadata": {
    "collapsed": false
   },
   "outputs": [
    {
     "data": {
      "text/html": [
       "<div>\n",
       "<table border=\"1\" class=\"dataframe\">\n",
       "  <thead>\n",
       "    <tr style=\"text-align: right;\">\n",
       "      <th></th>\n",
       "      <th>Survived</th>\n",
       "      <th>Age</th>\n",
       "      <th>Age Standardized</th>\n",
       "    </tr>\n",
       "  </thead>\n",
       "  <tbody>\n",
       "    <tr>\n",
       "      <th>0</th>\n",
       "      <td>0</td>\n",
       "      <td>22.0</td>\n",
       "      <td>-0.530377</td>\n",
       "    </tr>\n",
       "    <tr>\n",
       "      <th>1</th>\n",
       "      <td>1</td>\n",
       "      <td>38.0</td>\n",
       "      <td>0.571831</td>\n",
       "    </tr>\n",
       "    <tr>\n",
       "      <th>2</th>\n",
       "      <td>1</td>\n",
       "      <td>26.0</td>\n",
       "      <td>-0.254825</td>\n",
       "    </tr>\n",
       "    <tr>\n",
       "      <th>3</th>\n",
       "      <td>1</td>\n",
       "      <td>35.0</td>\n",
       "      <td>0.365167</td>\n",
       "    </tr>\n",
       "    <tr>\n",
       "      <th>4</th>\n",
       "      <td>0</td>\n",
       "      <td>35.0</td>\n",
       "      <td>0.365167</td>\n",
       "    </tr>\n",
       "  </tbody>\n",
       "</table>\n",
       "</div>"
      ],
      "text/plain": [
       "   Survived   Age  Age Standardized\n",
       "0         0  22.0         -0.530377\n",
       "1         1  38.0          0.571831\n",
       "2         1  26.0         -0.254825\n",
       "3         1  35.0          0.365167\n",
       "4         0  35.0          0.365167"
      ]
     },
     "execution_count": 33,
     "metadata": {},
     "output_type": "execute_result"
    }
   ],
   "source": [
    "age_cleaned_df_standardized = age_cleaned_df.copy()\n",
    "\n",
    "age_cleaned_df_standardized['Age Standardized'] = \\\n",
    "    np.vectorize(standardize_column)(age_cleaned_df_standardized['Age'],mean_age,std_age)\n",
    "\n",
    "age_cleaned_df_standardized.head()"
   ]
  },
  {
   "cell_type": "code",
   "execution_count": 34,
   "metadata": {
    "collapsed": false,
    "scrolled": true
   },
   "outputs": [
    {
     "data": {
      "text/html": [
       "<div>\n",
       "<table border=\"1\" class=\"dataframe\">\n",
       "  <thead>\n",
       "    <tr style=\"text-align: right;\">\n",
       "      <th></th>\n",
       "      <th>Survived</th>\n",
       "      <th>Age</th>\n",
       "      <th>Age Standardized</th>\n",
       "      <th>Above Or Below Mean Age</th>\n",
       "    </tr>\n",
       "  </thead>\n",
       "  <tbody>\n",
       "    <tr>\n",
       "      <th>0</th>\n",
       "      <td>0</td>\n",
       "      <td>22.0</td>\n",
       "      <td>-0.530377</td>\n",
       "      <td>Below Mean</td>\n",
       "    </tr>\n",
       "    <tr>\n",
       "      <th>1</th>\n",
       "      <td>1</td>\n",
       "      <td>38.0</td>\n",
       "      <td>0.571831</td>\n",
       "      <td>Above Mean</td>\n",
       "    </tr>\n",
       "    <tr>\n",
       "      <th>2</th>\n",
       "      <td>1</td>\n",
       "      <td>26.0</td>\n",
       "      <td>-0.254825</td>\n",
       "      <td>Below Mean</td>\n",
       "    </tr>\n",
       "    <tr>\n",
       "      <th>3</th>\n",
       "      <td>1</td>\n",
       "      <td>35.0</td>\n",
       "      <td>0.365167</td>\n",
       "      <td>Above Mean</td>\n",
       "    </tr>\n",
       "    <tr>\n",
       "      <th>4</th>\n",
       "      <td>0</td>\n",
       "      <td>35.0</td>\n",
       "      <td>0.365167</td>\n",
       "      <td>Above Mean</td>\n",
       "    </tr>\n",
       "  </tbody>\n",
       "</table>\n",
       "</div>"
      ],
      "text/plain": [
       "   Survived   Age  Age Standardized Above Or Below Mean Age\n",
       "0         0  22.0         -0.530377              Below Mean\n",
       "1         1  38.0          0.571831              Above Mean\n",
       "2         1  26.0         -0.254825              Below Mean\n",
       "3         1  35.0          0.365167              Above Mean\n",
       "4         0  35.0          0.365167              Above Mean"
      ]
     },
     "execution_count": 34,
     "metadata": {},
     "output_type": "execute_result"
    }
   ],
   "source": [
    "age_cleaned_df_standardized_final = age_cleaned_df_standardized\n",
    "\n",
    "age_cleaned_df_standardized_final['Above Or Below Mean Age'] = \\\n",
    "    np.vectorize(above_or_below_mean)(age_cleaned_df_standardized_final['Age Standardized'])\n",
    "\n",
    "age_cleaned_df_standardized_final.head()"
   ]
  },
  {
   "cell_type": "code",
   "execution_count": 35,
   "metadata": {
    "collapsed": false
   },
   "outputs": [],
   "source": [
    "age_cleaned_df_standardized_final = \\\n",
    "    age_cleaned_df_standardized_final.drop(['Age','Age Standardized'], axis=1)\n",
    "age_cleaned_df_standardized_final = \\\n",
    "    age_cleaned_df_standardized_final.groupby(['Above Or Below Mean Age'], as_index=True)"
   ]
  },
  {
   "cell_type": "markdown",
   "metadata": {},
   "source": [
    "#### \"Above Mean and Below Mean\" Analysis Results Inconclusive\n",
    "Both categories for ages above and below the mean age have nearly the same chances of survival at 40.6%. To reach a more precise conclusion, the age data must be grouped by age group."
   ]
  },
  {
   "cell_type": "code",
   "execution_count": 36,
   "metadata": {
    "collapsed": false
   },
   "outputs": [
    {
     "data": {
      "text/html": [
       "<div>\n",
       "<table border=\"1\" class=\"dataframe\">\n",
       "  <thead>\n",
       "    <tr style=\"text-align: right;\">\n",
       "      <th></th>\n",
       "      <th>Survived</th>\n",
       "    </tr>\n",
       "    <tr>\n",
       "      <th>Above Or Below Mean Age</th>\n",
       "      <th></th>\n",
       "    </tr>\n",
       "  </thead>\n",
       "  <tbody>\n",
       "    <tr>\n",
       "      <th>Above Mean</th>\n",
       "      <td>0.406061</td>\n",
       "    </tr>\n",
       "    <tr>\n",
       "      <th>Below Mean</th>\n",
       "      <td>0.406250</td>\n",
       "    </tr>\n",
       "  </tbody>\n",
       "</table>\n",
       "</div>"
      ],
      "text/plain": [
       "                         Survived\n",
       "Above Or Below Mean Age          \n",
       "Above Mean               0.406061\n",
       "Below Mean               0.406250"
      ]
     },
     "execution_count": 36,
     "metadata": {},
     "output_type": "execute_result"
    }
   ],
   "source": [
    "age_cleaned_df_standardized_final.mean()"
   ]
  },
  {
   "cell_type": "markdown",
   "metadata": {},
   "source": [
    "#### Grouping by Age Group\n",
    "To analyze the age data at a more granular level, a new column named \"Age Group\" will be created that assigns each age to its respective age group. To create this column, NumPy's \"vectorize\" method will be implemented to apply a custom function named \"age_group\" to the new column.
   ]
  },
  {
   "cell_type": "code",
   "execution_count": 74,
   "metadata": {
    "collapsed": false,
    "scrolled": true
   },
   "outputs": [
    {
     "data": {
      "text/html": [
       "<div>\n",
       "<table border=\"1\" class=\"dataframe\">\n",
       "  <thead>\n",
       "    <tr style=\"text-align: right;\">\n",
       "      <th></th>\n",
       "      <th></th>\n",
       "      <th>Age</th>\n",
       "    </tr>\n",
       "    <tr>\n",
       "      <th>Age Group</th>\n",
       "      <th>Survived</th>\n",
       "      <th></th>\n",
       "    </tr>\n",
       "  </thead>\n",
       "  <tbody>\n",
       "    <tr>\n",
       "      <th rowspan=\"2\" valign=\"top\">0 - 10</th>\n",
       "      <th>0</th>\n",
       "      <td>24</td>\n",
       "    </tr>\n",
       "    <tr>\n",
       "      <th>1</th>\n",
       "      <td>38</td>\n",
       "    </tr>\n",
       "    <tr>\n",
       "      <th rowspan=\"2\" valign=\"top\">10 - 20</th>\n",
       "      <th>0</th>\n",
       "      <td>61</td>\n",
       "    </tr>\n",
       "    <tr>\n",
       "      <th>1</th>\n",
       "      <td>41</td>\n",
       "    </tr>\n",
       "    <tr>\n",
       "      <th rowspan=\"2\" valign=\"top\">20 - 30</th>\n",
       "      <th>0</th>\n",
       "      <td>143</td>\n",
       "    </tr>\n",
       "    <tr>\n",
       "      <th>1</th>\n",
       "      <td>77</td>\n",
       "    </tr>\n",
       "    <tr>\n",
       "      <th rowspan=\"2\" valign=\"top\">30 - 40</th>\n",
       "      <th>0</th>\n",
       "      <td>94</td>\n",
       "    </tr>\n",
       "    <tr>\n",
       "      <th>1</th>\n",
       "      <td>73</td>\n",
       "    </tr>\n",
       "    <tr>\n",
       "      <th rowspan=\"2\" valign=\"top\">40 - 50</th>\n",
       "      <th>0</th>\n",
       "      <td>55</td>\n",
       "    </tr>\n",
       "    <tr>\n",
       "      <th>1</th>\n",
       "      <td>34</td>\n",
       "    </tr>\n",
       "    <tr>\n",
       "      <th rowspan=\"2\" valign=\"top\">50 - 60</th>\n",
       "      <th>0</th>\n",
       "      <td>28</td>\n",
       "    </tr>\n",
       "    <tr>\n",
       "      <th>1</th>\n",
       "      <td>20</td>\n",
       "    </tr>\n",
       "    <tr>\n",
       "      <th rowspan=\"2\" valign=\"top\">60 - 70</th>\n",
       "      <th>0</th>\n",
       "      <td>13</td>\n",
       "    </tr>\n",
       "    <tr>\n",
       "      <th>1</th>\n",
       "      <td>6</td>\n",
       "    </tr>\n",
       "    <tr>\n",
       "      <th rowspan=\"2\" valign=\"top\">70+</th>\n",
       "      <th>0</th>\n",
       "      <td>6</td>\n",
       "    </tr>\n",
       "    <tr>\n",
       "      <th>1</th>\n",
       "      <td>1</td>\n",
       "    </tr>\n",
       "  </tbody>\n",
       "</table>\n",
       "</div>"
      ],
      "text/plain": [
       "                    Age\n",
       "Age Group Survived     \n",
       "0 - 10    0          24\n",
       "          1          38\n",
       "10 - 20   0          61\n",
       "          1          41\n",
       "20 - 30   0         143\n",
       "          1          77\n",
       "30 - 40   0          94\n",
       "          1          73\n",
       "40 - 50   0          55\n",
       "          1          34\n",
       "50 - 60   0          28\n",
       "          1          20\n",
       "60 - 70   0          13\n",
       "          1           6\n",
       "70+       0           6\n",
       "          1           1"
      ]
     },
     "execution_count": 74,
     "metadata": {},
     "output_type": "execute_result"
    },
    {
     "data": {
      "image/png": "iVBORw0KGgoAAAANSUhEUgAAAYMAAAEcCAYAAAAlVNiEAAAABHNCSVQICAgIfAhkiAAAAAlwSFlz\nAAALEgAACxIB0t1+/AAAIABJREFUeJzt3Xl8VPX1//FXSNiiAQJG0aogCufngkChgiKIoFKliFup\n4gYoKoqi4ooLaosgmxuLylKXVsWiVBBxA6WIWqvFBYXjjvir0kgTiGwRku8fdwIhhmSAmbkzzPv5\nePBg5s7Nve/MQE4+93PvuRmlpaWIiEh6qxF2ABERCZ+KgYiIqBiIiIiKgYiIoGIgIiKoGIiICJAV\ndoCdkZ9fFPPzYXNzsykoWBfrzcaccsZWKuRMhYygnLEWj5x5eTkZ23tNI4OIrKzMsCNERTljKxVy\npkJGUM5YS3ROFQMREVExEBERFQMREUHFQEREUDEQERFUDEREBBUDERFBxUBEREjRK5AlHP1Hzo96\n3dlje8UxiaSLf//7PW6+eQiPPz6dffZpDMCkSQ/SpElTTjmlZ8z2s3HjBsaMGcmPP+azYcMGGjVq\nxPXXD6V+/QY7vc2hQ6/n7rtH7/TXd+zYkb///aWd/vodFdeRgZm1N7M3KizrY2Zvl3s+wMzeM7N3\nzOx38cwjIqmnZs1a3H33XcTzroxz5symYcNG3HvvBCZNmsqRR7bmz3+eskvb3JVCEIa4jQzM7Abg\nfGBtuWVtgIuAjMjzxsBVQDugDvCmmb3q7hvjlUtEUkvbtu0oKSnlueee4cwz/7Bl+VNP/YV5814h\nMzOTVq3acPnlVzF16sN8//1/KCgoYOXK77nyymtp3/5oFi9+n0cemUhmZibNmjXlqqtuICtr64+/\nhg0b8sILf6dly1a0afNrzjzzD1uKz6mndmfWrJcBGDbsZnr1OpMffvieOXNmUVJSQp8+57Nw4QKG\nDh0GQP/+5zJ27INceOE5PP74dK644mL+8pe/kZGRwbhx99C27VHsv/8B3HffaEpLS6lfvz433zyM\nunXrMmrUcL7++it+9av9KS4uTuC7HN+RwZfAGWVPzKwRcDdwdbl1jgIWuftGd18NfAEcGcdMIpKC\nrrvuJqZPf5LvvlsBwLp1a5k//1UeemgaDz00je++W8GiRQuBYCQxduwDDB48hOnTn6S0tJR77hnO\n3XePZvz4R9hnn3148cXZ22y/S5duXHjhRcyZ8zy//30vBg8eyPLl31SZKScnh0mTpnLMMZ1YsuQj\n1q9fz9Kln7Dffr8iN7chAA0aNODgg5vz4YeLKS4u5t//fp+OHTtxzz1/4tprb2T8+Ec4+uiO/PWv\nj/GPf7xOcXExjzzyKJdeOoj169fH/o2sQtxGBu7+rJk1BTCzTGAqcC1Q/jusB6wu97wIqB+vTCKS\nmurXb8BVVw1h+PBhtGzZiuLiYg4/vOWW3+5btWrN119/CUCLFgbA3ns3prh4I4WFBaxa9SO33XYT\nACUlm2jdut0221+y5CPatj2K447ryubNm3n55RcZPvwOpk37yzbrlT9SdeCBTQDIzMykS5duLFgw\nnyVLPqZnz9O3+ZqePU9j7twXWLVqFcce25msrCyWL/+asWNHArB58yb23/9A6taty6GHHg5A48aN\n2XfffWPx1kUtURPIbYHmwCSCw0GHmdl9wHwgp9x6OUBhdRvLzc2OS0e/vLyc6ldKAsoZW6mQMxUy\nQuxzNmiQTe3aNcnLy+H003vw7rtv8tJLc7j88stZtGgBubl1yczMZOnSjznttNNYtmwZOTl1yMvL\nYc2abGrVyuKQQw5g330bM2XKI+Tk5DBv3jyys7O3ybpo0et88sliBg0aBEC7dq2YO3cWeXk5lJRs\nJju7BjVr1mTFim9o0CCbtWvrsMcedbZs44IL+jBs2DAKCwsZMeKP1KhRgxo1MsjLy+Hkk7sxefIE\nVq/+H8OGDSMvL4dmzZpx771j2W+//Xj//ffJz88nKyuLOXPmkJeXw8qVK1m5cmVCP/eEFAN3fxc4\nHCAyWnja3a+OzBkMN7M6QG3gUGBJdduLRy/yvLwc8vOLYr7dWEuVnEBK5EyF9zMVMkJ8chYWrmPj\nxp+3bPfSS69i0aK3KCnJpFOn4znrrN6UlpZy5JGtaNWqPe+//yF16mwgP7+IgoJ1FBdvYtWqtQwa\ndC39+l1EaWkpDRrU48Ybb2fZsq954IGx3HnnCM4//2LGjRtFjx49qVu3DnXq1GXIkKHk5xdx1lln\nc+aZZ7Hffr9ir732prBwHUVFG1i3rnhLrjp1GlBcvIkOHY5l1apgmrSkpHTL68ce24X33nuXunVz\nyc8vYvDgG7jmmiFs3ryZjIwMbrrpNg444EBee+0NTjvtDBo33pfc3NyYv59VFZeMeM7Ql/vB32F7\ny8xsAHAJwfzF3e7+bHXbjcfNbdL5P1y0dvTUUr2fsZEKGSH1cm7atIlJkx7kyiuvCTtSpeLxflZ1\nc5u4jgzc/RugQ1XL3H0yMDmeOUREKtOnz/lhR0gaugJZRNJSVlYWjRrtFXaMpKFiICIiKgYiIqJi\nICIiqFGdiIRgR85Mi8a0m7pWu87q1YU8/PAERo8eyaefLmHy5EmUlJSybt1aunY9kXPOOW+n9//O\nO2+xcuUP9Op1RvUrb+fr5817hVtuuaPS1zdu3MBdd91GQUEB2dnZ3HLLneTm5jJ16sN07XoiBx3U\nbKezl9HIQETSwuTJkzjjjN4A3HvvKK6++nruv38ikyZNZd68V/jss2U7ve0OHY7Z6UIQjZkzZ9Cs\n2SFMnDiF3/62B489NhWA3r37MGHCfTHZh0YGIrLbW7v2J5Yu/ZTrrmsOQG5uI559djqnnHIqzZu3\nYNKkqdSsWZMXX5zN8uXfMHDglWzcuJFzzz2LGTNmM2jQJeTmNmTNmjVkZ2fTu/c5tGnTlmXLPuXR\nR6fQufPxLF/+DXvtlUdR0Rr697+E4uJi+vY9h8cee5rnn3+WV199mYyMDLp1O4nf//5svvnma0aM\nuIs6depSt24dcnLqbTf/Rx99SJ8+FwDQoUNHHn00KAY5OTnUrl2bL774nEMOab5L75FGBiKy2/vk\nkyVbegkBDBv2Rxo2bMTYsSPo2fMkxo+/t9ouoSec0J3775/Iqaeezty5LwBB6+vyvYi6dz+F+fNf\no7S0lDff/AfHHNOJ775bwbx5rzJx4hQmTJjMwoVv8O233zBx4v1cfPGl3H//RI44our+nGvXrmXP\nPfcEIDs7m7Vrf9ry2sEHN2fx4vd3+D2pSMVARHZ7hYWFNGwYdBLduHEj7svo2/diJk9+nKeffo6V\nK39g1qznKnzVto0OyopJ+/ZHs3TpJ6xZs5qPPlpMhw7HbFmnXr16tGhhfPTRB8ydO5uePU/jq6++\nZOXKHxg8eCCDBw9k9erVrFixgm+//ZZDDz0CgJYtW1eZf4899mDduqDNxbp167YUBoBGjfZizZrV\n2/vSqKkYiMhuLzc3l6KioLVDRkYGf/zj7Xz77XIA6tWrT+PG+1KzZi1q1arFqlU/AuC+7RxCjRo1\ntvx9/PEnMGbMSDp16kJm5rZNM3v2PI1nnnmSjRs30qRJUw48sAlNmzbjwQcfZvz4RzjllN9x8MHN\nOeigg1iy5CMAli37pMr8LVu24u23FwHwzjuLaNWqzZbXiorW0KBB7s6+NVu/v13egohIkjv88JZ8\n8cXnANSqVYu77hrBiBF3MWDAhVxySV9KS0vp0eNU2rc/hh9++J6BAy9i/vzX2GOPPSrdXo8ep7Jg\nwXx69Dj1F6+1adOWr776kpNPDm7c2Lx5C9q1+w2XX34RF110PitWrCAvL49Bg67hscemMnjwQD79\ndGt/zvvvH8vnn/s22zz99LP4+uuvGDjwImbNmkm/fgO2vPbpp5/Qrt1Ru/wexbVRXbyoUZ0a1cVK\nKnzuqZARkj/n6NF306vXGXTs+JukzjljxtN06NCRNm0OqzbnmjWr+dOf7mDUqHuj2nZVjeo0MhCR\ntHDxxZcxc+aMsGNU69hju7D//gdEte706U9y6aVXxGS/OrVURNJCbm5Dbrzx1rBjVKtx48ZRrztg\nwMCY7VcjAxERUTEQEREVAxERQcVARETQBLKIhOCK+TfEdHsTuo6qdp1U7lpaZsGC13n99de4447h\nADHtWqpiICJpoWLX0ltvvYsmTZqyadMmLrusP23btqNFi/+3U9su35IiXu67bwzvvvs2zZu32LKs\nd+8+3HnnLYwZ88Aub1/FQER2e6netRSgZcsj6dy5C88//+yWZSnTtdTM2pvZG5HHrc1soZm9YWYv\nm9k+keUDzOw9M3vHzH4Xzzwikp5SvWspQLduJ1W6POm7lprZDcAUoE5k0f3Ale7eBXgOuNHMGgNX\nAR2B7sAIM6sdr0wikp5SvWtpVVKha+mXQPnZlLPd/YPI4yxgA3AUsMjdN7r7auALoPoSKSKyA1K9\na2lVkr5rqbs/C/xc7vn3AGZ2DDAIuBeoB5QvaUVA/XhlEpH0lOpdS6uSEl1Lzawp8LS7d4g8/wNw\nC3Cau39lZqcCv3X3yyOvzwSGu/t7VW1306bNpVlZmVWtInHQc8jzUa87e2yvOCYR2XG33347Z599\nNocddljYUar0xBNP0LlzZ5o0aVLtuoWFhdx000089NBD0W5+u11LE3Y2kZmdB1wKdHH3/0UWvwsM\nN7M6QG3gUGDJdjaxRUHBupjnS/b2u2VSJSeQEjlT4f1MhYyQ/DnPO+8iHnlkImPG3JPUOVu37kB2\ndjC/UV3OyZMfoW/fS6P+fvLycrb7WkKKgZllAg8A3wLPmRnAAncfZmYPAAsJDlnd4u4bEpFJRNKL\nupZWLa7FwN2/ATpEnjbczjqTgcnxzCEiIlVTbyIREVExEBERFQMREUHFQEREUDEQERFUDEREBBUD\nERFBxUBERFAxEBERVAxERAQVAxERQcVARERQMRAREVQMREQEFQMREUHFQEREUDEQERFUDEREBBUD\nERFBxUBERFAxEBERICueGzez9sA97t7FzA4BHgVKgSXAFe5eYmYDgEuBTcCf3P2FeGYSEZFfitvI\nwMxuAKYAdSKLxgG3unsnIAPoZWaNgauAjkB3YISZ1Y5XJhERqVw8DxN9CZxR7nlbYEHk8VzgBOAo\nYJG7b3T31cAXwJFxzCQiIpWIWzFw92eBn8stynD30sjjIqA+UA9YXW6dsuUiIpJAcZ0zqKCk3OMc\noBBYE3lccXmVcnOzycrKjG06IC8vp/qVkoByxlYq5EyFjKCcsZbInIksBovNrIu7vwGcDLwOvAsM\nN7M6QG3gUILJ5SoVFKyLebi8vBzy84tivt1YS5WcQErkTIX3MxUygnLGWjxyVlVcElkMhgCTzawW\nsBSY4e6bzewBYCHBIatb3H1DAjOJiAhxLgbu/g3QIfL4M+C4StaZDEyOZw4REamaLjoTEREVAxER\nUTEQERFUDEREhMSeTSSSEP1Hzo963dlje8UxiUjq0MhARERUDERERMVARERQMRAREVQMREQEFQMR\nEUHFQEREUDEQERFUDEREBBUDERFBxUBERFAxEBERVAxERAQVAxERIcpiYGaHV7KsQ+zjiIhIGKq8\nn4GZdQQygSlmdhGQUe7rHgJaxDeeiIgkQnU3tzkROA7YF7ir3PJNwMM7ujMzqwk8BjQFNgMDItt6\nFCgFlgBXuHvJjm5bRER2XpXFwN3vADCz8939iRjs7xQgy92PMbMTgeFATeBWd3/DzB4CegEzY7Av\nERGJUrS3vfyHmY0GGrL1UBHu3n8H9/cZkGVmNYB6wM9AB2BB5PW5wEmoGIiIJFS0xeAZYGHkT+ku\n7O8ngkNEy4C9gN8Bnd29bJtFQP1d2L6IiOyEaItBTXe/Lgb7uwZ42d1vNrMDgPlArXKv5wCF1W0k\nNzebrKzMGMTZVl5eTsy3GQ/KGVupkDMVMoJyxloic0ZbDN40s54EP8iLd2F/BQSHhgD+RzBfsNjM\nurj7G8DJwOvVbqRg3S5EqFxeXg75+UUx326spUpOQDljJFU+c+WMrXjkrKq4RFsMzgIGAZhZ2bJS\nd9/RX8/vBaaZ2UKCEcFQ4D1gspnVApYCM3ZwmyIisouiKgbuvl8sdubuPwG9K3npuFhsX0REdk5U\nxcDMbq9subvfVdlykd7TB0a13oSuo+KcRESiEW1vooxyf2oBpwL7xCuUiIgkVrSHie4s/9zM/gi8\nEpdEIiKScDvbtXRP4MBYBhERkfBEO2fwNVsvNqsBNABGxyuUiIgkVrSnlnYp97gUKHT3NbGPIyIi\nYYi2GHwLXAZ0i3zNfDMbr+6ikup01pNIINpiMApoDkwjOKOoH9AMuDpOuUREJIGiLQYnAW3KRgJm\nNgf4OG6pREQkoaI9myiLbQtHFsHNaUREZDcQ7cjgr8AbZvZU5Pk5wJPxiSQiIolWbTEws1xgMrAY\n6Br5c1+M7nwmIiJJoMrDRGbWBvgUaOvuc939euBlYKSZHZmIgCIiEn/VzRmMAc5x95fKFrj7UKA/\nMC6ewUREJHGqKwa5kZvObMPdXya4baWIiOwGqisGNSM3r99GZFmtStYXEZEUVF0xWAAMq2T5rQR3\nKBMRkd1AdWcT3Qy8aGbnAv8iuPr418B/Ce5pICIiu4Eqi4G7F5lZZ+B4oA1QAkxw94WJCCciIolR\n7XUG7l4KzI/8ERGR3dDO3txGRER2I9G2o4gZM7uZYL6hFjCRYJL6UYL7JCwBrlBrbBGRxEroyMDM\nugDHAB2B44ADCC5eu9XdOxFMUPdKZCYREUn8yKA7QevrmUA94HpgAMHoAGAuQbvsmQnOFar+I6Of\njpk9VrVSRGIv0cVgL6AJ8DvgIGAWUCMySQ1QBNRPcCYRkbSX6GKwCljm7sWAm9kGgkNFZXKAwuo2\nkpubTVZWZszD5eXlxHyb8ZAqOaORKt9L2DnD3n+0lDO2Epkz0cXgTWCwmY0D9gX2AOaZWZdID6ST\ngder20hBwbqYB8vLyyE/vyjm242HVMkZjVT5XsLMmSr/NpUztuKRs6riktBi4O4vRC5ie5dg8voK\n4GtgspnVApYCMxKZSUREQji11N1vqGTxcYnOISIiW+miMxERUTEQEREVAxERIYQ5AxEJRHuxoS40\nlETQyEBERFQMRERExUBERFAxEBERVAxERAQVAxERQcVARERQMRAREVQMREQEFQMREUHFQEREUDEQ\nERFUDEREBBUDERFBxUBERFAxEBERVAxERISQ7nRmZnsD7wMnApuAR4FSYAlwhbuXhJFLRCRdJXxk\nYGY1gYeB9ZFF44Bb3b0TkAHoHn8iIgkWxshgDPAQcHPkeVtgQeTxXOAkYGYIuVJC7+kDo1pvQtdR\ncU4iIruThBYDM+sL5Lv7y2ZWVgwy3L008rgIqF/ddnJzs8nKyox5vry8nJhvMyyp8r0oZ2rsP1rK\nGVuJzJnokUF/oNTMTgBaA48De5d7PQcorG4jBQXrYh4sLy+H/PyimG83LKnyvShnauw/Gqnyfyid\nc1ZVXBI6Z+Dund39OHfvAnwAXADMNbMukVVOBhYmMpOIiIR0NlEFQ4DJZlYLWArMCCOEjsWLSDoL\nrRhERgdljgsrh4iI6KIzERFBxUBERFAxEBERVAxERITkOJtIRKoQ7ZluoLPdZOdpZCAiIioGIiKi\nYiAiIqgYiIgIKgYiIoKKgYiIoGIgIiKoGIiICLroTESq0X/k/KjWmz1Wty9PZRoZiIiIioGIiKgY\niIgIKgYiIoKKgYiIkAZnE0V7JkTdo+IcREQkiWlkICIiiR0ZmFlNYBrQFKgN/An4FHgUKAWWAFe4\ne0kic4mIpLtEjwzOA1a5eyfgt8B4YBxwa2RZBqArV0REEizRxeBvwG2RxxnAJqAtsCCybC5wQoIz\niYikvYQeJnL3nwDMLAeYAdwKjHH30sgqRUD96raTm5tNVlZm3HJWJS8vJ5T97ijljC3lrN6O3Kv5\nmT9MimOS6unz/KWEn01kZgcAM4GJ7v6kmZW/g3cOUFjdNgoK1sUrXrXy84tC2/eOUM7YUs7YCjNn\nXl5OSrxP8chZVXFJ6GEiM9sHeAW40d2nRRYvNrMukccnAwsTmUlERBI/MhgK5AK3mVnZ3MFg4AEz\nqwUsJTh8JCIiCZToOYPBBD/8KzoukTlERGRbuuhMRERUDERERMVARERQMRAREVQMREQEFQMRESEN\n7mcgIukh2nuXzB6rXpiV0chARERUDERERMVARERQMRAREVQMREQEFQMREUHFQEREUDEQERFUDERE\nBF2BLCJppvf0gVGvO6HrqOpX2gHRXiUNib9SWiMDERFRMRARERUDERFBxUBEREiSCWQzqwFMBFoB\nG4GL3f2LcFOJiKSPZBkZnAbUcfejgZuAsSHnERFJK0kxMgCOBV4CcPd3zKxdyHlEREIV7SmwsTr9\nNaO0tDQmG9oVZjYFeNbd50aefws0c/dN4SYTEUkPyXKYaA2QU+55DRUCEZHESZZisAg4BcDMOgAf\nhxtHRCS9JMucwUzgRDN7C8gA+oWcR0QkrSTFnIGIiIQrWQ4TiYhIiFQMRERExUBERJJnAjnhzKwR\nUB8odPf/hZ1HRCRMaTeBbGa/ASYAmcBPBNc3ZABXuPtbYWYrz8zqAJcB3YgULWAhMN7d14eZrTzl\njC3ljK1UyZkM0nFkcC9wpruvKFtgZgcCfwPah5bql/4MfADcAhQRFK2TgSeB00PMVZFyxpZyxlaq\n5NzCzIa4e8L7s6VjMahZvhBErACSbYi0n7ufU2HZR2a2MJQ026ecsaWcsZUqOcvrQQjNOtOxGMwx\ns9eAV4DVBL8pdAdeDDXVL20wswsIGviV5TyF4NBWMqksZw9SI6fez52XyjmT8XMHwMyeAg4zsycB\n3L1PovaddmcTuftdwPXAemAvgvsn3BhZnkz6AG2BucASgn/MbYELwwxVicpy/prUyKn3c+elYs6P\nSd7PvczDwH8ifz+cyB2n3QRyKjGz+sDP7r6u3LIm7r48xFhVMrNmwOZkzghgZq3c/cOwc1TFzPIA\nAz5NxjPezCzL3TdF/p22AD5398Kwc5VnZubuHnaOHWFmr7v78Yneb9oVAzM7aXuvufsricxSFTO7\nGLiRYPT2sLuPiiyf7+5dQw1XjpkdB9wPFBBM1t0AFAMT3H1qmNnKq+RzH0WQNdk+9znu3sPMegDj\nCCY/DwdudvfZ4abbysxuAWoRNJl8EPgUOAy4y93/Gma28sxsEzACuDNVOiGbWQt3/yzR+03HOYMB\nQDvgdYJTSsuUEswjJIsBBD8EAB41s6HufjfbZk4GI4BeQFNgFrAfQTFYACRNMQDuAUqADwnew32A\nc0i+z71u5O8bgWPdPd/M9iQ4vJE0xYDgM28PvMHWnHsQfO5JUwyANwnmCt4zs3uBp919Y8iZKmVm\nvYATgPpmVnYK7Ax3T8hv7OlYDM4m+Ad7T5IPHze7ezFA2QSYmX1N8p31VCNySGi5mT3o7msBzKwk\n5FwVdQTGA4vcfWpkKJ6M3XFrRv4uBFYBuPtPZpYZXqRKlRCMDH4A1kaW/RxenO0qcfcxZvY0cA0w\n1MyWAl+5+7UhZ9vCzCYQHAWYy7anwHYHLk5EhrQrBu6+OfLDdY+ws1TjTTN7Fujv7qvN7CxgHnBQ\nyLkqmmdmrwLd3f1WADMbD3wUbqxtReZd+pvZEDObRPL+219lZp8ADYDBZvYwwTUwb4cb6xceIhgV\nvA+8bWZvAF1IrtEgREbS7v4dMMTMrgOOIJiLSSZHuPtxFZbNMrNFiQqQdnMGqcTMugBvlRsh1AEu\nc/f7Qg1WgZm1dvcPyj0/Hljg7sk2OgDAzLoRFNlzw86yPWa2N1t/8z7B3V8KOdIvRE4WOIHgrLxV\nBKOuJeGm2paZdXf3l8POUZ3IdQ9D3X1huWWdCeZguiQig4qBiEjIzKwtcDvBaa8QHIZbDFzn7p8n\nIkOyDpVFRNLJQuAqd+8VVoC0u+isIjM7OewM0TCzZDuLqFLKGVvKGVtJnPNDoLWZzY8cHkq4tC8G\nBFcjp4J5YQeIknLGlnLGVrLmXO/ugwiufRlsZh+b2X1mdlWiAugwUfKdt789yhlbyhlbyrlrys56\neg84M3JVd2cSeNaTigHcGnaAKL0ZdoAoKWdsKWdsJWvOR8s/cffVBBcZJuxCQ51NJCIimjMQEZE0\nLwZmltbfv4hImbQ7TBS5anIcQbO6TQQF8WPgmjA6BValfOMqtt67NWGNq6KlnLGlnLGVKjnDlo4T\nyFMI2gH/s2yBmXUgaL/cMbRUFSRD46poKGdsKWdspUrOZJCOxaBO+UIA4O7vmCVb36rwG1dFSTlj\nSzljK1Vyhi4dj5l/aGbTzKy3mXU3s7PMbBpJ1mUTqGFmncoviFyZmGxtgpUztpQztlIlZ+jScWRw\nOXAacCxQD1gDvADMDDNUJfoC4yI3yIatjasGhJaocn3ZmjMD2Exq5CwB/k1y5wR97ruqL6mRM3Rp\nN4EsiWFmtZP1jlIAZpZNcAOhpM0IYGb7uPvKsHNUJXLjnX2B/yRr2/IykftK/6jJ419SMZBdYmY9\nCe4g9jNwi7tPjyxPtns1HwYMJzib5K8EJxJsBga7+wthZivPzFpUWPQ4cD6QkUxnu5nZVHe/yMyO\nIng/VxGMtPtVnJMLk5n1Aw4gGP0/CawnuLHV5e7+WpjZkk06HiZKCWb2OlC7wuIMoNTdjwkh0vbc\nArQmmH/6m5nVcffHSL4eMA8BtxHcq3kG0ALYQHCWSdIUA+A1YB3wH4L30IBHCG53mjTFla133Lsb\nOMXdPzez/YCngIoTtmG6nOAObLOAU939s0jO5wnea4lQMUheNwGTgdMJrodIVsXuXgBbzueeb2bf\nkpz3al4ALDCz4939vwBmlmzvbTuCwjXJ3V+N3Kv5+LBDVWFz2c1X3P0/SXgh58/uvtbMioCvYEvO\nZPv3GToVgyTl7v80syeAI9092Sa3y/vGzMYBt7l7kZmdAbxMcA/fZOJmNgW4xN37ApjZTQS3lUwa\n7v5fM+sNjDGz34Sdpwr1zex9YA8zu4jgUNFYYHm4sX5hlpk9DywBXjCzl4HfAvPDjZV8kq2KSznu\nPjrJCwGAIr7gAAADQUlEQVRAf4LTcksB3H0FcDzwTJihKjEAmF1hgvM7oF9IebbL3Te5+9UEh4qS\n8v+ou7cFjgEuAP5JcNbTxyTZ++nuIwk6DmQA3wJ7Aw+4+02hBktCmkAWEZHk/K1DREQSS8VAREQ0\ngSzpx8yOIDi+fZa7PxujbR4E3AO0JTj7Kx+40d3VA0dSgkYGko76EVxrcFksNmZmjQhup/iSux/s\n7gZcT3DdxT6x2IdIvGkCWdKKmWUB/x/oBLwFtHf3L82sC/AgwW/1bwOHuXsXMzsEmAQ0IrgY7Ep3\nX1xhm0OB1u7eu8Lyc4B/uvtXZpYPvA80Bn5DUCzOI7gK+hXgBoIrZd9w96aRr78DwN3viHz9CwQj\njyLgXHf/JnbvjKQ7jQwk3fQAlkdaO/wduNTMagJPEPyAbcO2HS0fA25w918DlwBPV7LNDsA/Ki50\n96fc/avI072Ake7eGjgROJXgB3sb4BCqH6XsRVAojoxkeCCab1YkWioGkm76EbRMAJhO0NWyDfBf\ndy9rYz4NwMz2JPgt/s9m9gFBb5s9I4eFKtoyxDazx83sAzP7wsyuK7dOWc+ersBT7r7e3TdF9tet\nmtwbCPoUQVCgkqk1hewGNIEsacPM9gZOAdqZ2WCCC5FyCe58VdkvRpnAhshv82Xb2B/4X4X1/kVw\nl7wJAO5+QWTdO4A9y1Zy9/WRhxX3lUHwf7GUbXs61WTrKKWkXKfNGiR3ixJJQRoZSDo5D5jn7vu7\ne1N3b0LQybQ7kGtmLSPr9SFoCLga+NzMzgMwsxOp5HAQwZzCsWbW18wyIuvuDRxNMCdQ0XzgHDOr\nG5nD6Ae8TtBRNdfM8sysNkHbhDLZkQ6xRNafu7NvgkhlVAwknfQDJlZYNpGg6+p5wOORfjsHELQ6\nBjgXuNjMPgJGAH+o2Avf3X8kaM3QDVhiZh8S9GeaB4yuGCLSMvsF4D3gE4J+Pg9Gis9ogpHGa8C7\nFb7095Ec3YGrd/i7F6mCziaStBfptDkSuDPS4fJa4FfuPiTkaFuYWam7J1tbcNmNaGQgaS/SvO5/\nwL8iE8WdCfr0i6QNjQxEREQjAxERUTEQERFUDEREBBUDERFBxUBERFAxEBER4P8AHFwU67qwbZwA\nAAAASUVORK5CYII=\n",
      "text/plain": [
       "<matplotlib.figure.Figure at 0x112774b50>"
      ]
     },
     "metadata": {},
     "output_type": "display_data"
    }
   ],
   "source": [
    "def age_group(df_with_column):\n",
    "    if df_with_column < 10:\n",
    "        return '0 - 10'\n",
    "    elif df_with_column < 20:\n",
    "        return '10 - 20'\n",
    "    elif df_with_column < 30:\n",
    "        return '20 - 30'\n",
    "    elif df_with_column < 40:\n",
    "        return '30 - 40'\n",
    "    elif df_with_column < 50:\n",
    "        return '40 - 50'\n",
    "    elif df_with_column < 60:\n",
    "        return '50 - 60'\n",
    "    elif df_with_column < 70:\n",
    "        return '60 - 70'\n",
    "    else:\n",
    "        return '70+'\n",
    "    \n",
    "age_cleaned_df_modified = age_cleaned_df.copy()\n",
    "\n",
    "age_cleaned_df_modified['Age Group'] = \\\n",
    "    np.vectorize(age_group)(age_cleaned_df_modified['Age'])\n",
    "\n",
    "age_cleaned_df_modified_grouped = age_cleaned_df_modified.copy()\n",
    "      \n",
    "age_cleaned_df_modified_grouped =\\\n",
    "    age_cleaned_df_modified_grouped.groupby(['Age Group','Survived'], as_index=True)\n",
    "    \n",
    "age_cleaned_df_count = age_cleaned_df_modified.copy()\n",
    "\n",
    "age_cleaned_df_count['Age Group'] = \\\n",
    "    np.vectorize(age_group)(age_cleaned_df_count['Age'])\n",
    "\n",
    "age_cleaned_df_count.drop(['Age'], inplace=True, axis=1)\n",
    "age_cleaned_df_count_grouped = age_cleaned_df_count\n",
    "age_cleaned_df_count_grouped = age_cleaned_df_count_grouped.groupby(['Age Group','Survived'], as_index=True)\n",
    "    \n",
    "age_cleaned_df_count_grouped[['Survived']].count().unstack().plot(kind='bar').set_ylabel('Count')\n",
    "\n",
    "age_cleaned_df_modified_grouped.count()"
   ]
  },
  {
   "cell_type": "markdown",
   "metadata": {},
   "source": [
    "#### Survival Mean Grouped by Age Group\n",
    "Based on the survival mean of each age group, the age group with the highest survival rate is the \"0 - 10\" years old group. At a 61.2% survival rate, children in this group were likely to survive the disaster. One inference that can be made is that adults prioritized childrens' survival over their own, so they were willing risk their lives to ensure their childrens' survival. The sample size for children in this age group is still relatively small, so the data could be slightly skewed.\n",
    "\n",
    "Also worth noting is that passengers over the age of 70 had the worst survival rate of the age groups with only 1 in 7 surviving. This statistic could possibly be skewed by the small number of passengers in this age group."
   ]
  },
  {
   "cell_type": "code",
   "execution_count": 79,
   "metadata": {
    "collapsed": false
   },
   "outputs": [
    {
     "data": {
      "text/html": [
       "<div>\n",
       "<table border=\"1\" class=\"dataframe\">\n",
       "  <thead>\n",
       "    <tr style=\"text-align: right;\">\n",
       "      <th></th>\n",
       "      <th>Survived</th>\n",
       "    </tr>\n",
       "    <tr>\n",
       "      <th>Age Group</th>\n",
       "      <th></th>\n",
       "    </tr>\n",
       "  </thead>\n",
       "  <tbody>\n",
       "    <tr>\n",
       "      <th>0 - 10</th>\n",
       "      <td>0.612903</td>\n",
       "    </tr>\n",
       "    <tr>\n",
       "      <th>10 - 20</th>\n",
       "      <td>0.401961</td>\n",
       "    </tr>\n",
       "    <tr>\n",
       "      <th>20 - 30</th>\n",
       "      <td>0.350000</td>\n",
       "    </tr>\n",
       "    <tr>\n",
       "      <th>30 - 40</th>\n",
       "      <td>0.437126</td>\n",
       "    </tr>\n",
       "    <tr>\n",
       "      <th>40 - 50</th>\n",
       "      <td>0.382022</td>\n",
       "    </tr>\n",
       "    <tr>\n",
       "      <th>50 - 60</th>\n",
       "      <td>0.416667</td>\n",
       "    </tr>\n",
       "    <tr>\n",
       "      <th>60 - 70</th>\n",
       "      <td>0.315789</td>\n",
       "    </tr>\n",
       "    <tr>\n",
       "      <th>70+</th>\n",
       "      <td>0.142857</td>\n",
       "    </tr>\n",
       "  </tbody>\n",
       "</table>\n",
       "</div>"
      ],
      "text/plain": [
       "           Survived\n",
       "Age Group          \n",
       "0 - 10     0.612903\n",
       "10 - 20    0.401961\n",
       "20 - 30    0.350000\n",
       "30 - 40    0.437126\n",
       "40 - 50    0.382022\n",
       "50 - 60    0.416667\n",
       "60 - 70    0.315789\n",
       "70+        0.142857"
      ]
     },
     "execution_count": 79,
     "metadata": {},
     "output_type": "execute_result"
    },
    {
     "data": {
      "image/png": "iVBORw0KGgoAAAANSUhEUgAAAYAAAAFPCAYAAABEeRneAAAABHNCSVQICAgIfAhkiAAAAAlwSFlz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\ngg==\n",
      "text/plain": [
       "<matplotlib.figure.Figure at 0x111d1d6d0>"
      ]
     },
     "metadata": {},
     "output_type": "display_data"
    }
   ],
   "source": [
    "age_cleaned_df_mean = age_cleaned_df_modified.copy()\n",
    "\n",
    "age_cleaned_df_mean['Age Group'] = \\\n",
    "    np.vectorize(age_group)(age_cleaned_df_mean['Age'])\n",
    "\n",
    "age_cleaned_df_mean.drop(['Age'], inplace=True, axis=1)\n",
    "age_cleaned_df_mean_grouped = age_cleaned_df_mean\n",
    "age_cleaned_df_mean_grouped = age_cleaned_df_mean_grouped.groupby(['Age Group'], as_index=True)\n",
    "    \n",
    "age_cleaned_df_mean_grouped[['Survived']].mean().unstack().plot(kind='bar').set_ylabel('Mean of Survival')\n",
    "age_cleaned_df_mean_grouped.mean()"
   ]
  },
  {
   "cell_type": "code",
   "execution_count": 40,
   "metadata": {
    "collapsed": false
   },
   "outputs": [],
   "source": [
    "survived_age_values = grouped_age.get_group(1)['Age']\n",
    "non_survived_age_values = grouped_age.get_group(0)['Age']"
   ]
  },
  {
   "cell_type": "markdown",
   "metadata": {},
   "source": [
    "#### Histogram of Ages of Surviving and Non-Surviving Passengers\n",
    "The observation worth noting from this histogram is that the 0 to ~15 years old range shows that most passengers in this age group survived (in this sample). In almost all other age groups, passengers were less likely to survive."
   ]
  },
  {
   "cell_type": "code",
   "execution_count": 75,
   "metadata": {
    "collapsed": false
   },
   "outputs": [
    {
     "data": {
      "text/html": [
       "<div>\n",
       "<table border=\"1\" class=\"dataframe\">\n",
       "  <thead>\n",
       "    <tr style=\"text-align: right;\">\n",
       "      <th></th>\n",
       "      <th></th>\n",
       "      <th>Age</th>\n",
       "    </tr>\n",
       "    <tr>\n",
       "      <th>Age Group</th>\n",
       "      <th>Survived</th>\n",
       "      <th></th>\n",
       "    </tr>\n",
       "  </thead>\n",
       "  <tbody>\n",
       "    <tr>\n",
       "      <th rowspan=\"2\" valign=\"top\">0 - 10</th>\n",
       "      <th>0</th>\n",
       "      <td>24</td>\n",
       "    </tr>\n",
       "    <tr>\n",
       "      <th>1</th>\n",
       "      <td>38</td>\n",
       "    </tr>\n",
       "    <tr>\n",
       "      <th rowspan=\"2\" valign=\"top\">10 - 20</th>\n",
       "      <th>0</th>\n",
       "      <td>61</td>\n",
       "    </tr>\n",
       "    <tr>\n",
       "      <th>1</th>\n",
       "      <td>41</td>\n",
       "    </tr>\n",
       "    <tr>\n",
       "      <th rowspan=\"2\" valign=\"top\">20 - 30</th>\n",
       "      <th>0</th>\n",
       "      <td>143</td>\n",
       "    </tr>\n",
       "    <tr>\n",
       "      <th>1</th>\n",
       "      <td>77</td>\n",
       "    </tr>\n",
       "    <tr>\n",
       "      <th rowspan=\"2\" valign=\"top\">30 - 40</th>\n",
       "      <th>0</th>\n",
       "      <td>94</td>\n",
       "    </tr>\n",
       "    <tr>\n",
       "      <th>1</th>\n",
       "      <td>73</td>\n",
       "    </tr>\n",
       "    <tr>\n",
       "      <th rowspan=\"2\" valign=\"top\">40 - 50</th>\n",
       "      <th>0</th>\n",
       "      <td>55</td>\n",
       "    </tr>\n",
       "    <tr>\n",
       "      <th>1</th>\n",
       "      <td>34</td>\n",
       "    </tr>\n",
       "    <tr>\n",
       "      <th rowspan=\"2\" valign=\"top\">50 - 60</th>\n",
       "      <th>0</th>\n",
       "      <td>28</td>\n",
       "    </tr>\n",
       "    <tr>\n",
       "      <th>1</th>\n",
       "      <td>20</td>\n",
       "    </tr>\n",
       "    <tr>\n",
       "      <th rowspan=\"2\" valign=\"top\">60 - 70</th>\n",
       "      <th>0</th>\n",
       "      <td>13</td>\n",
       "    </tr>\n",
       "    <tr>\n",
       "      <th>1</th>\n",
       "      <td>6</td>\n",
       "    </tr>\n",
       "    <tr>\n",
       "      <th rowspan=\"2\" valign=\"top\">70+</th>\n",
       "      <th>0</th>\n",
       "      <td>6</td>\n",
       "    </tr>\n",
       "    <tr>\n",
       "      <th>1</th>\n",
       "      <td>1</td>\n",
       "    </tr>\n",
       "  </tbody>\n",
       "</table>\n",
       "</div>"
      ],
      "text/plain": [
       "                    Age\n",
       "Age Group Survived     \n",
       "0 - 10    0          24\n",
       "          1          38\n",
       "10 - 20   0          61\n",
       "          1          41\n",
       "20 - 30   0         143\n",
       "          1          77\n",
       "30 - 40   0          94\n",
       "          1          73\n",
       "40 - 50   0          55\n",
       "          1          34\n",
       "50 - 60   0          28\n",
       "          1          20\n",
       "60 - 70   0          13\n",
       "          1           6\n",
       "70+       0           6\n",
       "          1           1"
      ]
     },
     "execution_count": 75,
     "metadata": {},
     "output_type": "execute_result"
    },
    {
     "data": {
      "image/png": "iVBORw0KGgoAAAANSUhEUgAAAYMAAAETCAYAAADUAmpRAAAABHNCSVQICAgIfAhkiAAAAAlwSFlz\nAAALEgAACxIB0t1+/AAAIABJREFUeJzt3Xd8FVX6x/HPTaGEBAQJTenKI2IHF3RVUASxoK5lWcuu\nYgGVpqIgKKjYFRArsiqi2MWy4oKCiHXZXVEsWB6X5s+CGpCOECD5/TGTGELKTcgtwPf9evEid+7c\nM8+d9pxzZu6ZSH5+PiIismtLSXQAIiKSeEoGIiKiZCAiIkoGIiKCkoGIiKBkICIiQFqiA9geZpYP\nZLv7siLTzgfOcPeTzGwUsMDdnyijjJHAp+7+j5gHXMXM7CDgRWAVcJq7LylhnheBzkAzd18f3wi3\niaUpMB3YAlzi7nOKvJcFjAU6AXnhvwfc/ZEqWnYTYIq7H17GPJcAu7n77VWxzO1lZvWBHHePlPDe\nEuB9dz+3yLQOBN+xRRXGsA8wBmgaTloBXOvu71dR+ScDx7r7wDLmeQR41t3frILlnQ/cAywG8oEI\nsA64quj+uCvaoZNBedx9ZBSzHQN8GetYYuRkYLa7X1TSm+EJ8Cjg38DfgIfiGFtJjgZ+cvdjS3jv\ndmAtcIC754ex/9vM/s/dZ2zvgt39R6DURBDOk+j1U1FnmNnr7v5kDJfxInCdu78MYGZHAf80s5bu\n/uv2Fu7urwKvljNPifv3dnjP3U8qeGFmPYGXzKypu2+u4mXtMHbqZGBmk4D57j7azG4E/gTkAsuB\n84HTgA7AXWa2BXgLeAA4iKDWMB0Y7u6bzewE4A6CWu0nwLHAEUAX4EKgFkEN/SRgPNAGqAesAc52\ndzezt4GPCBJQA4IaSkOCmnst4M/u/nkJ32MEcBawGfgG6A90BS4DUs2sprufU8Iq6APMAqYAN5nZ\nBHfPD8ss8fu4+xIzuzAsOyVcV/3d/WszO4Kg9p4arp/b3P3FEuLtAwwMy/45jHcP4GagjpnNdvej\ni32scThvOpDr7j+a2WnAr2GZSwhafHOLvgaWAe8BXwEtgA+Ade7eP5yvB3Aj0AuYD9QGvgX+VKSs\nZ4F3wm1R3937h+VPCtdzM+A5dx8Szn8NwTZfA7wLnFq8Nm5mKcDdBC2dLIIa6EXu/kG4X64G9ieo\ncX8N/MXd14bf+RZgPfBh8XVbzLXAfWb2gbsvLv5mSfuNu/8U7odzgD+G3+094Dx3zythGY0J9k0A\n3P1dM/szsMXMWhAcX5nh8gpfhzXwosdFdWCsu08J5709XCdfEWzHK4F/AU3cPdfMUgm2U3fgQeB+\nYC7B/jwN6EhwfF3r7s+ZWQZBZacTsJKwgufu55ezDgnLbATsZmb1CM4BmUATgmOjl7tvKOkc4u5L\ny5jeluAY353gmLnX3SeaWReCbbwI2C9cN/3cfbaZZQOPAa3Dsn4K1+kN5ZR3D0ELpxZBBfARYG+C\nFvZHQN9Stm+hneGawWwz+6TgHzCq+Axh98TlwKHu3gGYAXR09wcIdrCrw5rPvQQbYH+CJHEgcJWZ\n7Q5MBs5194OA2QQntwLtgC7hCe54YKW7d3L3NgQHdP8i87Zw94MJEtEdwNthTK8DA0qIvXdY5qHu\nfgDBCW2Suz9FsPM/V1IiMLM04GLgSWAqwYmuR/heqd/HzDoD5wFHhnHeCbwUFnsjwQHdHriAIKkV\nX+4xwBDgaHc/EHgaeAV4GxhJUCsrnggAbiA48S4zs9fDE9lqd19UwrzF7QncFK7vm4BeZlYtfK83\n8HDBjOEBMZGgMoCZ1QW6hXEWl+nuRxK0KAaYWUszOy787KFAe4ITfUk6EpxMDnP3fYHHgWuKvN+e\nYHu0Dec708wahrGdHq7jb8v53u8QnCifDrd3odL2myKztCaoyOxPsB07l7KMfgQJ50cze97M+gMf\nuvuqcmKDrY+Lh/l9nacC5xKcsABw92+ALwhauxAkgSXuXrzV3gp4w93/AAwl2D8BRhBUbvchqNgc\nHEV8mFmEoNI0P+xuvhh43N0PA/YCWgInlnYOKWN6GkEl7JpwW3YmOJd0ChfdERgTHmOPEuz/EJyD\nvnD3tsCZhK3ZKMrbDzgrPOZOBrLCY/vQIuutTDtDMjja3Q8q+EdwwinuB+BT4GMzGw184u6vlDDf\n8cD97p7v7hsJTrbHE2TaL939UwB3f5ygZlfgM3dfHb43BZhkZgPM7B6CAy6zyLwFJ9aF4f+vF3ld\nr5SYHnP3deHre4CuRU52pTmFoPbwevhdngWuCN8r6/ucSHAQ/CtMrncC9cIa0/PAA2b2FMHJbHgJ\ny+1BkKBywrInESSaFmUF6+6fAUbQlTSD4CD4LGzCl2czQU2XMHl8Cpwcnui7ht+9qInAn8N1eBYw\ntZST2z/CMn8AfiHYPicAL7j7yrCV9UAp32cOcB3QN9znzmDr/eB1d9/o7puAz8OyjwA+L3ICnBDF\nd7+eoIZ9Q7Hp5e03U909z93XAAsoed/D3Z8haB38jaAFcwHwZdgKKE/hcUGw7xxmZo2A4wiu5f2v\n2PyFCYMgiZd0vWgTQcsA4OMicZ8APBp+p9UEybc0R4aVx3kECego4PTwvaFAjpkNIWjhNyHYbqWd\nQ0qb3oYg4U4Mj6N3gJr8nqS+dfdPSvkefwdw96UECYAoyvvO3QsqD+8D7cIW4DXAOHdfUMb6AHby\nbqIC7p4X1ng7ENQa7g67KgYVm7V4ckwh6LbYTHDAFVW0ybW24A8zu5SgpnE/QW3zV4LaRYGNxWLb\nVE74JcWUVkI8xV1KsLMsMDOAakBjM2tH2d8nFZjs7kPD75NCcECscPcJZjaVoNbWA7jBzA4odiIt\nqYIRIViPJQprPQ8S1Ho+ImjWjjWz64C+BC2bgot9BYomw42+dV/vIwQnr4bAy2H3S/2CN939WzP7\nmKBLrzdBza4kvxX5u2D5xdfdllK+04kEJ+AxBEnla4LacFllF/+O5fZfe9CFeTbBOivah1/efrPN\n8sML6JeE0+YCowm6PK4B3gz/jTSzmQTJ7QVK3yZQ5Lhw93Vm9gJwNnAYRVprRUwhODbbEtR8zy9h\nntwi3R1F11dU2yW01TWDYp4hWE/PA/8k6EaLlHUOKWk6wT64MqygAhC2/FYRdGWVtP3L+h6p5ZRX\ndF0vNrO9CCqixwBvmtmAgi660uwMLYNymdmBBM3kr9z9NoK+3APDtzfz+4nqDaCfmUXMrDrBSX0m\nQT90GzM7ICzvdGA3go1Y3HEE3TiPAg70JNiQlfUG0NvMCvptBwLvhrX9EplZG4Id4RB3bxH+a0LQ\nN3x5Od9nBnCWmTUOi7uEoE8VM/sXcHBY2+8TfqZuCfH2Cvs+C7orlhPUPksUnsjbACPMLD38XBpB\nTejjcLYcggOOsGncuISiCrxM0HK5mJJPOoTThwIZ7v5BGWUV90/gdDOrE76+kJL3g24Ete/xBF2F\np1L+fvAeQY2uYN88P5qAwtbQQODWIpMrvN+4+0NFWtkXEVzD6WNmZxTME7YQGxJsl5VANTPbN3z7\nT+WEWlDzP5zgwnTx5W8gaMVNAl70it399k+C75sSXj84m5K3S3mOA0a5+3Ph5zsSXJcr8RxSxrnF\ngQ1mdi4UdlXPJ9gvy/seF4af2Z1gneZXpLywQvoYMCOs1L1B0I1Upl0iGYTdIc8Dc81sLkFTt6DL\nZCow2szOIzhgGhA02z8n2AC3eHDXxFnAE2GN8jiCJFLSzjqaoGvgE4KT6McE3S6V9ShBjey/ZvYV\ncAhQ0sXioi4lqBEvLDb9RoLaaQqlfB93f4PgWsZMM/uM4KA6LewSGQKMCpvXs4EbvdjtrO4+k+CA\neMvMviC4/nCSl3PxiqCmWQf4JvzcZ8BSfr8GNBQYFK7XiwlqwiUKT3jPASnu/t9SZnuVoOvq0XLi\nKl72WwQntTnhvlSHkveDh4DO4TqcQ9AN2DJsaZVWdg7B+n4q3C4tS5u3hM9O5vcuBajcflO8zBUE\nNcsLzWxJuF3eBO5y97fCFuEQYLqZfUg5J9+w1beZ4ES/oZTZHgb+QMldRGW5DdhAcNy+SdCtV5lb\nqYcDL4fb9iGC7pi9SjuHlDE9l6Cr9qJwH5gBjIii4nEFsI+ZfU6QML8lOC4rUt4TBBWPL8OYahO0\nUssU0RDW5TOz2gT9vze4+3ozO4QggzcJT5I7lJ3t+8STBffyH+7u94avryS4GaFXYiPbtZnZXwhu\nOJgWJtwXCWrG4xMcWoWY2WXAPHefE/ZOvAdc7+7TY73sXeKawfZy99Vmlgt8aGabCC5i/XlHPXHu\nbN8nzr4Bhlpw+2w+8H8EXWaSWPOBCWZ2K8G1i4J++x3NlwR3b6USfI8X4pEIQC0DERFhF7lmICIi\nZVMyEBGRHfOaQU7Omkr1bdWtm8GKFQkdq61EiqtikjUuSN7YFFfFJGtcsH2xZWdnlfr7pF2qZZCW\ntj23+8eO4qqYZI0Lkjc2xVUxyRoXxC62XSoZiIhIyZQMREREyUBERJQMREQEJQMREUHJQERE2EF/\nZyASb1u2wJIl5T1CAlasgF9/LX8+gBYt8klN3jsYZRejZCAShSVLIhx2WGb5MwJbP9CsdHPmrKV1\na40NJslByUAkiU2ePIm5c//Lli2biUQi9Ot3Ofvs07bS5d1zzxh69TqHRo0abfPetGlTqV27Nkcc\nUdrjkMu2dOmPnHfeWbRpY0QiEXJzcznkkA707duv0vEm2lNPPc7zzz/N88+/SvXq1RMdTkwpGUiV\nyJ5ZO74L7La6/Hl2cIsXL+KDD95l/PhHiUQi/O9/zs0338Djjz9T6TIHDRpc6nsnnBDN46bL1qJF\nS+6//+8A5OXlcemlF7Jgwf/Ya6+9t7vsRJgxYzpdu3Zn1qwZVbJ+kpmSgUiSyszM5Oeff+Kf//wH\nHTsezt57Gw8/HDznvX//Plx99XCaN2/BK69MYfny5ZxwQk+GDr2C2rXrcNhhf2TatKk8+eQLRCIR\nRo0axb77HsQLLzzD1VcPZ9SoEdx88x00btyE2bPf5NNPPyErK4vdd9+dZs1a8NRTT5CensaPP/5A\n167dOe+8C/n++++45ZYbSEtLo1Gjxixd+mPhib8kubm5bNqUS40aNVi0aAH33Xc3eXl5rFy5kquu\nuob99z+QYcOGsWDBIjZu3MiZZ/6FHj1OZMKEB5g37yO2bNlM587HcO6557Nw4QLGjbuL/Px86tSp\nw7Bh1/PNN19XKM633nqT5557ipSUFA444CAuvXQAjz46gfnzP+O3337jmmtG0KLF7w+X+/jjuTRp\nsiennno6o0aNLEwGX345n7Fj7yQjI4O6detSrVp1rr32BqZMeZaZM98gEonQtWt3zjzzL7zzzls8\n+eTjpKWlUb9+NjfeeCspKcl5346SgUiSys5uwO23j+XFF59j4sSHqVGjBn36XEaXLl1L/cyvvy7n\n0UefJD09Hfev+fTTeey773785z//4eKLB/DCC0Gr4qSTTuH11/9J794XM23aVC69dACzZ88qLOfn\nn5cyadIzbNq0iVNP7cF5513IAw/cw9/+1pvDDjuCV199maVLf9xm+UuWLKZ//z5EIhFSUlI588yz\n2HPPpsyaNYP+/a+gdeu9mDHjdaZNm0rr1nvx4Ycf8uCDE4lEIvz3v/8GYObM17nvvgnsvnt9pk2b\nCsAdd9zMsGEjadmyFa+99gpPPfU4hx7aMeo4V69excSJE3jkkcnUqFGDm24awYcfBstr3rwll19+\n1Tbf5bXX/kHPnqfSrFkL0tPT+eKL+bRrtx+jR9/GddeNolWr1kyY8ADLluWwePEiZs2ayYMPBs/T\nueKKfnTs2ImZM9/g7LP/ytFHH8v06a+xbt06srKyKrlHxJaSgUiS+v7776hVqxbDh18PwNdff8lV\nVw3kkEM6bDVf0edTNW7chPT0dAB69jyV6dNfY/ny5RxzzDGkpf1+uHfr1oN+/S6iZ89TWbduHa1a\n7bVVMmjVai/S0tJIS0ujevUaAHz77WL22+9AAA488GBmzNj2AVxFu4mKql+/AZMmPUL16tVZv349\ntWrVIiOjFsOHD+fOO29h/fp1dO9+PAAjR97EQw/dx/Lly+nU6fDCZY8ZczsAW7ZsZs89m1Uozu+/\n/46VK1dw1VUDAVi/fj0//PA9AM2aNd8m3lWrVjFnzgesWPErU6Y8x7p1a3nppedo124/li1bRqtW\nrQvLnzVrBosWLeTnn39i0KBLAVizZg3fffcdAwZcweTJk3jxxedp3rwFRx3VZZtlJQslA5EktXDh\n//jHP17mjjvGkp6eTtOmzcjMzCIlJZVq1aqzfPkymjdvwTfffE39+tkARCK/d0F06PAHxo+/l5yc\nHG65ZdRWZWdmZmLWlnvvHVtiX3ikhLtjW7Vqzfz5n3HYYX/kiy8+r9B3ueeeuxg58mZatGjJo49O\nYOnSH1m2bBlffPEFt902mo0bN3L66SfSrVsPZs+exQ033ArAueeeybHHHkezZs257rpRNGrUiM8+\n+4Tly5dVKM7GjfegQYOGjBv3IGlpaUybNpW9927Du+++TUrKtoW8+uqrnHTSKfTrNwiADRs2cOaZ\nJ7NixQoaNGjI4sWLaNmyVWH5zZo1p0WLVowZcy+RSITnnnuK1q335tVXX+bCC/tQt2497rzzFt59\n922OP/6kCq27eFEyEIlCixb5zJmzttz56tXL5Ndfy5+voMyydO58DEuWLOaii/5GRkZN8vLyueyy\nQWRmZnLmmb0YM+Z2GjZsVJgIiotEInTp0pW5c/9Ls2bNyMlZs9X7PXueyuDBAxk2bGRU8V566UBu\nu20Uzz77JLVqZW7V0ihP9+7HM2LEULKyapOd3YBVq1ay++67k5OTwyWXXEBKSgp/+cu5VKtWjdq1\na9Onz/lUr16dQw/tRMOGjRg8eBg33zySLVu2EIlEuOaaESxblhN1nHXr1qVXr3Po378PW7ZsoXHj\nJhxzTLdS433hhRcYNuyGwtc1atSgc+djmDr1ZQYPHsptt42iZs0M0tPTyM5uwN57t6FDh0O57LIL\nyc3dRNu27cjOzqZt23YMGXI5GRm1qFmzJocffkTU6yzedshnIFf24TbZ2VnbHBDJYGeIK953E+Uk\n6d1EO8O2LM2MGdPZd9/92HPPpkyd+gqff/5pYRdWIuMqririLCuuF198nmOO6UbdunX5+98fJD09\nnd69L66K0Lc7tig+W+ovItUyEJGoNGjQkOuvH06NGjVISUnhmmtGJDqkEsU6znr16nHllf2oWTOD\nzMxMrr32hiotP1HUMkgCO0NcahkEdoZtGU+Kq+Ji1TJIzhteRUQkrpQMRERE1wxEopK/hdT1i8qf\nr3omqeuiu5toS0YriGjYUkkOSgYiUUhdv4h6/2of1bz1oizz18M/YkutHXPMHtn5qJtIJEl9/PFc\njjuuMz///FPhtPHj7yscoqGy8vLyuO++sVx++WX063cxgwcPLPw1bmVdf/0wNm3aVOJ7kydP4ssv\n51e67I8/nstJJ3Wjf/8+DBjQlz59zmfKlGcrXV4yGD36dnr3PjvRYWxFLQORJJaeXo1bbx3FuHEP\nECnp57aV8J///Itly3IYN+5BAN59923uu28st98+ttJl3njjbaW+99e/nl/pcgu0b9+hcBm5ubmc\nffbpHHfciUk7zk9ZNmzYwOeff0LLlq35+OO52wwvkihKBiJJrH37DuTl5fPSS89z+um9tnrvmWee\nZNasGaSmpnLggQdz2WUDC4d6WLFiBT//vJQBA66kY8fDtvrcbrvV5euvv2LWrBm0b/8HjjyyM4cd\n9kcAzjijJ089NYXq1aszfvx9NG/egkaNGjN+/H2kp6fTocMfmDfvI+67bwIAQ4ZczkUXXcLw4Vfz\nxBPP0rv3OUya9Aw1a9bk6acnk5qawoIF/6Nr1+78+uty5sz5gI0bN/DDD99zzjnncd55Z5c6Cmhp\n1q9fT0pKCqmpqcyb9xGPPfYweXl5/Pbbb1x//c00bNiIkSOvYd26dWzYsIE+fS7jD3/oxK233sj3\n33+31Qip8+Z9xN///iCpqak0abIHQ4Zcy4wZ0/n44/+wevXawjhPOKFnhUYrveWWG1i1ahWrV6/i\nzjvHUbv277dev/XWTNq3P5ROnf7ISy89X5gMPvjgPR599CFq1cokK6s2rVvvxYUX9uWhh+7n00/n\nkZeXR69e59Cr15946aUXmD79NVJSUmjbdl8uv/zq7d7XYpoMzKwjcIe7dzGzvYBJQD4wH+jn7nlm\ndjHQF9gM3Ozur8UyJpEdzVVXXcPFF59Hx46HF05buHABb701k4cemkhqairXXjuEDz54DwhaE2PG\n3MuHH/6bZ555aptk0LZtO4YOvY5//OMlxo0bTXZ2AwYMuIKDDy79mkhubm7h8Nl9+/bmp5+WkpaW\nzsqVK2nTZh8AUlPT6Nz5GN5+exbHH38Sb775Onff/QD33z+usJx169Yyduz9fPfd/zF06BWcd97Z\nJY4CWtxHH82lf/8+pKSkkJaWxhVXXE1GRgaLFy9i5MibqF8/myeemMjs2W9y5JFdWLVqFWPG3MuK\nFSv47rtvWb9+HZ988jETJkwqHCE1Pz+fO+64hfHjH6Fu3Xo8/PB4pk2bSlpaGmvXruXOO8cVxnnC\nCT0rNFopBIm8V69ztvkuU6e+wtVXD6dFi5aMHn0bOTm/UK/e7owbN5oJEyZSr97u3HjjdQDMmfMB\nS5f+wPjxj7Jx40b69u3N8cd3Zdq0qQwePJS2bdvx8stT2Lx5c4WGBylJzJKBmQ0B/gqsCyeNBa5z\n97fN7CHgFDObAwwEOgA1gPfNbKa7b4xVXCI7mjp1dmPgwMHccsv17L9/MBrnt98uoV27/QtPAAce\neBCLFy8EoE0bA6BBg0bk5m7k+++/48orbyM3dzM9epzAPvu0o1mz5tx4463k5+fz4Yf/YeTIYbz6\n6htbLbfoD1KLjuxZMPx1enr6NoPc9ex5KqNH307z5i1o2rQ5dersttX7e+3VJoytIbm5uQAljgJa\nXNFuoqKys7MZN+4uatbMICfnF/bf/0BatWrNKaecxg03XMvmzZs544y/kJFRi4EDB281QurKlStY\nvnwZI0ZcA8DGjRs59NCO7LlnU/bZZ5+o4ixttNLi66zAkiWLWbx4YWGCjEQivPLKi5x22pnUqlWL\nevV2D8s/iOXLl7No0QLcv6Z//z4AbN68mR9++IHhw0fyzDNPsnTpPbRrt/82y6mMWLYMFgKnAZPD\n1+2Bd8K/pwPdgS3AB+HJf6OZLQAOAD6MYVwiO5wjjjiKd9+dzbRpr3HZZQNp3rwFzz77JJs3byY1\nNZVPPplHjx4nsmDBN9uM5Lnnnk2ZPHly4a9Wn332SZYsWcyQIdeSkpJCy5atqFGjJpFIhGrVqrF8\n+TIaN27CggXfFD7spejInl27dmfQoEtJSUnh7rvv32pZTZs2A/J5+unJ/OlPZ2zzPUq67lHSKKDR\nuuOOW3j++VfIyKjFzTcH4w8tXLiA9evXcddd97Bs2TIuvfQCzNri/tVWI6R27348DRoEz4zIzMzk\n/fffoWbNDH7++aeo4yxttNK335611QiyBaZOfYWLL76M00//MwA//fQTl1zSm/PPv4j169exYsUK\n6tatyxdfzKdRo8Y0b96Cgw/uwNCh15KXl8ekSY/QtGlTbrvtLq66ahjVq1fnyiv78/nnn5bZsotG\nzJKBu79oZi2KTIq4e0FVYw1QB6gNrCoyT8H0MtWtm0FaWuXuz87OTs4LToqrYuIe1+4HQj2v0iLr\nZbaGlNL34912y6B69fTC73rTTTfQs2dPsrJq0KnTwZx88kkMHNiHvLw82rdvz+mn9+T+++8nM7MG\n2dlZrF6dQbVqaYWfL/j/0ksv5o477uCii84lMzOTlJQUxoy5i+zsLPr27cM111zBHnvsQf369cjK\nqrFNHJDF/vu3Y/PmzTRvHjxLOTU1hezsLKpXr85ZZ/Xi3nvv5bjjjiYSiVCjRjp16tRk06YaZGRU\nIzs7i40bq5GamhJ+rxu5+eabycjIID09nYYNG261fbdd/u9OPfUUBg7sS82aNalfvz5r167k4IP3\n5emnH+O992aTl5fH5ZcPYp99WvDMM6sZMOBiUlJSuPDCC2nSpB4jR45g+PAryc/Pp1atWtx55528\n885KcnLYKs7s7KwS4zz88PZ8+eURDBzYh9zcXA444AD23bdV4XcuGnNubi5vvTWDV199lXr1ft8m\n++7blo8++oAbbrieYcOuICsri7y8PMz24tRTT+Trrz9n0KC+rF+/nmOPPZbMzEwOOmg/Bg3qS61a\ntWjUqCGdOx+23c9ojunYRGEyeNbdO5nZ9+6+Zzj9FKAbMAPo4e6XhdNfBm5x97lllauxiaIoM97P\nJI4zjU1UMckc10MPPZrQUUBLi6v4+or1aKWTJz9Gr17nUK1aNUaNGsGhh3Ys8dkHO8OopfPMrIu7\nvw0cD8wG/gvcYmY1gOpAW4KLyyKyi9hRRgGNdZwZGRn07Xs+NWrUoFGjJnTt2r1Kyy9PPJPBYOBh\nM6sGfAVMcfctZnYv8B7BD+CudfcNcYxJRBLs6KOP5eijj010GOWKdZynn95rm9uH4ymmycDdlwCd\nwr+/ATqXMM/DwMOxjENERMqm4ShERETJQERElAxERAQlAxERQclARERQMhAREZQMREQEJQMREUHJ\nQEREUDIQERGUDEREBCUDERFByUBERFAyEBERlAxERAQlAxERQclARERQMhAREZQMREQEJQMREUHJ\nQEREUDIQERGUDEREBCUDERFByUBERFAyEBERlAxERAQlAxERQclARERQMhARESAtngszs3TgcaAF\nsAW4GNgMTALygflAP3fPi2dcIiK7uni3DE4A0tz9cGAUcAswFrjO3Y8EIsApcY5JRGSXF9eWAfAN\nkGZmKUBtYBPQCXgnfH860B14uaxC6tbNIC0ttVIBZGdnVepzsZascSWrZF5fyRqb4qqYZI0LYhNb\nvJPBWoIuoq+B+sBJwFHunh++vwaoU14hK1asr9TCs7OzyMlZU6nPxlIs4squ0tKSTzJuR9i19rGq\noLgqbnttdOCnAAAPB0lEQVRiKyuJxLub6ArgDXdvAxxIcP2gWpH3s4CVcY5JRGSXF+9ksAJYFf79\nK5AOzDOzLuG044H34hyTiMguL97dRHcDE83sPYIWwXBgLvCwmVUDvgKmxDkmEZFdXlyTgbuvBf5c\nwlud4xmHiIhsTT86ExERJQMREVEyEBERlAxERAQlAxERQclARERQMhAREZQMREQEJQMREUHJQERE\nUDIQERGUDEREBCUDEREhylFLzWwa8Bjwirtvim1IIiISb9G2DG4HegD/M7MHzOzQGMYkIiJxFlXL\nwN3fBd41s5rAGcCLZrYaeAQY7+4bYxijiIjEWNTXDMJHU94P3Aq8DgwCGgGvxiQyERGJm2ivGXwL\nLCK4btDf3X8Lp78NfBiz6EREJC6ibRkcA/Ry9ycAzGwvAHff4u6HxCo4ERGJj2iTwYkEXUMADYCp\nZtYnNiGJiEi8RZsM+gBHArj7t0B7YECsghIRkfiKNhmkA0XvGMoF8qs+HBERSYSoLiADrwBvmdnz\n4evT0F1EEoXIOYmpM/zyy5qELFdkRxVVy8DdhwL3Aga0Au519+tiGZiIiMRPtC0DgK+An4EIgJkd\nFf4YTSTpZM+sXaXl5XRbXaXliSSbaH9n8ADQE1hYZHI+wS2nIiKyg4u2ZdAdsIIfm8mOJVH99iKy\n44j2bqJFhN1DIiKy84m2ZfAr8KWZ/QvYUDDR3S+ISVQiIhJX0SaD1/n9F8jbxcyGAScD1YAHgXeA\nSQTXIOYD/dw9ryqWJSIi0Yn21tLHCU7ay4CngHfDaRUSjnx6OPBHoDPQFBgLXOfuRxJ0RZ1S0XJF\nRGT7RJUMzKwXMBW4B6gHzDGzcyuxvOOAz4GXw/JeIxja4p3w/enAsZUoV0REtkO03URDCWr077r7\nL2Z2MPAm8GQFl1cfaA6cBLQk+BVzirsX3O6yBqhTXiF162aQlpZawUUHsrOzKvW5WEvWuCRQke2T\nrNtScVVMssYFsYkt2mSwxd3XmBkA7r7UzCrTr78c+NrdcwE3sw0EXUUFsoCV5RWyYsX6Siw6WIE5\nOck3TEEs4squ0tIk2u2zK+1jVUFxVdz2xFZWEon21tIvzKw/kG5mB5nZ34FPKhHL+0APM4uYWROg\nFjArvJYAcDzwXiXKFRGR7RBtMugH7AH8BkwEVgOXVXRh7v4aMA/4L8E1g37AYOBGM5tDcIfRlIqW\nKyIi2yeqbiJ3XwcMC/9tF3cfUsLkzttbroiIVF60YxPlse3zC5a6+55VH5KIiMRbtC2Dwu4kM0sH\nTgUOi1VQIiISX9FeMyjk7pvc/QU0YqmIyE4j2m6ivxV5GQHaETz6UkREdgLR/s7g6CJ/5xMMS9Gr\n6sMREZFEiPaaQe9YByIiIokTbTfRYra9mwiCLqN8d29VpVGJiEhcRdtN9DSwEXgY2AScAxwKXBuj\nuEREJI6iTQbHuXuHIq/vMbOP3P3bWAQlIiLxFe2tpREzKxxa2sxOIhiSQkREdgLRtgz6AE+YWSOC\nawdfA+fFLCqR7RQ5p6RLXLGXn5jFimy3aO8m+ghoZ2b1gQ3uvja2YYmISDxF+6Sz5mY2E5gDZJrZ\nW2bWIqaRiYhI3ER7zWACcBewFvgZeAZ4IlZBiYhIfEWbDOq7+wwAd89394eB2rELS0RE4inaZPCb\nme1J+MMzMzuC4HcHIiKyE4j2bqIrgNeA1mb2CVAPODNmUYmISFxFmwwaEvziuA2Qyu8PtRcRkZ1A\ntMngTnf/J/BFLIMREZHEiDYZLDSzicB/gN8KJrq77igSEdkJlHkB2cz2CP9cTjBCaSeCZxscDXSJ\naWQiIhI35bUMpgKHuHtvMxvs7mPiEZSIiMRXebeWRor8fU4sAxERkcQpr2VQdNitSKlziUjg6QjZ\nVVBMTjcNCizxFe2PzqDkJ52JiMhOoLyWQTszWxT+vUeRv/W4SxGRnUh5yaBNXKIQEZGEKjMZ6LGW\nIiK7hopcMxARkZ2UkoGIiEQ9HEWVMrMGwEdAN2AzMIngbqX5QD93z0tEXCIiu6q4twzMLJ3gyWkF\nYxyNBa5z9yMJ7lI6Jd4xiYjs6hLRMhgNPAQMC1+3B94J/54OdAdeLquAunUzSEtLrdTCs7OzKvW5\nWEvWuCQxYrE/JOs+prgqLhaxxTUZmNn5QI67v2FmBckg4u4FP2hbA9Qpr5wVK9ZXavnZ2Vnk5Kyp\n1GdjKRZxVcWvYCVxqnx/2IX2/aqQrHHB9sVWVhKJd8vgAiDfzI4FDgKeABoUeT8LWBnnmEREdnlx\nvWbg7ke5e2d37wJ8AvwNmG5mXcJZjgfei2dMIiKSoLuJihkMPGxm1YCvgCkJjkck4bJn1q76Mst4\nTwPjScKSQdg6KNA5UXGIiIh+dCYiIigZiIgIyXHNIK4aNEjcvcO//JKct6qJiKhlICIiSgYiIqJk\nICIiKBmIiAhKBiIigpKBiIigZCAiIigZiIgISgYiIoKSgYiIoGQgIiIoGYiICEoGIiKCkoGIiKBk\nICIiKBmIiAhKBiIigpKBiIigZCAiIigZiIgISgYiIoKSgYiIAGmJDkBkZxI5Jz9hy85/KpKwZcuO\nTy0DERFRMhARESUDERFByUBERIjzBWQzSwcmAi2A6sDNwJfAJCAfmA/0c/e8eMYlsjNI1MXrX35Z\nk5DlStWKd8vgXGC5ux8J9ADuB8YC14XTIsApcY5JRGSXF+9bS18ApoR/R4DNQHvgnXDadKA78HJZ\nhdStm0FaWmqsYoyZ7OysSr0nksy2d99N1n0/WeOC2MQW12Tg7msBzCyLIClcB4x294L27RqgTnnl\nrFixvlLLT/TGzckpuTmdnZ1V6nuVlV2lpYmUbnv23Vjs+1UhWeOC7YutrHNg3H90ZmZNCWr+D7r7\n02Z2Z5G3s4CV8Y4pXho0KCsZVXWiStyPn0RkxxPXawZm1hCYAQx194nh5Hlm1iX8+3jgvXjGJCIi\n8W8ZDAfqAiPMbEQ4bRBwr5lVA77i92sKIiISJ/G+ZjCI4ORfXOd4xiEiIlvTj85ERETJQERElAxE\nRAQlAxERQQ+3EZHtlD2zdoU/k9NtdQwike2hloGIiCgZiIiIuolEJAGKdi3FYxwtdUuVTy0DERFR\nMhARESUDERFByUBERFAyEBERlAxERAQlAxERQb8zEJHtFDkncY9YzX8qkrBl72zUMhARESUDERFR\nMhAREZQMREQEJQMREUF3E4nILqAyD+DZntFUd8RRUtUyEBERJQMREVEyEBERlAxERAQlAxERQclA\nRERQMhAREZLkdwZmlgI8CBwIbAQucvcFiY1KRGTXkRTJADgVqOHuh5lZJ2AMcEqCYxIRKVFCh+2O\n0aKTpZvoCOB1AHf/N9AhseGIiOxakqVlUBtYVeT1FjNLc/fNJc2cnZ1V6SdaxCqrikgiJOaAzj87\nIYstlJ2dVeVlJkvLYDVQ9NullJYIRESk6iVLMvgAOAEgvGbweWLDERHZtSRLN9HLQDcz+xcQAXon\nOB4RkV1KJF+d6CIiu7xk6SYSEZEEUjIQERElAxERSZ4LyDGTjENdmFlH4A5372JmewGTCG6Yng/0\nc/e8BMSUDkwEWgDVgZuBLxMdm5mlAg8DFsZxCbAh0XEVia8B8BHQDdicRHF9THDLNsBi4JZkiM3M\nhgEnA9UIjst3Eh2XmZ0PnB++rAEcRPBD2HEJjisdeJzgmNwCXEwM97FdoWVQONQFcA3BUBcJY2ZD\ngEcIdjqAscB17n4kwZ1UiRqG41xgeRhHD+D+JImtJ4C7/xG4juCklgxxFRysE4DfwknJElcNIOLu\nXcJ/vZMhNjPrAhwO/BHoDDRNhrjcfVLBuiJI7AOBkYmOi+B2+zR3PxwYRYz3/V0hGSTbUBcLgdOK\nvG5PUDsCmA4cG/eIAi8AI8K/IwQ1kITH5u6vAH3Cl82BlckQV2g08BDwY/g6WeI6EMgwsxlm9lb4\n251kiO04gt8QvQxMBV5LkrgAMLMOQDt3/3uSxPUNkBb2btQGNsUyrl0hGZQ41EWignH3Fwk2aoGI\nuxfc37sGqBP/qMDd17r7GjPLAqYQ1MKTJbbNZvY4cB/wVDLEFXYt5Lj7G0UmJzyu0HqCRHUcQbda\nUqwzoD5BZezMInGlJEFcBYYDN4Z/J8P6WkvQRfQ1QVfpvbGMa1dIBsk+1EXR/r4sgppvQphZU2A2\nMNndnyaJYnP384A2BAdFzSJvJSquCwh+KPk2QR/zE0CDJIgLghrlk+6e7+7fAMuBhkXeT1Rsy4E3\n3D3X3Z3g2k/Rk1nC1pmZ7QaYu88OJyXDvn8FwfpqQ9Dae5zgWktM4toVkkGyD3UxL+xLBTgeeC8R\nQZhZQ2AGMNTdJyZLbGb21/CiIwQ13jxgbqLjcvej3L1z2M/8CfA3YHqi4wpdQHhtzMyaELSOZyRB\nbO8DPcwsEsZVC5iVBHEBHAXMKvI64fs+sILfezV+BdJjGddOfzcRyT/UxWDgYTOrBnxF0EWTCMOB\nusAIMyu4djAIuDfBsb0EPGZm7xIcDJeHsSTDOisuWbblo8AkM3uf4K6TC4BliY7N3V8zs6OA/xJU\nRPsR3OmUDOvMgEVFXifDtrwbmGhm7xG0CIYDc2MVl4ajEBGRXaKbSEREyqFkICIiSgYiIqJkICIi\nKBmIiAhKBiKVYmb7mVm+mZ2e6FhEqoKSgUjl9Ca4x/uSRAciUhX0OwORCgrHtvoBOBL4F9DR3ReG\nvwy9j2CQvznAvkWGKR8P7E7wK+oB7j4vIcGLlEItA5GKOxH4Nhz35xWgbzic9WTgHHc/mK0HI3wc\nGOLuhxCMwPpsvAMWKY+SgUjF9QaeCf9+juDBKAcDv7j7Z+H0iQBmlgkcSjCkxifA00Cmme0e14hF\nyrErjE0kUmXCJ5udAHQws0EE413VJRg0rKTKVSqwwd0PKlLGngQDj4kkDbUMRCrmXGCWu+/p7i3c\nvTnBE6iOA+qa2f7hfGcD+e6+CvifmZ0LYGbdgHcTEbhIWdQyEKmY3gSjRxb1IDAE6A48YWZ5gPP7\n4zDPAR4KH3maC/Qq8oASkaSgu4lEqkD4aMLbgRvdfZ2ZXQns4e6DExyaSFTUTSRSBdw9j+A6wIfh\nheKjgFsTG5VI9NQyEBERtQxERETJQEREUDIQERGUDEREBCUDEREB/h8a3k7OOjH0aAAAAABJRU5E\nrkJggg==\n",
      "text/plain": [
       "<matplotlib.figure.Figure at 0x10f553410>"
      ]
     },
     "metadata": {},
     "output_type": "display_data"
    }
   ],
   "source": [
    "plt.hist(non_survived_age_values, color='orange')\n",
    "plt.hist(survived_age_values, color='blue')\n",
    "plt.title(\"Histogram of Ages of Surviving and Non-Surviving Passengers\")\n",
    "plt.xlabel(\"Age\")\n",
    "plt.ylabel(\"Frequency\")\n",
    "blue_patch = mpatches.Patch(color='blue', label='Surviving Passenger Ages')\n",
    "orange_patch = mpatches.Patch(color='orange', label='Non-Surviving Passenger Ages')\n",
    "plt.legend(handles=[blue_patch, orange_patch])\n",
    "\n",
    "age_cleaned_df_modified_grouped.count()"
   ]
  },
  {
   "cell_type": "markdown",
   "metadata": {
    "collapsed": true
   },
   "source": [
    "### Part 3: Sex"
   ]
  },
  {
   "cell_type": "code",
   "execution_count": 54,
   "metadata": {
    "collapsed": false
   },
   "outputs": [
    {
     "data": {
      "text/html": [
       "<div>\n",
       "<table border=\"1\" class=\"dataframe\">\n",
       "  <thead>\n",
       "    <tr style=\"text-align: right;\">\n",
       "      <th></th>\n",
       "      <th>Survived</th>\n",
       "    </tr>\n",
       "    <tr>\n",
       "      <th>Sex</th>\n",
       "      <th></th>\n",
       "    </tr>\n",
       "  </thead>\n",
       "  <tbody>\n",
       "    <tr>\n",
       "      <th>female</th>\n",
       "      <td>314</td>\n",
       "    </tr>\n",
       "    <tr>\n",
       "      <th>male</th>\n",
       "      <td>577</td>\n",
       "    </tr>\n",
       "  </tbody>\n",
       "</table>\n",
       "</div>"
      ],
      "text/plain": [
       "        Survived\n",
       "Sex             \n",
       "female       314\n",
       "male         577"
      ]
     },
     "execution_count": 54,
     "metadata": {},
     "output_type": "execute_result"
    }
   ],
   "source": [
    "sex_count = sex_cleaned_df.copy()\n",
    "\n",
    "sex_count = sex_count.groupby(['Sex'])\n",
    "\n",
    "sex_count.count()"
   ]
  },
  {
   "cell_type": "markdown",
   "metadata": {},
   "source": [
    "#### Mean Survival by Sex\n",
    "With such a large difference in survival rate between women and men, one inference that can be made is that the men on the ship may have given priority to the womens' survival over their own. One observation worth noting is that fewer men survived than women even though men outnumbered women by 263 before the disaster (in this sample).\n",
    "\n",
    "Although this conclusion seems highly feasible, there could still be other unconsidered factors influencing this large disparity in survival between women and men."
   ]
  },
  {
   "cell_type": "code",
   "execution_count": 83,
   "metadata": {
    "collapsed": false
   },
   "outputs": [
    {
     "name": "stdout",
     "output_type": "stream",
     "text": [
      "Mean Survival by Sex:\n"
     ]
    },
    {
     "data": {
      "text/html": [
       "<div>\n",
       "<table border=\"1\" class=\"dataframe\">\n",
       "  <thead>\n",
       "    <tr style=\"text-align: right;\">\n",
       "      <th></th>\n",
       "      <th>Survived</th>\n",
       "    </tr>\n",
       "    <tr>\n",
       "      <th>Sex</th>\n",
       "      <th></th>\n",
       "    </tr>\n",
       "  </thead>\n",
       "  <tbody>\n",
       "    <tr>\n",
       "      <th>female</th>\n",
       "      <td>0.742038</td>\n",
       "    </tr>\n",
       "    <tr>\n",
       "      <th>male</th>\n",
       "      <td>0.188908</td>\n",
       "    </tr>\n",
       "  </tbody>\n",
       "</table>\n",
       "</div>"
      ],
      "text/plain": [
       "        Survived\n",
       "Sex             \n",
       "female  0.742038\n",
       "male    0.188908"
      ]
     },
     "execution_count": 83,
     "metadata": {},
     "output_type": "execute_result"
    },
    {
     "data": {
      "image/png": "iVBORw0KGgoAAAANSUhEUgAAAYAAAAFOCAYAAACPJcp7AAAABHNCSVQICAgIfAhkiAAAAAlwSFlz\nAAALEgAACxIB0t1+/AAAGu9JREFUeJzt3X+YXFWd5/F3dxqNMR2nGdpFHhX8gd9xRoxAhASDAk5A\n8Qc4DqMyjGMw/NDRXVHHYRxXRwdX1AUHWRgNKPgbcTXsoC4KoqCJuICIAc1XI+q4KhK0SaJIMEnP\nH7caiibdKUjfupU679fz8KTrnqpb31CV++lz7znnDoyPjyNJKs9g0wVIkpphAEhSoQwASSqUASBJ\nhTIAJKlQBoAkFWqo6QI6tW7dRserzqCRkTmMjd3ZdBnS/fjdnFmjo8MDU7XZAyjU0NCspkuQtsnv\nZvcYAJJUKANAkgplAEhSoQwASSqUASBJhTIAJKlQBoAkFcoAkKRC7TQzgXcWx59+ZdMl9JUPn3pY\n0yVIfcsegCQVygCQpEIZAJJUKANAkgplAEhSoQwASSqUASBJhTIAJKlQtU0Ei4hB4FxgPrAJWJaZ\na1ttuwMXtT39acCpmfmBuuqRJN1XnTOBjwZmZ+aiiFgInAEcBZCZtwKHAETEIuCdwHk11iJJmqTO\nU0CLgcsAMvMaYMHkJ0TEAHA28KrM3FJjLZKkSersAcwD1rc93hIRQ5m5uW3bC4CbMzO3t7ORkTne\nLLpAo6PDTZegBvi5d0edAbABaP8UBycd/AGOA87qZGdjY3fOVF3aiaxbt7HpEtRlo6PDfu4zaLow\nrfMU0ErgSIDWNYDV23jOAmBVjTVIkqZQZw9gBbAkIlYBA8DSiDgWmJuZyyNiFNiQmeM11iBJmkJt\nAZCZW4GTJ21e09a+jmr4pySpAU4Ek6RCGQCSVCgDQJIKZQBIUqEMAEkqlAEgSYUyACSpUAaAJBXK\nAJCkQhkAklQoA0CSCmUASFKhDABJKpQBIEmFMgAkqVAGgCQVygCQpEIZAJJUKANAkgplAEhSoWq7\nKXxEDALnAvOBTcCyzFzb1v504ExgALgVOC4z76qrHknSfdXZAzgamJ2Zi4BTgTMmGiJiADgPWJqZ\ni4HLgD1rrEWSNEmdATBxYCczrwEWtLU9Cfg1cEpEXAXsmplZYy2SpElqOwUEzAPWtz3eEhFDmbkZ\n2A04CHgNsBb4fERcl5lXTrWzkZE5DA3NqrFc9aLR0eGmS1AD/Ny7o84A2AC0f4qDrYM/VL/9r83M\n7wNExGVUPYQpA2Bs7M666lQPW7duY9MlqMtGR4f93GfQdGFa5ymglcCRABGxEFjd1nYLMDcinth6\nfDBwc421SJImqbMHsAJYEhGrqEb6LI2IY4G5mbk8Il4JfLJ1QXhVZn6hxlokSZPUFgCZuRU4edLm\nNW3tVwIH1PX+kqTpORFMkgplAEhSoQwASSqUASBJhTIAJKlQBoAkFcoAkKRCGQCSVCgDQJIKZQBI\nUqEMAEkqlAEgSYUyACSpUAaAJBXKAJCkQhkAklQoA0CSCmUASFKhDABJKpQBIEmFmvKm8BHxzOle\nmJlXT9ceEYPAucB8YBOwLDPXtrWfAiwD1rU2nZSZ2WHdkqQdNGUAAG+fpm0cOGw7+z4amJ2ZiyJi\nIXAGcFRb+/7AyzPz+o4qlSTNqCkDIDMP3cF9LwYua+3rmohYMKl9f+AfI2J34AuZ+a4dfD9J0gMw\nXQ8AgIhYDPw9MBcYAGYBe2bmXtt56TxgfdvjLRExlJmbW48vAs4BNgArIuL5mfn5qXY2MjKHoaFZ\n2ytXfWZ0dLjpEtQAP/fu2G4AAOcD7wZeAbwfeC7w7Q5etwFo/xQHJw7+ETEA/Gtmrm89/gKwLzBl\nAIyN3dnBW6rfrFu3sekS1GWjo8N+7jNoujDtZBTQ7zPzAuBrwBhwAvCsDl63EjgSoHUNYHVb2zzg\npoiY2wqDwwCvBUhSF3USAHdFxK5AAgszcxx4eAevW9F67SrgfcApEXFsRJzY+s3/zcBXga8DN2fm\nFx/cX0GS9GB0cgroTODTwF8A10bEXwPXbe9FmbkVOHnS5jVt7R8DPtZ5qZKkmdRJD+CrwOGZuZFq\n5M5xwN/UWpUkqXad9ABuAG6MiI8Dl2TmDTXXJEnqgk56AHsC/wosAdZExIUR8ex6y5Ik1W27PYDW\nufwrgCsi4hCqGb2fAx5Rb2mSpDp1MhFsP+BlwIuAH1AFwIqa65Ik1ayTawDnAR8FnpGZv6q5HklS\nl0y3GujumXkr1fDPceChEfHYifbM/I8u1CdJqsl0PYDzgedTzQAep1oHaMI48Pj6ypIk1W261UCf\n3/rxgMxcN9XzJEk7p06uAXw7Im6kmrX7fzLzrpprkiR1wQOZB3A4zgOQpL7hPABJKpTzACSpUM4D\nkKRCdRIAv8nMs2qvRJLUVZ1cBH5oRDym9kokSV3VSQ/gkcBPIuI24PdUE8LGM9OJYJK0E+skAI6o\nvQpJUtd1EgBT3QD+ozNZiCSpuzoJgEPbft4FOBi4GgNAknZqnUwEW9r+OCJ2pbpJ/LQiYhA4F5gP\nbAKWZebabTxvOdVIo1M7LVqStOM6GQU02W+BvTp43tHA7MxcBJxKNYHsPiLiJGCfB1GDJGkHdTIT\n+KtUyz9DNQLo8cAXOtj3YuAygMy8JiIWTNrvQcCBwAeBP3kANUuSZkAn1wD+ue3nceD2zPxeB6+b\nB6xve7wlIoYyc3NEPAp4G9XyEn/VSaEjI3MYGprVyVPVR0ZHh5suQQ3wc++OaQMgImYB38zMuyNi\nHrAEuLXDfW8A2j/Fwczc3Pr5GGA34IvA7sCciFiTmRdOtbOxsTs7fFv1k3XrNjZdgrpsdHTYz30G\nTRemU14DaJ2y+Q/gkNbB/wbgFODfI+KoDt53JXBka18LgdUTDZn5/szcPzMPAU4HPjndwV+SNPOm\nuwj8P4FjMvPLwN9SjdRZDBwEvLWDfa8A7oqIVcD7gFMi4tiIOHFHi5Yk7bjpTgGNZOaq1s/PBj4L\nkJm/iYiHbG/HrfsInDxp85ptPO/CzkqVJM2k6XoAgwARsQvVbOAr2h7Prb80SVKdpusBXBUR5wAP\nAX6emddFxB7AW4Avd6U6SVJtpusBvB74KbAReF5r298Bc1ptkqSd2JQ9gMy8G3jPpG3/VHtFkqSu\neDBLQUiS+oABIEmFMgAkqVCdLAZ3BPBOYIRqMThvCSlJfaCTxeDOphr1cxP3rgoqSdrJdRIAt2fm\n52uvRJLUVZ0EwNcj4kyqtf3vmtiYmVfXVpUkqXadBMABrT/3bds2Dhw28+VIkrqlk3sCH7q950iS\ndj6djAJaDPw91QJwA8AsYM/M3Kve0iRJdepkHsD5wCVUYXEO8EOqtf4lSTuxTgLg95l5AfA1YAw4\ngWp5aEnSTqyTALgrInYFEliYmePAw+stS5JUt04C4Ezg08ClwMsj4mbgulqrkiTVbrsBkJmfAQ7P\nzI3A/sBxwN/UXZgkqV6djAIaAd4TEU8AjgFeC7yB6nrAdK8bBM4F5gObgGWZubat/cXAqVRzCj6R\nmWc92L+EJOmB6+QU0HnAtcAfU90d7JfAxzt43dHA7MxcRHWgP2OiISJmAacDfw4sAl4dEbs9sNIl\nSTuikwB4XGYuB7Zm5t2tu4I9uoPXLaZaPoLMvAZYMNGQmVuAJ2fmeqpgmQXc/UCLlyQ9eJ0EwOaI\neAStlUAjYm9gawevmwesb3u8JSLuOeWUmZsj4i+AG6mGmP6u06IlSTuuk7WA3kZ1gH5sRFxCdcrm\n+A5etwEYbns8mJmb25+QmZ9r7fNC4OXABVPtbGRkDkNDszp4W/WT0dHh7T9JfcfPvTs6WQvosoi4\nDjiQ6lTNSZn5qw72vRJ4AXBxRCwEVk80RMQ8qmGlh2fmpoj4HdvpVYyN3dnBW6rfrFu3sekS1GWj\no8N+7jNoujCdMgAi4uVTNB0REWTmR7fzviuAJRGximoNoaURcSwwNzOXR8QngKsj4g/Ad+nswrIk\naYZM1wO4ELgNuILqAu1AW9s4MG0AZOZW4ORJm9e0tS8Hlj+AWiVJM2i6ANgPeAmwhOpC7UXAFa0D\nuyRpJzdlAGTmd4DvAP8YEQuowuB/tK4HXJSZX+tOiZKkOnQyCojMvA64LiIOpprAdRzV/QEkSTup\naQMgIgaAZ1ItAfFcqh7B2VQjeCRJO7HpRgH9G/Ac4AbgYuAfMtPJWpLUJ6brAZwE/JrqZvD7Up3/\nv6cxMx9fb2mSpDpNFwCP61oVkqSum24U0E+7WYgkqbs6WQxOktSHDABJKpQBIEmFMgAkqVAGgCQV\nygCQpEIZAJJUKANAkgplAEhSoQwASSqUASBJhTIAJKlQHd0R7MGIiEHgXGA+sAlYlplr29pfBrwO\n2AysBl7t/YYlqXvq7AEcDczOzEXAqcAZEw0R8TDgNODQzHwG8Ajg+TXWIkmapM4AWAxcBpCZ1wAL\n2to2AQdl5p2tx0PAXTXWIkmapM4AmAesb3u8JSKGADJza2b+CiAiXkt1g/nLa6xFkjRJbdcAgA3A\ncNvjwczcPPGgdY3gPcCTgBdn5vh0OxsZmcPQ0KxaClXvGh0d3v6T1Hf83LujzgBYCbwAuDgiFlJd\n6G33QapTQUd3cvF3bOzO7T1FfWjduo1Nl6AuGx0d9nOfQdOFaZ0BsAJYEhGrgAFgaUQcS3W65zrg\nlcDXgStbN5s/KzNX1FiPJKlNbQHQ+q3+5Emb17T97BwEqYuOP/3KpkvoKx8+9bCmS9hhHoQlqVAG\ngCQVygCQpEIZAJJUKANAkgplAEhSoQwASSqUASBJhTIAJKlQBoAkFcoAkKRCGQCSVCgDQJIKZQBI\nUqEMAEkqlAEgSYUyACSpUAaAJBXKAJCkQhkAklSo2m4KHxGDwLnAfGATsCwz1056zhzgcuCVmbnm\n/nuRJNWlzh7A0cDszFwEnAqc0d4YEQuAq4En1FiDJGkKdQbAYuAygMy8Blgwqf2hwIsAf/OXpAbU\nGQDzgPVtj7dExD2nnDJzZWb+rMb3lyRNo7ZrAMAGYLjt8WBmbn6wOxsZmcPQ0Kwdr0o7ldHR4e0/\nSWpAP3w36wyAlcALgIsjYiGwekd2NjZ254wUpZ3LunUbmy5B2qad5bs5XVDVGQArgCURsQoYAJZG\nxLHA3MxcXuP7SpI6UFsAZOZW4ORJm+93wTczD6mrBknS1JwIJkmFMgAkqVAGgCQVygCQpEIZAJJU\nKANAkgplAEhSoQwASSqUASBJhTIAJKlQBoAkFcoAkKRCGQCSVCgDQJIKZQBIUqEMAEkqlAEgSYUy\nACSpUAaAJBXKAJCkQtV2U/iIGATOBeYDm4Blmbm2rf0FwFuBzcCHM/O8umqRJN1fnT2Ao4HZmbkI\nOBU4Y6IhInYB3gccDjwLODEi/kuNtUiSJqkzABYDlwFk5jXAgra2JwNrM3MsM+8GvgE8s8ZaJEmT\n1HYKCJgHrG97vCUihjJz8zbaNgKPmG5no6PDAzNf4sy79Iyjmi5B2ia/m5qszh7ABmC4/b1aB/9t\ntQ0Dd9RYiyRpkjoDYCVwJEBELARWt7V9H9g7InaNiIdQnf75Zo21SJImGRgfH69lx22jgJ4KDABL\ngf2AuZm5vG0U0CDVKKBzailEkrRNtQWAJKm3ORFMkgplAEhSoQwASSqUASBJhapzIph6REQcDLyO\nanb23VTrL30T+F+ZuarJ2qSIGACeBxwC/DFwG/AV4PLMdJRKjRwF1Oci4myqiXefAr6XmVtb2/cB\njgOGM/PVDZaogkXEYcA/Ad+mmiv0S2AEOBB4GvCuzLyiuQr7mz2A/vcvmXnb5I2ZuRr4BxfhU8P2\nBg7PzC2Ttl8cEbOAEwEDoCb2AArR+sf0CmBP4Ergpsy8vdGipDYRMQ/YC/hRZv6u4XKK4EXgcnyQ\n6uC/hGrtpY82W450r4j4S+Aq4BPA6yPiLQ2XVAQDoBxPyMy3Ar/PzEvZzuqrUpedAiwEbgdOA17U\nbDllMADKMRQRuwFExDCwteF6pHZbMnMTMN4a+eMpoC7wInA53kK1QuujgGuohoVKveIbEfEp4NER\n8QHg2qYLKoEXgQsTEaPA7Y6vVq+JiOcA+wDfz8zPN11PCQyAPhcR3wS2+SFn5kFdLke6j4g4caq2\nzFzezVpK5Cmg/vfSpguQpvGoKbb7m2kX2AMoREQ8ETgG2IXqBj17ZOZJzVYl3SsiHsV9v5/eJbBm\n9gDK8UlgBdV6QL8A5jZbjnSviPgQsAh4OPAw4BaqYaGqkcNAy/HbzHwX8P8z8xWAS0Col8wH/gz4\nEvCnwF3NllMGA6Ac4xGxOzAcEQ/HHoB6y69bI9Me7hIl3WMAlOPtVLMrP0bVvf5Ks+VI93F9RLwR\n+EVEXATMabqgEngRWFJPiIi5VKd+ngt8a1ur2GpmeRG4EBHxTuCVtC0BkZl7NFeRdK+IOIBqyPLs\n1qbnAt6nomYGQDmeB+zZWm9F6jUfAd4NjDVdSEkMgHLcQPXblQGgXvTDzLyw6SJKYwCU4ybglxFx\nK9VEm/HMfHzDNUkTPtu6+Pu9iQ2Z+Y4G6ymCAVCOlwCPA+5ouhBpG/4O+Cx+P7vKACjHT4HfeQ1A\nPerXmfnuposojQFQjscAP4qIW1qPx10NVD3k9oj4IPBtWgvBuRpo/QyAcryk6QKkaaxt/bl7o1UU\nxgAox2aqYXaPBD4DfJfqtJDUuMx8e9M1lMilIMqxHPgw1XK7VwNnNVuOpKYZAOV4WGZeSXXuP3G1\nRal4BkA57oqII4BZEbEQA0A9LCKeGhHOU6mZAVCOE4GlwG7AG4FXNVuONK2lwHMj4tFNF9LPXA20\nz0XElzLziIh4mxfaJLUzAPpcRFxPtf7/wcCV7W2ZeWwjRUktEXEBU9wAPjOP73I5xXEYaP97NvBU\n4InABxuuRZrsotafrwJWASuBpwMHNFZRQewBFCIidsnMPzRdh7QtEfHlzDy87fHlmbmkyZpKYA+g\nEB781ePmRsRhwLXAQdx7YxjVyACQ1AuOB94L7E21JPTfNltOGTwFVKiIeCrw28y8ZbtPlrogIp5E\nFQA3Aj/PTA9ONXMeQLkcZ62eERGvAf4NOA14MXB2sxWVwR6ApMZFxDeAZwJfycxDI+LazHx603X1\nO68B9DnHWWsnMUj1PZ34rnrjoi7wFFD/uwj4NLArsAb4ENVS0I6yUC/5FNUqtU+MiC8ClzRcTxE8\nBVQIx1mrl0XEENUF4KcAmZnfbbikIngKqByOs1YvWw1cCpyfmT9ouphSGADlcJy1etl84IXAmREx\nG7ggMz/RcE19z1NABXGctXpdRCwGXgf8WWY+uel6+p09gEK0xlm/iOpi8IVUQfCaJmuSJkTEW4G/\nAr4NvD8zr264pCIYAOV4KfeOsz4rIq5tuiCpzRiwODPvaLqQkhgA5XCctXpORCzLzPOBPYA3RcQ9\nbZn55sYKK4QBUI6JcdZ7Os5aPeRnrT/XNFpFobwIXAjHWauXRcQlwHLg/zo4oXucCVyO1VQLwN3o\nwV896F+AI4EbIuKfI+IxTRdUAnsAhYiIh1CNs34F1SQwx1mr50TECNWqoC/KzIc2XU+/swdQiMy8\nOzP/N3A6cAfwloZLku4REQdHxIeAq4CbgSc0XFIRvAhcCMdZq8e9DjgPWOY1gO4xAMrhOGv1snmZ\neVnTRZTGAOhzjrPWTuI3EXEUkMBWABeFq58B0P8cZ62dwSOpTgNNGAcOa6iWYjgKqBCOs5Y0mQFQ\niIjYn2oewGKqWcAfysyfTf8qqTsi4sfc99al6zNz36bqKYWngAqRmdcD17eNs14LOM5aveJPWn8O\nAPsDxzRYSzEMgEJExMFUk8CeDnwGeGOjBUltMrN9ccKVEfGuxoopiAFQDsdZq2e1DvgT38s9aI0E\nUr0MgHI4zlq9rH2U2o2A39UuMADK4Thr9aSImJ+ZH2mtV3UCsAuwseGyimAAlMNx1uo5EfF64CUR\n8QzgvcCewE+B9wH/rcnaSmAAFCIzD226BmkbjgEOovqF5Fhg78y8IyJWNVtWGQyAQjjOWj1qY2Zu\niYj9gFva1qoaaLKoUhgA5XCctXrReEQ8iWqI8r8DRMTewOYmiyqFAVAIx1mrR/134GPArcCbI+JZ\nwMfxF5SucCmIQmxjnPVemXlIcxVJ9xcRDwW2ZuYfmq6lBPYAyuE4a/WciPgAcHZm3gz37alGxNOA\nV2XmSU3V1+8MgAI4zlo97M3AaRGxgGqOyq+APwKeBvw/vHVprTwF1OcmxlkDzwDO4N5x1mSm46zV\nEyJiGFgI7AbcBlyTmb9rtqr+Zw+g/znOWj0vMzcClzddR2kGmy5AtduYmVuoutSOs5Z0DwOg/znO\nWtI2eQqo/znOWtI2eRG4MI6zljTBAOhzk8dZT2pznLVUME8B9T/HWUvaJnsAhXCctaTJDABJKpTD\nQCWpUAaAJBXKAJCkQjkKSEWIiL2AHwOHZ+blbdt/AhySmT+p4T3/CDgHeGpr08+B12bmD2f6vaQH\nwx6ASvIH4LzWiKhueBdwU2buk5n7AB8BPt2l95a2yx6ASvILqhUnzwBObG+IiDcDxwFbgC8DbwIe\nA6wAbgL2pZpDcUxm/iYingO8g+reCj8GTsjMX096v92B2yJiMDO3Uh38f9t6v1nAe4FDgFnAhZn5\nvoj4r8BfAs+iWsL7AmC/1mqZ0oyyB6DSvAE4IiKWtG07EnghsD/Vgf6JwMmttvnAmZn5FOAO4K8j\nYhQ4HTgiM/cFvgS8exvvdRpwPPCriPh06+eJ008nAGTmfsABwFERcTBwNlUIvRo4H3iFB3/VxQBQ\nUTJzA9XBt/1U0GHApzLz95m5Gfgw8OxW222ZeUPr55uAXYEDgccCX42I7wCvAfbexntdDzyO6jf6\nH1CFz9cjYgj4c+CFrdd/C3g0sE9mjlMFxXuASzNz5Yz+D5DaeApIxcnML0fExKkguP8vQgPc+2/j\nrrbt4622WcA3MvOFABExG7jPdYWIGADOBU7JzKuAqyLiHcAPqXoZs4A3ZebnWs/fDZiYmb0nsAHY\nLyIGWqEgzTh7ACrVG4AjgD2AK4GXRcTDWr+dLwW+Os1rvwUsat1nAaolt9/b/oTWQftPgTdGxMS/\nsz2oguVHrfc8ISJ2iYi5wDeAA1s/n0d1SupO4FU7/DeVpmAAqEhtp4J2AT7f+u864GaqeyafPc1r\nb6U6TXNxRKwG9qMKFCLiHRExcf3gpcBTgB9HxPeAi4BjM/M3wAeoegM3tN73gsz8GtWpny9k5rVU\np5beGhGPm8G/unQP1wKSZlBE7AsclJnnNF2LtD32AKSZtQfwyaaLkDphD0CSCmUPQJIKZQBIUqEM\nAEkqlAEgSYUyACSpUP8JMRa9/KtCR8cAAAAASUVORK5CYII=\n",
      "text/plain": [
       "<matplotlib.figure.Figure at 0x112e72890>"
      ]
     },
     "metadata": {},
     "output_type": "display_data"
    }
   ],
   "source": [
    "grouped_by_sex_df = sex_cleaned_df.copy()\n",
    "\n",
    "grouped_by_sex_df = grouped_by_sex_df.groupby(['Sex'], as_index=True)\n",
    "\n",
    "print 'Mean Survival by Sex:'\n",
    "grouped_by_sex_df.mean().unstack().plot(kind='bar').set_ylabel('Mean Survival')\n",
    "grouped_by_sex_df.mean()"
   ]
  },
  {
   "cell_type": "code",
   "execution_count": 161,
   "metadata": {
    "collapsed": false
   },
   "outputs": [
    {
     "name": "stdout",
     "output_type": "stream",
     "text": [
      "Number of Survived Passengers by Sex:\n"
     ]
    },
    {
     "data": {
      "text/html": [
       "<div>\n",
       "<table border=\"1\" class=\"dataframe\">\n",
       "  <thead>\n",
       "    <tr style=\"text-align: right;\">\n",
       "      <th></th>\n",
       "      <th>Survived</th>\n",
       "    </tr>\n",
       "    <tr>\n",
       "      <th>Sex</th>\n",
       "      <th></th>\n",
       "    </tr>\n",
       "  </thead>\n",
       "  <tbody>\n",
       "    <tr>\n",
       "      <th>female</th>\n",
       "      <td>233</td>\n",
       "    </tr>\n",
       "    <tr>\n",
       "      <th>male</th>\n",
       "      <td>109</td>\n",
       "    </tr>\n",
       "  </tbody>\n",
       "</table>\n",
       "</div>"
      ],
      "text/plain": [
       "        Survived\n",
       "Sex             \n",
       "female       233\n",
       "male         109"
      ]
     },
     "execution_count": 161,
     "metadata": {},
     "output_type": "execute_result"
    }
   ],
   "source": [
    "print 'Number of Survived Passengers by Sex:'\n",
    "grouped_by_sex_df.sum()"
   ]
  },
  {
   "cell_type": "code",
   "execution_count": 81,
   "metadata": {
    "collapsed": false
   },
   "outputs": [
    {
     "data": {
      "text/html": [
       "<div>\n",
       "<table border=\"1\" class=\"dataframe\">\n",
       "  <thead>\n",
       "    <tr style=\"text-align: right;\">\n",
       "      <th></th>\n",
       "      <th></th>\n",
       "      <th>Survived</th>\n",
       "    </tr>\n",
       "    <tr>\n",
       "      <th>Sex</th>\n",
       "      <th>Survived</th>\n",
       "      <th></th>\n",
       "    </tr>\n",
       "  </thead>\n",
       "  <tbody>\n",
       "    <tr>\n",
       "      <th rowspan=\"2\" valign=\"top\">female</th>\n",
       "      <th>0</th>\n",
       "      <td>81</td>\n",
       "    </tr>\n",
       "    <tr>\n",
       "      <th>1</th>\n",
       "      <td>233</td>\n",
       "    </tr>\n",
       "    <tr>\n",
       "      <th rowspan=\"2\" valign=\"top\">male</th>\n",
       "      <th>0</th>\n",
       "      <td>468</td>\n",
       "    </tr>\n",
       "    <tr>\n",
       "      <th>1</th>\n",
       "      <td>109</td>\n",
       "    </tr>\n",
       "  </tbody>\n",
       "</table>\n",
       "</div>"
      ],
      "text/plain": [
       "                 Survived\n",
       "Sex    Survived          \n",
       "female 0               81\n",
       "       1              233\n",
       "male   0              468\n",
       "       1              109"
      ]
     },
     "execution_count": 81,
     "metadata": {},
     "output_type": "execute_result"
    },
    {
     "data": {
      "image/png": "iVBORw0KGgoAAAANSUhEUgAAAYMAAAEaCAYAAADzDTuZAAAABHNCSVQICAgIfAhkiAAAAAlwSFlz\nAAALEgAACxIB0t1+/AAAGpdJREFUeJzt3Xl4VOWhx/FvFgKEBggYpLgWi2+5FpDijijFtSiiteUq\ntqKo5aJWat23ohZFUVSQRUGsWKtSUasiSFu0SLWutaWAvpWqiK16A5clGkkEcv+YAUEhRMzkJJnv\n53l4mDlzZvJjmOSX9yzvyamqqkKSlN1ykw4gSUqeZSBJsgwkSZaBJAnLQJIE5CcdYHuUlpZ5CFQt\nKi4uZMWK8qRjSF/gZ7N2lZQU5WztMUcGIj8/L+kI0hb52aw7loEkyTKQJFkGkiQsA0kSloEkCctA\nkoRlIEnCMpAkYRlIkmig01HUpr/+9RUuu+wC7r13Gjvu2B6AiRNvZ7fddqdv33619nUqKtZw8803\nsGxZKWvWrKFt27ZcdNHltGrVertf8/LLL+L662/a7ucfd9xRPP747O1+vhquwTc8nXSEGnlidP+k\nI2QNRwZAkyYFXH/9tWTyqm9PPvkEbdq05dZbxzNx4hS6dt2bX/3qrq/0ml+lCCRpU1k/MgDo0WMf\n1q+v4pFHfsuJJ/73xuUPPHAfc+b8nry8PLp1687ZZ5/HlCl38v77/2HFihV8+OH7/PSnP2f//Q/k\ntddeZdKkCeTl5dGhw05cfPEV5Od/9va2adOGGTN+R5cu3eje/TuceOJ/byyfTX9DHz78Mvr3P5EP\nPnifJ598nPXr1zNw4I+ZN28ul18+HIDBg09h9OjbGTToZO69dxrnnHMm9933EDk5Odxyy4306LEf\nO++8C7fddhNVVVW0atWKyy4bTvPmzRk16jrefvstdtppZyorK+vwXZZUnzkySLvwwkuZNu1+3ntv\nKQDl5R/z9NN/4I477uaOO+7mvfeW8txz84DUSGL06LEMG3YB06bdT1VVFTfeeB3XX38T48ZNoqSk\nHTNnPrHZ6/fufRiDBp3Bk08+xg9/2J9hw4ayZMk71WYqKipi4sQpHHRQLxYsmM8nn3zC668vpEOH\nnSgubgNA69at2WOPTvz9769RWVnJX//6Kj179uLGG0fw859fwrhxkzjwwJ785jdTefbZZ6isrGTS\npHsYMuRcKirW1P4bKalBcmSQ1qpVa8477wKuu244Xbp0o7Kykr326rLxt/tu3fbm7bf/BcCeewYA\n2rVrT2VlBStXrmD58mVcddWlAFRUVLDvvvtv9voLFsynR4/9OPTQPqxbt47Zs2dy3XVXc/fd9222\n3qZbqnbddTcA8vLy6N37MObOfZoFC/5Bv34nbPacfv2OZ9asGSxfvpyDDz6E/Px8lix5m9GjbwBg\n3bq17LzzrjRv3pzOnfcCoH379rRrt2NtvHWSGgFHBps4+OBD2GWX3Zg5cwYFBQUsWrSAtWvXUlVV\nxd/+9hq77JL64ZzzuRnBW7VqTbt27bjhhlsYN24SgwYNpkePfTdb549/nM1DDz0ApH6477FHJwoK\nCgBYu3Yt5eXlfPrppxsLJ/V1PvvvOfbY/syePZNFixZ8oWj22Wc/3nwz8uSTj9Ov3/FAqkiuvPJa\nxo2bxNCh53HQQQez++4dWbhwPgDLlpVSWlpaC++apMbAkcHnDBt2Aa+++jKFhS3o0+dwhg49g6qq\nKrp27cYhh/Rm8eJ/fuE5ubm5DBt2IRddNIyqqioKC1tw1VXXsHz5MsaOHc0114zkJz85m1tuGcVp\npw2kefNmNGvWnEsvvQqAAQNOZsiQ0+jQYSfat//6FnN16LATAL16HUpu7uYdnpOTQ+/eh/HKKy+x\n0047A3DBBZcxYsQvWLduHTk5OVx66VXsssuuvPzyi5x11iDat/86rVtv/5FMkhqXnEweQZMpDeVK\nZ2vXrmXixNv56U/PTzpKtUpKiigtLUs6hupQQzq01M9m7fFKZwkaOPDHSUeQpG2yDDIoPz+ftm13\nSDqGJG2TZSBJsgwkSY34aKLa3kF296V9avX1JKk+cWRQi1atWsmoUdcBsGjRAs4//xyGDTubs84a\nxAMP3LeNZ1fvhRee57HHHvlKz7/uuqu3+nhFxRquuOIizj77TC688DxWrFgBwJQpd/L2229t99eV\n1DBYBrVo8uSJfP/7AwC49dZR/OxnFzFmzAQmTpzCnDm/55//fGO7X/uAAw6if//v11bUL3j00el0\n7PhNJky4i6OPPoapU6cAMGDAQMaPvy1jX1dS/dBoNxPVtY8//ojXX1/EhRd2AqC4uC0PPzyNvn2P\no1OnPZk4cQpNmjRh5swnWLLkHYYO/SkVFRWccsoPmD79Cc499ycUF7dh9erVFBYWMmDAyXTv3oM3\n3ljEPffcxSGHfJclS95hhx1KKCtbzeDBP6GyspLTTjuZqVMf5LHHHuYPf5hNTk4Ohx12JD/84Um8\n887bjBx5Lc2aNad582YUFbXcav758//OwIGnAnDAAT25555UGRQVFdG0aVMWL36Tb36zU+bfSEmJ\ncGRQSxYuXLBxLiGA4cN/SZs2bRk9eiT9+h3JuHG3bnOW0MMPP4oxYyZw3HEnMGvWDCA19fWmcxEd\ndVRfnn76j1RVVfHnPz/LQQf14r33ljJnzh+YMOEuxo+fzLx5f+Ldd99hwoQxnHnmEMaMmcC3v921\n2q/98ccf87WvfQ2AwsJCPv74o42P7bFHJ1577dUv/Z5Iajgsg1qycuVK2rRJzSRaUVFBjG9w2mln\nMnnyvTz44CN8+OEHPP7457f5b34i9YYy2X//A3n99YWsXr2K+fNf44ADDtq4TsuWLdlzz8D8+X9j\n1qwn6NfveN566198+OEHDBs2lGHDhrJq1SqWLl3Ku+++S+fO3wagS5e9q83fokULyss/BqC8vHxj\nMQC0bbsDq1ev2q73RVLDYBnUkuLiYsrKUqfN5+bm8stf/oJ3310CQMuWrWjf/us0aVJAQUEBy5cv\nAyDGzfchbJhzKDc3l+9+93BuvvkGevXqTV5e3mbr9et3PL/97f1UVFSw2267s+uuu7H77h25/fY7\nGTduEn37Hssee3TiG9/4BgsWpCame+ONhdXm79KlG3/5y3MAvPDCc3Tr1n3jY2Vlq2ndunh73xpJ\nDUCj3WdQ14eC7rVXFyZOvB2AJk2acO21Ixk58lrWrl1LTk4OnTv/F8cccxyffPIJv/vdwwwdegYh\ndKZFixZbfL1jjjmOAQP68+CDj37hse7dezBq1HWceupgADp12pN99tmXs88+g8rKT+nceS9KSko4\n99zzGTFiOA888Gtat25NQUFTAMaMGU3fvsfSqVPY+JonnPADRowYztChZ9CkSROGDx+x8bFFixYy\nZMg5tfZeSap/nKiuFt100/X07/999tzzW0lHqdb06Q9ywAE92XnnXYDqJ6pbvXoVI0ZczahRt9Zd\nQGWcE9VlJyeqqyNnnvk/PPro9KRjbNPBB/feWATbMm3a/Y4KpCzQaDcTJaG4uA2XXHJl0jG2qX37\n9jVe96yzhmYwiaT6wpGBJMkykCRZBpIkGvE+g3OevrhWX298n1G1+nqSVJ9ktAxCCO2AV4EjgLXA\nPaROu10AnBNjXB9COAsYkn58RIxxRiYzZdKqVSu5887xXHzxFSxatIDJkyeyfn0V5eUf06fPEZx8\n8o+2+7VfeOF5Pvzwg+2erO6FF55nzpzfc8UVV1e73ty5z/DMM3/k6qtTs69OmXInffocwTe+0XG7\nvq6khiFjm4lCCE2AO4FP0otuAa6MMfYCcoD+IYT2wHlAT+AoYGQIoWmmMmVaQ561FOC2227mzjvH\nUVW1fuMyZy2VskMmRwY3A3cAl6Xv9wDmpm/PAo4E1gHPxRgrgIoQwmKgK/ByBnNlREOftRSgS5eu\nHHJIbx577OGNy5y1VMoOGSmDEMJpQGmMcXYIYUMZ5MQYN5w5XAa0AloCm86AtmF5tYqLC8nPz9vW\narWqpKSo2sdj/DudOu2xcb3bb7+NqVOnMmbMKJYuXcqxxx7LJZdcQlFRMwoLCygpKaKiooC8vFxK\nSoooKMjnxBOP54gjjmDu3Lk89dRTHHlkbyZMeIof/WggK1asoLCwgFNOGcDAgQO5+OKf89RTT3H4\n4YdRXv5/PPvs0zz00DQATj/9dI4++jDuums8F1xwPj179mTSpEm89dZbW/13lJQUcdJJJ/Liiy/S\ntGmTzdbr2vXbvPnmAg488Du19G5KNbet7z3VjkyNDAYDVSGEw4G9gXuBdps8XgSsBFanb39+ebVW\nrCivvaQ1tK1T4pcseZ8WLVpSWlpGRUUFCxf+gwEDTmXAgFNZvXoV119/DVOmTKWwsAXl5ZXp9daw\nbt16SkvLqKxcS6tW7SgtLeNb39qbkSNv4F//eo8XX3yJIUOGMXv2TMrLK6mszKVjx07MmTOPadMe\n4txzz+eVV+bz3nv/ZuDA1D6JsrIy5s9/g8WL36JDh46UlpbRsWNnFi2KW/x3bDodxcqV5VRUfLrZ\nes2aFfGf//yv0wIoEX7uak91xZqRfQYxxkNijIfGGHsDfwNOBWaFEHqnV/keMA94CegVQmgWQmgF\ndCa1c7nBaeizllbHWUulxq8uDy29AJgcQigAXgemxxjXhRDGkiqGXOCKGOOa2vhidX0oaEOftbQ6\nzloqNX7OWlqLnLVUDYWzlmYnZy2tI85aKqmharRnICfBWUslNVSODCRJloEkyTKQJGEZSJKwDCRJ\nWAaSJCwDSRKWgSQJy0CShGUgScIykCRhGUiSsAwkSVgGkiQsA0kSloEkCctAkoRlIEnCMpAkYRlI\nkrAMJElYBpIkLANJEpaBJAnLQJKEZSBJwjKQJGEZSJKwDCRJWAaSJCwDSRKWgSQJy0CShGUgSQLy\nM/XCIYQ8YDIQgCrgf4A1wD3p+wuAc2KM60MIZwFDgLXAiBjjjEzlkiR9USZHBv0AYow9gSuB64Bb\ngCtjjL2AHKB/CKE9cB7QEzgKGBlCaJrBXJKkz8lYGcQYfwf8JH13N2Al0AOYm142Czgc2A94LsZY\nEWNcBSwGumYqlyTpizK2mQggxrg2hDAVOAH4AXBEjLEq/XAZ0ApoCaza5Gkblm9VcXEh+fl5GUic\nvUpKipKOIG2Rn826kdEyAIgxDgohXAK8CDTf5KEiUqOF1enbn1++VStWlNd2zKxWUlJEaWlZ0jGk\nLfKzWXuqK9aMbSYKIfw4hHBZ+m45sB54JYTQO73se8A84CWgVwihWQihFdCZ1M5lSVIdyeTI4BHg\nVyGEZ4EmwM+A14HJIYSC9O3pMcZ1IYSxpIohF7gixrgmg7kkSZ+TsTKIMX4MDNjCQ4duYd3JpA5D\nlSQlwJPOJEmWgSTJMpAkYRlIkrAMJElYBpIkLANJEjUsgxDCXltYdkDtx5EkJaHak85CCD2BPOCu\nEMIZpKad3vC8O4A9MxtPklQXtnUG8hGkzhj+OnDtJsvXAndmKpQkqW5VWwYxxqshNelcjPHXdZJI\nklTnajo30bMhhJuANny2qYgY4+CMpJIk1amalsFvSc0qOo/U9YslSY1ITcugSYzxwowmkSQlpqbn\nGfw5hNAvfR0CSVIjU9ORwQ+AcwFCCBuWVcUYvRCxJDUCNSqDGGOHTAeRJCWnRmUQQvjFlpbHGK/d\n0nJJUsNS030GOZv8KQCOA3bMVChJUt2q6Waiaza9H0L4JfD7jCSSJNW57Z219GvArrUZRJKUnJru\nM3ibz042ywVaAzdlKpQkqW7V9NDS3pvcrgJWxhhX134cSVISarqZ6F2gLzAaGAucFkLwwjiS1EjU\ndGQwCugE3E3qiKLTgY7AzzKUS5JUh2paBkcC3WOM6wFCCE8C/8hYKtWpAdOGJh2hRsb3GZV0BKnR\nqummnnw2L458YF3tx5EkJaGmI4PfAH8KITyQvn8ycH9mIkmS6to2yyCEUAxMBl4D+qT/3OaVzySp\n8ah2M1EIoTuwCOgRY5wVY7wImA3cEELoWhcBJUmZt619BjcDJ8cYn9qwIMZ4OTAYuCWTwSRJdWdb\nZVAcY/zT5xfGGGcDO2QkkSSpzm2rDJps6eSy9DKveiZJjcS2ymAuMHwLy68EXqn9OJKkJGzraKLL\ngJkhhFOAl0mdffwd4H9JXdNAktQIVFsGMcayEMIhwHeB7sB6YHyMcV5dhJMk1Y1tnmcQY6wCnk7/\nkSQ1QjU9A/lLCSE0ITWp3e5AU2AEqfMV7iE1BfYC4JwY4/oQwlnAEGAtMCLGOCMTmSRJW5epaah/\nBCyPMfYCjgbGkTov4cr0shygfwihPXAe0BM4ChgZQmiaoUySpK3IyMgAeAiYnr6dQ+q3/h6kjk4C\nmEVqJtR1wHMxxgqgIoSwGOhKamf1VhUXF5Kfn5eJ3KrHSkqKko6gBPj/XjcyUgYxxo8AQghFpErh\nSuDm9P4HgDKgFdASWLXJUzcsr9aKFeW1mlcNQ2lpWdIRlAD/32tPdcWasauVhRB2AZ4Bfh1jvJ/U\nkUgbFAErgdXp259fLkmqQxkpgxDCjsDvgUtijHenF78WQuidvv09YB7wEtArhNAshNAK6Exq57Ik\nqQ5lap/B5UAxcFUI4ar0smHA2BBCAfA6MD3GuC6EMJZUMeQCV8QY12QokyRpKzK1z2AYqR/+n3fo\nFtadTOp6CZKkhGRsn4EkqeGwDCRJloEkyTKQJGEZSJKwDCRJWAaSJCwDSRKWgSQJy0CShGUgScIy\nkCRhGUiSsAwkSVgGkiQsA0kSloEkCctAkoRlIEnCMpAkYRlIkrAMJElYBpIkLANJEpaBJAnLQJKE\nZSBJwjKQJGEZSJKwDCRJWAaSJCwDSRKWgSQJy0CSBOQnHUCStmbAtKFJR6iR8X1GJR3hK3NkIEnK\n7MgghLA/cGOMsXcI4ZvAPUAVsAA4J8a4PoRwFjAEWAuMiDHOyGQmSdIXZWxkEEK4GLgLaJZedAtw\nZYyxF5AD9A8htAfOA3oCRwEjQwhNM5VJkrRlmRwZ/Av4PvDr9P0ewNz07VnAkcA64LkYYwVQEUJY\nDHQFXq7uhYuLC8nPz8tIaNVfJSVFSUeQtqgxfDYzVgYxxodDCLtvsignxliVvl0GtAJaAqs2WWfD\n8mqtWFFeWzHVgJSWliUdQdqihvLZrK606nIH8vpNbhcBK4HV6dufXy5JqkN1WQavhRB6p29/D5gH\nvAT0CiE0CyG0AjqT2rksSapDdXmewQXA5BBCAfA6MD3GuC6EMJZUMeQCV8QY19RhJkkSGS6DGOM7\nwAHp2/8EDt3COpOByZnMIUmqniedSZIsA0mSZSBJwonqMmrwDU8nHaFGmu+XdAJJSXNkIEmyDCRJ\nloEkCctAkoRlIEnCMpAkYRlIkrAMJElYBpIkLANJEpaBJAnLQJKEZSBJwjKQJGEZSJKwDCRJWAaS\nJCwDSRKWgSQJy0CShGUgScIykCRhGUiSsAwkSVgGkiQsA0kSloEkCctAkoRlIEnCMpAkYRlIkrAM\nJElAftIBAEIIucAEoBtQAZwZY1ycbCpJyh71ZWRwPNAsxnggcCkwOuE8kpRV6ksZHAw8BRBjfAHY\nJ9k4kpRdcqqqqpLOQAjhLuDhGOOs9P13gY4xxrXJJpOk7FBfRgargaJN7udaBJJUd+pLGTwH9AUI\nIRwA/CPZOJKUXerF0UTAo8ARIYTngRzg9ITzSFJWqRf7DCRJyaovm4kkSQmyDCRJloEkyTKQJFF/\njiaSpI1CCJ2ATsB84N8xRo90yTDLIAuFEIqAS4AOwAxgvhMDqr4IIZwLnAC0AaYC3wTOTTRUFnAz\nUXa6G3iL1G9eHwBTko0jbeYk4AhgZYzxNmD/hPNkBcsgO7WNMd4NfBpjfB4/B6pfcoGq9B9ITWuv\nDHMzUZYKIXwr/ffOgPNAqT65H3gW2C2EMBP4XcJ5soJnIGehEEIXYBLQGXgDODvG+NdkU0mfCSF0\nBr4NxBjj/KTzZAPLQFK9EEIYyWebhjYTY7y8juNkHTcTZZEQwvt88ZstB6iKMXZIIJK0qTeSDpDN\nHBlIqldCCPnAvkATUr+sdIgxPpBsqsbPkUEWSl8z4nQ2/2Y7KtlU0kaPkvps7gTkAf8BLIMM85DC\n7DQR+BPQClgCLEs0jbS5HWKMRwMvAj2AZgnnyQqWQXZalh52r44xXg3snHAeaVPl6b9bxBg/STRJ\nFrEMstP6EMJeQGEIIZA67V+qLx4JIVwF/D2E8BdgTdKBsoH7DLLTz4G9gLGkTvBxOgrVJ0uBI4EC\nUqMET4qsA5ZBFooxLgwhLCW1LbYvWzm2W0rITcAQYEXSQbKJZZCFQgj3AgcDK0mfZwB8J9FQ0mcW\nxhj/lHSIbGMZZKcQY+yYdAhpKx5L7yt4fcOCGOPgBPNkBcsgO70UQggxxph0EGkLzgNGkRq5qo5Y\nBtlpFfByCOEjnI5C9c8HMcZpSYfINpZBduoDtIkxepSG6qNPQghPAa+RPrjBieoyzzLITv8EdgT+\nnXQQaQueSDpANnKiuiwUQngT2B1YTvqKUm4mkrKbZSBJcjNRNkpPRXEHUAzcByyIMc5INpWkJDk3\nUXYaS2oK61JSU1FcnWgaSYmzDLJUjHExqX0FpUBZ0nkkJcsyyCIhhFbpm/8XQhgCtAghnIQn90hZ\nzzLILk+m/y4jdTTRMmAfwFP9pSznDuTs8mkI4WWgE5/N+9KTVEkclFgqSYmzDLLL4aSuKzsRODvh\nLJLqEc8zkCS5z0CSZBlIknCfgfSlhBB+AFxG6nsnF7g3xnhTsqmkr86RgVRDIYSdgNHAkTHGbsCB\nwEkhhOOSTSZ9dY4MpJrbAWgCFALLY4wfhRAGAWtCCPsCt6YfW0bqgu7LgH8AZ8QY54QQZgOPxRgn\nJBNf2jqPJpK+hBDCROBMUhdeeQa4n9Q5Gy8D/WKM74YQjgIuijEeHkLoQ+pQ3rHAsTHG7yUUXaqW\nZSB9SenNRUcCRwH9gZHAxcDiTVZrGWPsmF5/IjAQ+FaM8f06jivViJuJpBoKIRwDfC19fd5fAb8K\nIZxF6gf9WzHGvdPr5ZG6khwhhBwgAOXAnoBloHrJHchSzZUDI0MIu8PGH/T/BbwAtAkh9EqvN5jU\n5iNInen9EakRxF0hhBZ1mliqITcTSV9CeofxRaR2JAPMBi4EegBjgGbAamAQsB54Htgvxrg0hDAO\nyI0xOhWI6h3LQJLkZiJJkmUgScIykCRhGUiSsAwkSVgGkiQsA0kS8P/FUSet/TrcEAAAAABJRU5E\nrkJggg==\n",
      "text/plain": [
       "<matplotlib.figure.Figure at 0x111d63550>"
      ]
     },
     "metadata": {},
     "output_type": "display_data"
    }
   ],
   "source": [
    "grouped_sex_cleaned_df = sex_cleaned_df.copy()\n",
    "grouped_sex_cleaned_df = grouped_sex_cleaned_df.groupby(['Sex','Survived'], as_index=True)\n",
    "\n",
    "grouped_sex_cleaned_df[['Survived']].count().unstack().plot(kind='bar').set_ylabel('Count')\n",
    "grouped_sex_cleaned_df[['Survived']].count()"
   ]
  },
  {
   "cell_type": "markdown",
   "metadata": {},
   "source": [
    "#### Statistical Significance Test for Sex: Mann-Whitney U Test\n",
    "\n",
    "The significance will be tested at alpha = 0.05 in a one-tailed test.\n",
    "\n",
    "##### HYPOTHESES:\n",
    "\n",
    "Null Hypothesis: Female Survived Values = Male Survived Values\n",
    "\n",
    "Alternative Hypothesis: Female Survived Values > Male Survived Values\n",
    "\n",
    "##### RESULTS:\n",
    "\n",
    "According to the results of the test, the surviving female values are *significantly* greater than the surviving male values with a P-value of 2.158e-22 at alpha = 0.05. **The null hypothesis is rejected.**"
   ]
  },
  {
   "cell_type": "code",
   "execution_count": 85,
   "metadata": {
    "collapsed": false
   },
   "outputs": [],
   "source": [
    "male_survived_values = grouped_by_sex_df['Survived'].get_group('male').values\n",
    "female_survived_values = grouped_by_sex_df['Survived'].get_group('female').values"
   ]
  },
  {
   "cell_type": "code",
   "execution_count": 88,
   "metadata": {
    "collapsed": false
   },
   "outputs": [
    {
     "name": "stdout",
     "output_type": "stream",
     "text": [
      "Mann-Whitney U Test Results for Survival Data of Both Sexes:\n",
      "\n",
      "MannwhitneyuResult(statistic=140696.5, pvalue=2.1579531159405078e-59)\n"
     ]
    }
   ],
   "source": [
    "mann_whitney_u_sex_results = stats.mannwhitneyu\\\n",
    "    (female_survived_values, male_survived_values, alternative='greater')\n",
    "\n",
    "print \"Mann-Whitney U Test Results for Survival Data of Both Sexes:\"\n",
    "print ''\n",
    "print mann_whitney_u_sex_results"
   ]
  },
  {
   "cell_type": "code",
   "execution_count": 90,
   "metadata": {
    "collapsed": false
   },
   "outputs": [
    {
     "name": "stdout",
     "output_type": "stream",
     "text": [
      "Mann-Whitney U Test P-Value for Survival Data of Both Sexes:\n",
      "\n",
      "p-value = 2.15795311594e-59\n"
     ]
    }
   ],
   "source": [
    "print \"Mann-Whitney U Test P-Value for Survival Data of Both Sexes:\"\n",
    "print ''\n",
    "print 'p-value =', mann_whitney_u_sex_results[1]"
   ]
  },
  {
   "cell_type": "markdown",
   "metadata": {},
   "source": [
    "### Part 4: Port of Embarkation"
   ]
  },
  {
   "cell_type": "markdown",
   "metadata": {},
   "source": [
    "#### Total Passengers from each Port of Embarkment"
   ]
  },
  {
   "cell_type": "code",
   "execution_count": 92,
   "metadata": {
    "collapsed": false
   },
   "outputs": [
    {
     "data": {
      "text/html": [
       "<div>\n",
       "<table border=\"1\" class=\"dataframe\">\n",
       "  <thead>\n",
       "    <tr style=\"text-align: right;\">\n",
       "      <th></th>\n",
       "      <th>Survived</th>\n",
       "    </tr>\n",
       "    <tr>\n",
       "      <th>Embarked</th>\n",
       "      <th></th>\n",
       "    </tr>\n",
       "  </thead>\n",
       "  <tbody>\n",
       "    <tr>\n",
       "      <th>C</th>\n",
       "      <td>168</td>\n",
       "    </tr>\n",
       "    <tr>\n",
       "      <th>Q</th>\n",
       "      <td>77</td>\n",
       "    </tr>\n",
       "    <tr>\n",
       "      <th>S</th>\n",
       "      <td>644</td>\n",
       "    </tr>\n",
       "  </tbody>\n",
       "</table>\n",
       "</div>"
      ],
      "text/plain": [
       "          Survived\n",
       "Embarked          \n",
       "C              168\n",
       "Q               77\n",
       "S              644"
      ]
     },
     "execution_count": 92,
     "metadata": {},
     "output_type": "execute_result"
    },
    {
     "data": {
      "image/png": "iVBORw0KGgoAAAANSUhEUgAAAYMAAAE+CAYAAABvMHy5AAAABHNCSVQICAgIfAhkiAAAAAlwSFlz\nAAALEgAACxIB0t1+/AAAGhpJREFUeJzt3XuUXWWZ5/FvJUUIaIFRCmkExVs/jdwbROUiGRYQUFt6\npp0eoaUVFAJigy5mEAG7HTo0oMgMtOAlEmOvHnQUGtG4IiA3uQk6YksAH4hg0yhCoQmkjQST1Pyx\nd8lJqKqcKjjnPTv1/azFyj7vPpen6n05v3r3tW94eBhJ0tQ2rXQBkqTyDANJkmEgSTIMJEkYBpIk\nDANJEtBfuoDJGBpasVEfDztr1uYsW7aydBmaBPuu2Tb2/hscHOgba50zgx7U3z+9dAmaJPuu2aZy\n/xkGkiTDQJJkGEiSMAwkSRgGkiQMA0kShoEkCcNAkkRDz0CWNDUcc+71pUvoqAWnHVi6hD9wZiBJ\nMgwkSYaBJAnDQJKEYSBJwjCQJGEYSJIwDCRJGAaSJAwDSRIdvhxFRHwMeCcwA7gEuAlYCAwDS4AT\nM3NtRBwLzAVWA/Myc1En65IkratjM4OImA3sA+wLHABsD1wAnJmZ+wN9wOERsQ1wUv28OcA5EbFp\np+qSJD1XJzcTzQHuBq4EvgUsAvakmh0ALAYOAvYGbs3MVZn5JLAU2LWDdUmS1tPJzURbAa8C3gG8\nGvgmMC0zh+v1K4AtgS2AJ1teN9I+plmzNqe/f/oLXnAvGRwcKF2CJsm+U7t6aax0Mgx+Dfw0M58B\nMiKeptpUNGIAWA48VS+v3z6mZctWvsCl9pbBwQGGhlaULkOTYN9pIro9VsYLn05uJroFODQi+iJi\nW+BFwHX1vgSAw4CbgTuB/SNiZkRsCexItXNZktQlHZsZZOaiiHgr1Zf9NOBE4CFgfkTMAO4DLs/M\nNRFxEVUwTAPOyMynO1WXJOm5OnpoaWaeOkrzAaM8bz4wv5O1SJLG5klnkiTDQJJkGEiSMAwkSRgG\nkiQMA0kShoEkCcNAkoRhIEnCMJAkYRhIkjAMJEkYBpIkDANJEoaBJAnDQJKEYSBJwjCQJGEYSJIw\nDCRJGAaSJAwDSRKGgSQJw0CSBPR38s0j4kfAU/XDh4CzgYXAMLAEODEz10bEscBcYDUwLzMXdbIu\nSdK6OhYGETET6MvM2S1t3wTOzMwbI+JzwOERcTtwErAXMBO4JSKuzcxVnapNkrSuTs4MdgM2j4hr\n6s85HdgTuKlevxg4BFgD3Fp/+a+KiKXArsAPOlibJKlFJ8NgJXA+8EXg9VRf/n2ZOVyvXwFsCWwB\nPNnyupF2SVKXdDIM7geW1l/+90fEr6lmBiMGgOVU+xQGRmkf06xZm9PfP/0FLre3DA4ObPhJ6kn2\nndrVS2Olk2FwDLAL8MGI2JZqBnBNRMzOzBuBw4AbgDuBs+t9DJsCO1LtXB7TsmUrO1h2eYODAwwN\nrShdhibBvtNEdHusjBc+nQyDS4GFEXEL1dFDxwBPAPMjYgZwH3B5Zq6JiIuAm6kOdT0jM5/uYF2S\npPV0LAwy8xngyFFWHTDKc+cD8ztViyRpfJ50JkkyDCRJhoEkCcNAkoRhIEnCMJAkYRhIkjAMJEkY\nBpIkDANJEoaBJAnDQJKEYSBJwjCQJGEYSJIwDCRJGAaSJAwDSRKGgSQJw0CSRBthEBFfG6Xtms6U\nI0kqoX+sFRFxObArsH1E3L/eax7vdGGSpO4ZMwyADwBbARcCJ7W0rwZ+2cmiJEndNWYYZOZyYDnw\n9ogI4KVAX736FcBtnS9PktQN480MAIiIC4F3AQ8Bw3XzMPDWDtYlSeqiDYYB8Hbg9Zm5cqJvHhFb\nA/8POJhq89JCqiBZApyYmWsj4lhgbr1+XmYumujnSJKen3YOLX2QZ2cEbYuITYDPA7+rmy4AzszM\n/ak2Nx0eEdtQ7Y/YF5gDnBMRm070syRJz087M4MngCURcSvw9EhjZh63gdedD3wO+Fj9eE/gpnp5\nMXAIsAa4NTNXAasiYinVEUw/aPsnkCQ9b+2EwXX1f22LiPcBQ5l5dUSMhEFfZo7MMFYAWwJbAE+2\nvHSkfVyzZm1Of//0iZTUOIODA6VL0CTZd2pXL42VdsJg8STe9xhgOCIOAnYH/gnYumX9ANWRSk/V\ny+u3j2vZsgnvvmiUwcEBhoZWlC5Dk2DfaSK6PVbGC592wuAOnt1nMAMYBP4V+NOxXpCZfzjSKCJu\nBI4HPhURszPzRuAw4AbgTuDsiJgJbArsSLVzWZLURRsMg8zcvvVxRLwF2ND+gtGcAsyPiBnAfcDl\nmbkmIi4CbqbamX1GZj493ptIkl547cwM1pGZt0fE/Ak8f3bLwwNGWT8faPv9JEkvvHZOOju95WEf\nsBMw1LGKJEld187MYLOW5WHg+8BlnSlHklRCO/sMPh4RLwX2rp///cx8ouOVSZK6pp37GRwM3A2c\nQHXZiHsj4rBOFyZJ6p52NhP9A3BAZi4FiIjXA19ncucfSJJ6UDvXJpoxEgQAmfkAz17KWpK0EWhn\nZvBIRJwIfIlqB/IHgH/vaFWSpK5qZ2bwfuBA4BGqO5z9JyZ30pkkqUe1czTRr4C/AIiI/sxc3fGq\nJEldNWYY1PcVuAT4ZmZeVTdfERFPACdk5jPdKFCS1HnjbSb6JNX9Bm5oaXtv/e95HatIktR144XB\ngcDxmfnUSENmLqc63+DgThcmSeqe8cJgdWauXb+x3jz0+86VJEnqtvHC4DcR8Zx7FtRtXmZakjYi\n4x1N9HHgWxFxMdUNbvqANwIfAt7X+dIkSd0y5swgM28D3gHsDHwGuBAI4G2ZeW13ypMkdcO45xlk\n5l3AkV2qRZJUSDtnIEuSNnKGgSTJMJAkjX85igeorlK6vj5gODP/uGNVSZK6arwdyId2rQpJUlFj\nhkFm/gwgImYAc4AXU80KpgOvBs7qRoGSpM5r5+Y2VwAvoQqA24D96n8lSRuJdsLgDcDrqE46WwA8\nAXxtQy+KiOnAfKoT1YaB46kuY7GwfrwEODEz10bEscBcYDUwLzMXTfgnkSRNWjtHEz2WmcPAT4Fd\nMvMRYNM2XvdnAJm5L3AmcDZwAXBmZu5Ptcnp8IjYBjgJ2Jdqc9Q59b0UJEld0k4Y3BsR/xu4CfhI\nRPx3YMaGXpSZ3+DZ22O+ClgO7Fm/D8Bi4CBgb+DWzFyVmU8CS4FdJ/RTSJKel3Y2Ex0P7JeZ90TE\n31N9gf9VO2+emasj4svAfwbeBRxczzIAVgBbAlsAT7a8bKR9TLNmbU5///R2SmiswcGB0iVokuw7\ntauXxko7YXB+Zn4YIDOvBK6MiAXAMe18QGa+NyI+SnXl081aVg1QzRaeqpfXbx/TsmUr2/noxhoc\nHGBoaEXpMjQJ9p0mottjZbzwGe+ksy8AOwBviog3rPeawQ19aEQcBWyXmecAK4G1wA8jYnZm3ggc\nRnVLzTuBsyNiJtW+iB2pdi5LkrpkvJnBeVSHk17Iuvc8Xg3c08Z7/wvwpYj4HrAJ8GHgPmB+fe7C\nfcDlmbkmIi4Cbqbah3FGZnrzHEnqog2ddPYzYKeI+BNgdv38mzLziQ29cWb+FvjLUVYdMMpz51Md\nhipJKmCDRxNFxBFUR/7sSHXOwLci4n0drkuS1EXt7ED+KPDGkdlARJxFta1/YQfrkiR1UTvnGUxv\n3SyUmUNUO4MlSRuJdmYGd0fE+cCl9eP3A3d3riRJUre1MzM4lurSEZcBX61fc0Ini5Ikddd45xm8\nNzO/XB8VdEoXa5Ikddl4M4OTu1aFJKko74EsSRp3B/JOEfHgKO0j90B+TYdqkiR12XhhsBR4W7cK\nkSSVM14YPJOZ/9a1SiRJxYy3z+DWrlUhSSpqzDDIzA91sxBJUjkeTSRJMgwkSYaBJAnDQJKEYSBJ\nwjCQJGEYSJIwDCRJGAaSJAwDSRKGgSSJ8a9aOmkRsQmwANgB2BSYB9wLLASGgSXAiZm5NiKOBeYC\nq4F5mbmoEzVJksbWqZnBe4BfZ+b+wKHAZ4ALgDPrtj7g8IjYBjgJ2BeYA5wTEZt2qCZJ0hg6MjMA\nvg5cXi/3Uf3VvydwU922GDgEWAPcmpmrgFURsRTYFfhBh+qSJI2iI2GQmf8BEBEDVKFwJnB+Zg7X\nT1kBbAlsATzZ8tKR9nHNmrU5/f3TX9Cae83g4EDpEjRJ9p3a1UtjpVMzAyJie+BK4JLMvCwiPtmy\negBYDjxVL6/fPq5ly1a+kKX2nMHBAYaGVpQuQ5Ng32kiuj1WxgufjuwziIiXA9cAH83MBXXzXREx\nu14+DLgZuBPYPyJmRsSWwI5UO5clSV3UqZnB6cAs4OMR8fG67WTgooiYAdwHXJ6ZayLiIqpgmAac\nkZlPd6gmSdIYOrXP4GSqL//1HTDKc+cD8ztRhySpPZ50JkkyDCRJhoEkCcNAkoRhIEmigyedbUyO\nOff60iV01ILTDixdgqTCnBlIkgwDSZJhIEnCMJAkYRhIkjAMJEkYBpIkDANJEoaBJAnDQJKEYSBJ\nwjCQJGEYSJIwDCRJGAaSJAwDSRKGgSQJw0CSRIdvexkRbwLOy8zZEfE6YCEwDCwBTszMtRFxLDAX\nWA3My8xFnaxJkvRcHZsZRMSpwBeBmXXTBcCZmbk/0AccHhHbACcB+wJzgHMiYtNO1SRJGl0nNxP9\nDPgvLY/3BG6qlxcDBwF7A7dm5qrMfBJYCuzawZokSaPo2GaizLwiInZoaerLzOF6eQWwJbAF8GTL\nc0baxzVr1ub0909/oUqd8gYHB0qXsFHx96l29dJY6eg+g/WsbVkeAJYDT9XL67ePa9mylS9sZVPc\n0NCK0iVsNAYHB/x9qm3dHivjhU83jya6KyJm18uHATcDdwL7R8TMiNgS2JFq57IkqYu6OTM4BZgf\nETOA+4DLM3NNRFxEFQzTgDMy8+ku1iRJosNhkJk/B95cL98PHDDKc+YD8ztZhyRpfJ50JkkyDCRJ\nhoEkie7uQJaKOObc60uX0DELTjuwdAnaSDgzkCQZBpIkw0CShGEgScIwkCRhGEiSMAwkSRgGkiQM\nA0kShoEkCcNAkoRhIEnCMJAkYRhIkjAMJEkYBpIkDANJEoaBJAnDQJKEYSBJAvpLFwAQEdOAS4Dd\ngFXABzJzadmqJGnq6JWZwZ8DMzPzLcBpwKcL1yNJU0qvhMF+wHcAMvP7wF5ly5GkqaVveHi4dA1E\nxBeBKzJzcf34YeA1mbm6bGWSNDX0yszgKWCg5fE0g0CSuqdXwuBW4G0AEfFm4O6y5UjS1NITRxMB\nVwIHR8RtQB9wdOF6JGlK6Yl9BpKksnplM5EkqSDDQJJkGEiSemcHstRoETEAvBQYysyVpevRxNh/\n7kAuLiL6gLcDs4GXAY8D1wHXZqad0+Mi4q+BD/Js370EWAZckpmXlaxNG2b/PcswKCgiDgTOAH5E\ndW7Fo8As4E3A7sA5mfndchVqPBGxkOocma9n5vKW9i2BI4F9MvOoQuVpA+y/dRkGBUXEXOCLmblm\nlHXTgeMy87Pdr0ztiIiZmfn0ZNerLPtvXYZBYRExfSQMIuLFwNNeiqM5IuJVwPuAHYBfAF8CdgIe\nzswfl6tM7YiIwzPzqno2cCbVJfTPyczfFi6t6zyaqKCI2BnIiJhVNx1UP35DwbLUpojYG1hEtXnv\nq8BjwGLgI8C9BUtTGyLiXOCv61n4PwIvBn4NTMnZuEcTlXUh8O7MXAaQmd+IiMeBi6iCQb3t74G3\nZ+bD9eOrI+J1wB6Z+UzButSet2bmPhHRT3UQx/aZuTIibildWAnODMqalpk/bG3IzNuAGYXq0cRs\n0hIEIx6kur6Wet9T9b97A0taDimdkv//GQZlTR+jfZOuVqHJetEobRdh/zXF6og4BPgQcAVARLwV\nWD7uqzZShkFZiyPi/HrnFRHx4og4H7i+cF1qz3ci4tz6Ht4j9/L+B+DqsmWpTScD7weGgM9GxByq\nfQd/U7SqQjyaqKD6hLNTgeOAzahOdvkycH5mri1Zmzas3tZ8LvCXVDseXwZ8DTjV/lPTGAbS81SH\nwlbAEx4WrKYyDCRJ7jOQJHmegSStIyK+AjwCfCozHy9dT7cYBj1oqg7GjYX913gfBp5gip0vYhj0\npik5GDci9l8D1OcUjCozH+tmLb3AMCjIwdhs9l/jnVD/+1qqs45/AOwB/AfV/UWmFMOgLAdjs9l/\nDZaZRwBExLeBwzNzdX3Rum+XrawMjyYqKDOPqAfkELBXZh5LdWObKXMN9Saz/zYaf9Sy3A9sXaqQ\nkpwZ9AYHY7PZf812KXBPRCyhuhfFeYXrKcIw6A0Oxmaz/xosMy+OiK9Tbe57IDOfKF1TCZ6B3CMi\nYmum+GBsMvuvuSJiJ+BzVPcf/2eqy1kvKltV97nPoAfUg/EKYD7wgYh4R+GSNAH2X+NdBBxNte/n\nUuATRaspxDDoDQ7GZrP/Gi4zlwLDmTkErChdTwmGQY9wMDab/ddov4mIucCLIuLdeHMbFeRgbDb7\nr9neD7ya6qzxvYBjypZThmHQGxyMzWb/NdsrM/O0zHw71c2m5pYuqAQPLe0Nr8zM0+APt048leoO\nWmoG+6/ZLo2II4C1wD8B9xSupwjDoDc4GJvN/mu2I4GvUN169iOZeV3heoowDHqDg7HZ7L8Giojj\nWh7eChwGvDYiXpuZXyhUVjGGQUEOxmaz/xpv5DIiw8CTwFdZ99IiU4phUJaDsdnsvwbLzP8JEBGX\nZeaRpespzctR9AAHY7PZf80WEZcDZwH3U+33ITOfKVpUAc4MesOMiNiVKT4YG8z+a7YArmp5PAy8\nplAtxRgGvcHB2Gz2X4Nl5i6la+gFbiaSNKVFxDuBE4FNqO5b/bLM3LVsVd3nzKAHOBibzf5rvHlU\nZx0fD9wAHFy2nDK8HEVvmEd1pct/B74M3F20Gk2U/ddsj2bm7QCZuRB4RdlyyjAMeoODsdnsv2Zb\nFRFvBTaJiDnAVqULKsEw6A0Oxmaz/5rtBKpN5vOA4+p/pxzDoDc4GJvN/muwzPwFsDnVGeRfyMyv\nFi6pCI8m6hH1rRKD6v6rV5euRxNj/zVXRFwMvAy4HdgPeCgzTy1bVfcZBj3Awdhs9l+zRcQtmblf\ny+PbMnOfkjWV4KGlvWG3lsF4YUTcVrQaTZT912wPR8R2mflIRLyc6qiwKcd9Br3h4YjYDmAqD8YG\ns/8aKCIejYhfAocCD0REAg8Cby5bWRluJiooIh6lunTBTKpr4T8MbAc8kZmvKlmbNsz+08bEMJA0\npUXEnwFHU4U6AJn5tnIVleE+gx7gYGw2+6/xzqe6HMWy0oWUZBj0Bgdjs9l/zXZPZt5YuojSDIPe\n4GBsNvuv2a6KiNuB+0YaMvOYgvUUYRj0Bgdjs9l/zXYS8ElgeelCSjIMeoODsdnsv2b7VWb+39JF\nlGYY9AYHY7PZf832u4j4DnAX1aHCZObpZUvqPsOgNzgYm83+a7ZvlS6gFxgGvcHB2Gz2XwNFxB6Z\neVdmfnm99sNL1VSSYVCQg7HZ7L/G+zRwIEBEXJuZI7e7PBm4qlhVhXhtorI+PbIQEde2tJ9coBZN\nnP3XbH0ty/1jtE8ZhkFZDsZms/+abbiN5SnDzURlORibzf5rtmkRsQnVH8XrLJctqwzDoCwHY7PZ\nf822A5D1cl+93McUDXPDoKwdcDA22Q7Yf42VmTuUrqGXeAlrSVNSRHwW+Exm3jPKut2BEzJzbvcr\nK8OZQUEOxmaz/xrvDGBeROxFNat7DHgJsDtwJ3Bmwdq6zplBQRHxUmAeMNZg/LvMHCpXocZj/20c\nImKA6laXWwGPA9/PzN+Wrar7DIMe4GBsNvtPGwPDQJLkIXCSJMNAkoRhIEnCQ0vVQBGxA/AQcEhm\nXtvS/nNgdmb+vAOfuZDqCpe/WW/Vnpm5po3XzwY+kZmzJ/n5OwA3TvZEqU7+brRxMAzUVL8H5kfE\nLpm5okuf+beZubBLnyV1lWGgpvolcC3VZaSPa10REacD7wHWANcApwLbA1cCS4A9qM4J+K+Z+ZuI\nOBQ4C9iEasZxbGb+ut1CIuITwCuB3YCtqU5WOhB4E/CvwLvrp25V3xHtFcAdwImZuSoiPgQcBbwI\nWAv8t8y8r/5r/g6q8xaOavm8vwD+FjiIalPv5+ufby3wscz8bn0OxD/X7fcCM9v9eTQ1uc9ATXYK\nMCciDm5pexvwTmBPqi/91wHH1+t2Ay7IzJ2pbl7/VxExCJwLzMnMPYCrgfPG+LyzIuLHLf9d3LJu\nF6ov//cAC+r32Bn4U2DX+jmvBv6mfjwAHB8RWwB/TrUJZ2fgG8AHW953cWYG1fkLRMQhVEFwSH1C\n24XAgszcs/65P1+f93AW8KPM3AW4GHj5Bn6XmuKcGaixMvOpiDiWenNR3Xwg8JXM/B1ARCwA3gt8\nG3g8M++qn7cEeCnVF/grgRsiAmA6z90vMGK8zUTXZubqiPg34NHMvLf+/F8As+rnfC8zH6jb/w9w\ndGZeGBFHAu+OiD8GDgV+3PK+d7QsbwX8C9WZzY/VbQcBfxIRZ9WPNwFeC8wGjqh/T9+LiAfHqFsC\nnBmo4TLzGp7dXATPHdN9PPtHz9Mt7cP1uunALZm5e2buDrwReNckSnmmZXn1GM9pbe8Dfh8R2wO3\nU13GYjGwkHVvjvO7luW1wOHA/4iIbeu26cCBLfW/Gbib6udr/V2MVZMEGAbaOJwCzAG2Ba4HjoiI\nzSKiHzgauGGc194BvKX+qxzg48CnOlTnfhHxyoiYRjVb+S5V+CzNzP9V13IY1Rf8aH6TmdcBlwD/\nWLddT71ZKSLeAPwE2Lx+7/fU7W+k2lwmjcnNRGq8ls1FVwOLqP7K/iHV+L6a6otzuzFe+6uIOAb4\nWkRMBx7h2S/Rs4BfZubn6qefFREfXu8tjpxAqfdQ7U/4I6ov8UuBzYATIuJeYBVVIOy8gfc5F/hJ\nRLyTah/EFyLiJ1QziqMyc0VE/B2wMCLuAX4KuJlI4/LaRNIYImIPYJ/MvHiDT5Yazs1E0ti2BS4r\nXYTUDc4MJEnODCRJhoEkCcNAkoRhIEnCMJAkAf8f7YBP2CZcPK0AAAAASUVORK5CYII=\n",
      "text/plain": [
       "<matplotlib.figure.Figure at 0x11215ead0>"
      ]
     },
     "metadata": {},
     "output_type": "display_data"
    }
   ],
   "source": [
    "embarked_count = embarked_cleaned_df.copy()\n",
    "embarked_count = embarked_count.groupby(['Embarked'])\n",
    "\n",
    "embarked_count[['Embarked']].count().unstack().plot(kind='bar').set_ylabel('Total Count')\n",
    "embarked_count.count()"
   ]
  },
  {
   "cell_type": "markdown",
   "metadata": {},
   "source": [
    "#### Mean Survival by Port of Embarkation\n",
    "The passengers who embarked at the port in Cherbourg were likely to survive, although passengers who embarked at the ports in Queenstown and Southampton were not likely to survive. \n",
    "\n",
    "Of all indpendent variables in this analysis, the port of embarkation would have the least effect on passenger survival unless it had some kind of influence on where those passengers' cabins would be located on the ship."
   ]
  },
  {
   "cell_type": "code",
   "execution_count": 99,
   "metadata": {
    "collapsed": false
   },
   "outputs": [
    {
     "name": "stdout",
     "output_type": "stream",
     "text": [
      "Mean Survival by Port of Embarkation:\n"
     ]
    },
    {
     "data": {
      "text/html": [
       "<div>\n",
       "<table border=\"1\" class=\"dataframe\">\n",
       "  <thead>\n",
       "    <tr style=\"text-align: right;\">\n",
       "      <th></th>\n",
       "      <th>Survived</th>\n",
       "    </tr>\n",
       "    <tr>\n",
       "      <th>Embarked</th>\n",
       "      <th></th>\n",
       "    </tr>\n",
       "  </thead>\n",
       "  <tbody>\n",
       "    <tr>\n",
       "      <th>C</th>\n",
       "      <td>0.553571</td>\n",
       "    </tr>\n",
       "    <tr>\n",
       "      <th>Q</th>\n",
       "      <td>0.389610</td>\n",
       "    </tr>\n",
       "    <tr>\n",
       "      <th>S</th>\n",
       "      <td>0.336957</td>\n",
       "    </tr>\n",
       "  </tbody>\n",
       "</table>\n",
       "</div>"
      ],
      "text/plain": [
       "          Survived\n",
       "Embarked          \n",
       "C         0.553571\n",
       "Q         0.389610\n",
       "S         0.336957"
      ]
     },
     "execution_count": 99,
     "metadata": {},
     "output_type": "execute_result"
    },
    {
     "data": {
      "image/png": "iVBORw0KGgoAAAANSUhEUgAAAYAAAAE3CAYAAACjCJZyAAAABHNCSVQICAgIfAhkiAAAAAlwSFlz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\nAABJRU5ErkJggg==\n",
      "text/plain": [
       "<matplotlib.figure.Figure at 0x113521110>"
      ]
     },
     "metadata": {},
     "output_type": "display_data"
    }
   ],
   "source": [
    "embarked_df_mean = embarked_cleaned_df.copy()\n",
    "\n",
    "embarked_df_mean = embarked_df_mean.groupby(['Embarked'])\n",
    "\n",
    "print 'Mean Survival by Port of Embarkation:'\n",
    "embarked_df_mean[['Survived']].mean().unstack().plot(kind='bar').set_ylabel('Mean of Survival')\n",
    "embarked_df_mean.mean()"
   ]
  },
  {
   "cell_type": "markdown",
   "metadata": {},
   "source": [
    "## 4. Summary and Conclusions\n",
    "### Sample Size of this Dataset\n",
    "Using a quick Google search, one can find that the there were **2228** total passengers aboard the Titanic. This dataset contains data about 891 of the passengers, so this dataset may **not** be completely representative of the actual passenger population. To compound this issue, some of the useful data in this dataset is missing. \n",
    "\n",
    "Two of the indpendent variables analyzed in this report, \"Age\" and \"Embarked,\" contained rows with missing data.\n",
    "These missing values could have given more enlightening insights about this dataset, especially in the \"Age\" analysis. Because missing values must be expunged from the analysis, the values that are left have an even stronger influence over results such as mean, standard deviation, and z-score. Some of these values that are left over could include more \"extreme\" data than what was missing, altering the results.\n",
    "\n",
    "### 1. Ticket Fare Results\n",
    "The \"Fare\" column contained no blank records, so all 891 rows from this dataset *could* have been used. Since there were some outliers on the high end that would have altered results, all rows containing ticket fare > 200 were removed. In total, 20 rows were dropped, so 871 rows remained. \n",
    "\n",
    "According to the results from the wrangled ticket fare data, passengers who paid higher fares than passengers who paid lower fares *generally* had a better chance of surviving. A possible explanation for this could be that cabins with higher fares were located closer to lifeboats on the ship as opposed to cabins near the bottom that took longer to reach an area with a lifeboat.\n",
    "\n",
    "The result on ticket fare seems feasible based on intuition, but it is possible that the data from the full population of Titanic passengers may imply a more equal survival rate among passengers with different ticket fares.\n",
    "\n",
    "### 2. Age Results\n",
    "The \"Age\" column contained 177 blank records, so 714 rows from this dataset were used. Since there were no large outliers, no rows were dropped from the 714. \n",
    "\n",
    "According to the results from the wrangled age data, passengers who were within the 0-10 years old range were likely to survive. One explanation for this could be that parents prioritized their childrens' lives over their own, so they were more willing to put their children on a lifeboat then get on one themselves. The age group that had the second highest chance of surviving was the 30-40 years old range. An explanation for this could be that survival of women of child-rearing age were prioritized over other age groups that were not of child-rearing age. The group with the lowest survival rate is the 70+ range, but that result should be taken with a grain of salt because there are only 7 data points available in that range.\n",
    "\n",
    "The result on age seems feasible based on intuition, but it is possible that the data from the full population of Titanic passengers may imply a different survival rate among passengers in different age groups.\n",
    "\n",
    "### 3. Sex Results\n",
    "The \"Sex\" column contained no blank records, so all 891 rows from this dataset were used. No rows were dropped from the 891.\n",
    "\n",
    "According to the results from the sex data, female passengers had a statistically significant better chance of surviving than male passengers. A possible explanation for this could be that men prioritized women's survival over their own, so more women were able to make it to a lifeboat than men were able to.\n",
    "\n",
    "The result on sex seems feasible based on intuition, but it is possible that the data from the full population of Titanic passengers may imply a different survival rate between males and females.\n",
    "\n",
    "### 4. Port of Embarkation Results\n",
    "The \"Embarked\" column contained 2 blank records, so 889 rows from this dataset were used. Since there were no large outliers, no rows were dropped from the 889.\n",
    "\n",
    "According to the results from the port of embarkation data, passengers who embarked from Cherbourg were more likely to survive than passengers who embarked from Southampton and Queenstown. This result is less intuitive than the other previous results (ticket fare, age, sex). The port of embarkation would have the least effect on passenger survival unless it had some kind of influence on where those passengers' cabins would be located on the ship.\n",
    "\n",
    "The result does **not** seem useful because there is such a large disparity between the number of passengers who embarked from Southampton and the number of passengers who embarked from Cherbourg and Queenstown. It is possible that the data from the full population of Titanic passengers may imply a more intuitive result, or further context may show a pattern between port of embarkation and other factors."
   ]
  }
 ],
 "metadata": {
  "kernelspec": {
   "display_name": "Python 2",
   "language": "python",
   "name": "python2"
  },
  "language_info": {
   "codemirror_mode": {
    "name": "ipython",
    "version": 2
   },
   "file_extension": ".py",
   "mimetype": "text/x-python",
   "name": "python",
   "nbconvert_exporter": "python",
   "pygments_lexer": "ipython2",
   "version": "2.7.13"
  }
 },
 "nbformat": 4,
 "nbformat_minor": 2
}
